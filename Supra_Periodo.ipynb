{
 "cells": [
  {
   "cell_type": "markdown",
   "metadata": {},
   "source": [
    "___\n",
    "\n",
    "<a href='http://www.pieriandata.com'> <img src='../Pierian_Data_Logo.png' /></a>\n",
    "___"
   ]
  },
  {
   "cell_type": "markdown",
   "metadata": {
    "collapsed": true
   },
   "source": [
    "# DataFrames\n",
    "\n",
    "DataFrames are the workhorse of pandas and are directly inspired by the R programming language. We can think of a DataFrame as a bunch of Series objects put together to share the same index. Let's use pandas to explore this topic!"
   ]
  },
  {
   "cell_type": "code",
   "execution_count": 33,
   "metadata": {},
   "outputs": [
    {
     "data": {
      "text/plain": [
       "'Portuguese_Brazil.1252'"
      ]
     },
     "execution_count": 33,
     "metadata": {},
     "output_type": "execute_result"
    }
   ],
   "source": [
    "import pandas as pd\n",
    "import numpy as np\n",
    "import locale\n",
    "import matplotlib.pyplot as plt\n",
    "import seaborn as sns\n",
    "%matplotlib inline\n",
    "\n",
    "# Define Moeda Brasileira numeros R$ 1.000,00\n",
    "locale.setlocale( locale.LC_ALL, '' )\n",
    "#locale.currency( g, grouping = True )"
   ]
  },
  {
   "cell_type": "code",
   "execution_count": 34,
   "metadata": {
    "collapsed": true
   },
   "outputs": [],
   "source": [
    "from numpy.random import randn\n",
    "np.random.seed(101)"
   ]
  },
  {
   "cell_type": "code",
   "execution_count": 35,
   "metadata": {
    "collapsed": true
   },
   "outputs": [],
   "source": [
    "pd.options.display.float_format = 'R${:,.2f}'.format"
   ]
  },
  {
   "cell_type": "code",
   "execution_count": 53,
   "metadata": {
    "collapsed": true
   },
   "outputs": [],
   "source": [
    "df = pd.read_csv('')\n",
    "\n",
    "# xml,empresa,NF,data,CNPJ,cidade,bairro,UF,cod,produto,qty,unidade,preco"
   ]
  },
  {
   "cell_type": "code",
   "execution_count": 39,
   "metadata": {
    "collapsed": true
   },
   "outputs": [],
   "source": [
    "#df.drop('xml',axis=1,inplace=True)"
   ]
  },
  {
   "cell_type": "code",
   "execution_count": 54,
   "metadata": {},
   "outputs": [
    {
     "data": {
      "text/html": [
       "<div>\n",
       "<style scoped>\n",
       "    .dataframe tbody tr th:only-of-type {\n",
       "        vertical-align: middle;\n",
       "    }\n",
       "\n",
       "    .dataframe tbody tr th {\n",
       "        vertical-align: top;\n",
       "    }\n",
       "\n",
       "    .dataframe thead th {\n",
       "        text-align: right;\n",
       "    }\n",
       "</style>\n",
       "<table border=\"1\" class=\"dataframe\">\n",
       "  <thead>\n",
       "    <tr style=\"text-align: right;\">\n",
       "      <th></th>\n",
       "      <th>cliente</th>\n",
       "      <th>NF</th>\n",
       "      <th>data</th>\n",
       "      <th>CNPJ</th>\n",
       "      <th>cidade</th>\n",
       "      <th>bairro</th>\n",
       "      <th>UF</th>\n",
       "      <th>cod</th>\n",
       "      <th>descricao</th>\n",
       "      <th>QTY</th>\n",
       "      <th>unidade</th>\n",
       "      <th>preco</th>\n",
       "    </tr>\n",
       "  </thead>\n",
       "  <tbody>\n",
       "    <tr>\n",
       "      <th>0</th>\n",
       "      <td>NF-E EMITIDA EM AMBIENTE DE HOMOLOGACAO - SEM ...</td>\n",
       "      <td>4</td>\n",
       "      <td>2014-08-29</td>\n",
       "      <td>27833615002018</td>\n",
       "      <td>RIO DE JANEIRO</td>\n",
       "      <td>CASIMIRO DE ABREU</td>\n",
       "      <td>RJ</td>\n",
       "      <td>20002</td>\n",
       "      <td>ALHO CEBOLA PICADINHO S/SAL 180GR</td>\n",
       "      <td>1</td>\n",
       "      <td>UN</td>\n",
       "      <td>R$2.77</td>\n",
       "    </tr>\n",
       "    <tr>\n",
       "      <th>1</th>\n",
       "      <td>NF-E EMITIDA EM AMBIENTE DE HOMOLOGACAO - SEM ...</td>\n",
       "      <td>5</td>\n",
       "      <td>2014-08-29</td>\n",
       "      <td>9309021000168</td>\n",
       "      <td>RIO DE JANEIRO</td>\n",
       "      <td>VILA NOVA DE CAMPOS</td>\n",
       "      <td>RJ</td>\n",
       "      <td>10002</td>\n",
       "      <td>ALECRIM 15GR</td>\n",
       "      <td>1</td>\n",
       "      <td>UN</td>\n",
       "      <td>R$1.11</td>\n",
       "    </tr>\n",
       "    <tr>\n",
       "      <th>2</th>\n",
       "      <td>NF-E EMITIDA EM AMBIENTE DE HOMOLOGACAO - SEM ...</td>\n",
       "      <td>6</td>\n",
       "      <td>2014-08-29</td>\n",
       "      <td>9309021000168</td>\n",
       "      <td>ANGRA DOS REIS</td>\n",
       "      <td>VILA NOVA DE CAMPOS</td>\n",
       "      <td>RJ</td>\n",
       "      <td>10001</td>\n",
       "      <td>ACAFRAO 15GR</td>\n",
       "      <td>12</td>\n",
       "      <td>UN</td>\n",
       "      <td>R$9.72</td>\n",
       "    </tr>\n",
       "    <tr>\n",
       "      <th>3</th>\n",
       "      <td>NF-E EMITIDA EM AMBIENTE DE HOMOLOGACAO - SEM ...</td>\n",
       "      <td>6</td>\n",
       "      <td>2014-08-29</td>\n",
       "      <td>9309021000168</td>\n",
       "      <td>ANGRA DOS REIS</td>\n",
       "      <td>VILA NOVA DE CAMPOS</td>\n",
       "      <td>RJ</td>\n",
       "      <td>10002</td>\n",
       "      <td>ALECRIM 15GR</td>\n",
       "      <td>1</td>\n",
       "      <td>UN</td>\n",
       "      <td>R$1.11</td>\n",
       "    </tr>\n",
       "    <tr>\n",
       "      <th>4</th>\n",
       "      <td>NF-E EMITIDA EM AMBIENTE DE HOMOLOGACAO - SEM ...</td>\n",
       "      <td>6</td>\n",
       "      <td>2014-08-29</td>\n",
       "      <td>9309021000168</td>\n",
       "      <td>ANGRA DOS REIS</td>\n",
       "      <td>VILA NOVA DE CAMPOS</td>\n",
       "      <td>RJ</td>\n",
       "      <td>10009</td>\n",
       "      <td>CALDO DE CARNE COM ERVAS FINAS 60GR</td>\n",
       "      <td>1</td>\n",
       "      <td>UN</td>\n",
       "      <td>R$1.43</td>\n",
       "    </tr>\n",
       "  </tbody>\n",
       "</table>\n",
       "</div>"
      ],
      "text/plain": [
       "                                             cliente  NF        data  \\\n",
       "0  NF-E EMITIDA EM AMBIENTE DE HOMOLOGACAO - SEM ...   4  2014-08-29   \n",
       "1  NF-E EMITIDA EM AMBIENTE DE HOMOLOGACAO - SEM ...   5  2014-08-29   \n",
       "2  NF-E EMITIDA EM AMBIENTE DE HOMOLOGACAO - SEM ...   6  2014-08-29   \n",
       "3  NF-E EMITIDA EM AMBIENTE DE HOMOLOGACAO - SEM ...   6  2014-08-29   \n",
       "4  NF-E EMITIDA EM AMBIENTE DE HOMOLOGACAO - SEM ...   6  2014-08-29   \n",
       "\n",
       "             CNPJ          cidade               bairro  UF    cod  \\\n",
       "0  27833615002018  RIO DE JANEIRO    CASIMIRO DE ABREU  RJ  20002   \n",
       "1   9309021000168  RIO DE JANEIRO  VILA NOVA DE CAMPOS  RJ  10002   \n",
       "2   9309021000168  ANGRA DOS REIS  VILA NOVA DE CAMPOS  RJ  10001   \n",
       "3   9309021000168  ANGRA DOS REIS  VILA NOVA DE CAMPOS  RJ  10002   \n",
       "4   9309021000168  ANGRA DOS REIS  VILA NOVA DE CAMPOS  RJ  10009   \n",
       "\n",
       "                             descricao  QTY unidade  preco  \n",
       "0    ALHO CEBOLA PICADINHO S/SAL 180GR    1      UN R$2.77  \n",
       "1                         ALECRIM 15GR    1      UN R$1.11  \n",
       "2                         ACAFRAO 15GR   12      UN R$9.72  \n",
       "3                         ALECRIM 15GR    1      UN R$1.11  \n",
       "4  CALDO DE CARNE COM ERVAS FINAS 60GR    1      UN R$1.43  "
      ]
     },
     "execution_count": 54,
     "metadata": {},
     "output_type": "execute_result"
    }
   ],
   "source": [
    "df.head()"
   ]
  },
  {
   "cell_type": "code",
   "execution_count": 7,
   "metadata": {
    "collapsed": true
   },
   "outputs": [],
   "source": [
    "#produtos = df.produto.unique()\n",
    "#newdf = df[(df['col1']>2) & (df['col2']==444)]\n",
    "#df.loc[:, ['cod', 'produto']]"
   ]
  },
  {
   "cell_type": "code",
   "execution_count": 9,
   "metadata": {
    "collapsed": true
   },
   "outputs": [],
   "source": [
    "#type(produtos)"
   ]
  },
  {
   "cell_type": "code",
   "execution_count": 55,
   "metadata": {
    "collapsed": true
   },
   "outputs": [],
   "source": [
    "# Cria uma coluna com o resultado\n",
    "dadosNF = df[['data','NF']].groupby(['data','NF']).size().reset_index(name='Produtos')"
   ]
  },
  {
   "cell_type": "code",
   "execution_count": 58,
   "metadata": {
    "collapsed": true
   },
   "outputs": [],
   "source": [
    "#dadosNF.head()"
   ]
  },
  {
   "cell_type": "code",
   "execution_count": null,
   "metadata": {
    "collapsed": true
   },
   "outputs": [],
   "source": [
    "#dados = df[['CNPJ','preco']].groupby(['CNPJ']).size().reset_index(name='Volume')\n"
   ]
  },
  {
   "cell_type": "code",
   "execution_count": 75,
   "metadata": {},
   "outputs": [
    {
     "data": {
      "text/html": [
       "<div>\n",
       "<style scoped>\n",
       "    .dataframe tbody tr th:only-of-type {\n",
       "        vertical-align: middle;\n",
       "    }\n",
       "\n",
       "    .dataframe tbody tr th {\n",
       "        vertical-align: top;\n",
       "    }\n",
       "\n",
       "    .dataframe thead th {\n",
       "        text-align: right;\n",
       "    }\n",
       "</style>\n",
       "<table border=\"1\" class=\"dataframe\">\n",
       "  <thead>\n",
       "    <tr style=\"text-align: right;\">\n",
       "      <th></th>\n",
       "      <th>CNPJ</th>\n",
       "      <th>preco</th>\n",
       "    </tr>\n",
       "  </thead>\n",
       "  <tbody>\n",
       "    <tr>\n",
       "      <th>669</th>\n",
       "      <td>73237570000173</td>\n",
       "      <td>R$4,417.43</td>\n",
       "    </tr>\n",
       "    <tr>\n",
       "      <th>670</th>\n",
       "      <td>73915597000178</td>\n",
       "      <td>R$46,103.56</td>\n",
       "    </tr>\n",
       "    <tr>\n",
       "      <th>671</th>\n",
       "      <td>73915597000259</td>\n",
       "      <td>R$112,072.84</td>\n",
       "    </tr>\n",
       "    <tr>\n",
       "      <th>672</th>\n",
       "      <td>74048224000100</td>\n",
       "      <td>R$2,319.11</td>\n",
       "    </tr>\n",
       "    <tr>\n",
       "      <th>673</th>\n",
       "      <td>74126707000185</td>\n",
       "      <td>R$1,344.10</td>\n",
       "    </tr>\n",
       "  </tbody>\n",
       "</table>\n",
       "</div>"
      ],
      "text/plain": [
       "               CNPJ        preco\n",
       "669  73237570000173   R$4,417.43\n",
       "670  73915597000178  R$46,103.56\n",
       "671  73915597000259 R$112,072.84\n",
       "672  74048224000100   R$2,319.11\n",
       "673  74126707000185   R$1,344.10"
      ]
     },
     "execution_count": 75,
     "metadata": {},
     "output_type": "execute_result"
    }
   ],
   "source": [
    "# Compras por Empresa no Periodo\n",
    "comprasEmpresa = df[['CNPJ','preco']].groupby(['CNPJ']).sum().reset_index()\n",
    "comprasEmpresa.tail()"
   ]
  },
  {
   "cell_type": "code",
   "execution_count": 76,
   "metadata": {},
   "outputs": [
    {
     "data": {
      "text/html": [
       "<div>\n",
       "<style scoped>\n",
       "    .dataframe tbody tr th:only-of-type {\n",
       "        vertical-align: middle;\n",
       "    }\n",
       "\n",
       "    .dataframe tbody tr th {\n",
       "        vertical-align: top;\n",
       "    }\n",
       "\n",
       "    .dataframe thead th {\n",
       "        text-align: right;\n",
       "    }\n",
       "</style>\n",
       "<table border=\"1\" class=\"dataframe\">\n",
       "  <thead>\n",
       "    <tr style=\"text-align: right;\">\n",
       "      <th></th>\n",
       "      <th>CNPJ</th>\n",
       "      <th>preco</th>\n",
       "    </tr>\n",
       "  </thead>\n",
       "  <tbody>\n",
       "    <tr>\n",
       "      <th>669</th>\n",
       "      <td>19068286000175</td>\n",
       "      <td>R$287,622.97</td>\n",
       "    </tr>\n",
       "    <tr>\n",
       "      <th>670</th>\n",
       "      <td>29840154000173</td>\n",
       "      <td>R$300,708.01</td>\n",
       "    </tr>\n",
       "    <tr>\n",
       "      <th>671</th>\n",
       "      <td>12434859000198</td>\n",
       "      <td>R$362,693.84</td>\n",
       "    </tr>\n",
       "    <tr>\n",
       "      <th>672</th>\n",
       "      <td>15116388000168</td>\n",
       "      <td>R$367,559.08</td>\n",
       "    </tr>\n",
       "    <tr>\n",
       "      <th>673</th>\n",
       "      <td>12360891000176</td>\n",
       "      <td>R$474,946.97</td>\n",
       "    </tr>\n",
       "  </tbody>\n",
       "</table>\n",
       "</div>"
      ],
      "text/plain": [
       "               CNPJ        preco\n",
       "669  19068286000175 R$287,622.97\n",
       "670  29840154000173 R$300,708.01\n",
       "671  12434859000198 R$362,693.84\n",
       "672  15116388000168 R$367,559.08\n",
       "673  12360891000176 R$474,946.97"
      ]
     },
     "execution_count": 76,
     "metadata": {},
     "output_type": "execute_result"
    }
   ],
   "source": [
    "comprasEmpresa = comprasEmpresa.sort_values(by=['preco']).reset_index(drop=True)\n",
    "comprasEmpresa.tail()"
   ]
  },
  {
   "cell_type": "code",
   "execution_count": null,
   "metadata": {
    "collapsed": true
   },
   "outputs": [],
   "source": []
  },
  {
   "cell_type": "code",
   "execution_count": 96,
   "metadata": {
    "collapsed": true
   },
   "outputs": [],
   "source": [
    "#clientes = df[['CNPJ','cliente','cidade','bairro','UF']]\n",
    "clientes = pd.read_csv('Supra_clientes.csv')#('NFe-SupraAlimentos.csv')\n",
    "clientes= clientes.drop_duplicates()"
   ]
  },
  {
   "cell_type": "code",
   "execution_count": 97,
   "metadata": {},
   "outputs": [
    {
     "data": {
      "text/plain": [
       "674"
      ]
     },
     "execution_count": 97,
     "metadata": {},
     "output_type": "execute_result"
    }
   ],
   "source": [
    "len(clientes) #.head(10)"
   ]
  },
  {
   "cell_type": "code",
   "execution_count": 98,
   "metadata": {},
   "outputs": [
    {
     "data": {
      "text/html": [
       "<div>\n",
       "<style scoped>\n",
       "    .dataframe tbody tr th:only-of-type {\n",
       "        vertical-align: middle;\n",
       "    }\n",
       "\n",
       "    .dataframe tbody tr th {\n",
       "        vertical-align: top;\n",
       "    }\n",
       "\n",
       "    .dataframe thead th {\n",
       "        text-align: right;\n",
       "    }\n",
       "</style>\n",
       "<table border=\"1\" class=\"dataframe\">\n",
       "  <thead>\n",
       "    <tr style=\"text-align: right;\">\n",
       "      <th></th>\n",
       "      <th>CNPJ</th>\n",
       "      <th>cliente</th>\n",
       "      <th>UF</th>\n",
       "      <th>cidade</th>\n",
       "      <th>bairro</th>\n",
       "    </tr>\n",
       "  </thead>\n",
       "  <tbody>\n",
       "    <tr>\n",
       "      <th>0</th>\n",
       "      <td>7394215000183</td>\n",
       "      <td>GILVERLAN BARBOSA SOUTO EPP</td>\n",
       "      <td>BA</td>\n",
       "      <td>NOVA VICOSA</td>\n",
       "      <td>VICOSA</td>\n",
       "    </tr>\n",
       "    <tr>\n",
       "      <th>1</th>\n",
       "      <td>23673682000107</td>\n",
       "      <td>ALINE FAVERO DO NASCIMENTO</td>\n",
       "      <td>BA</td>\n",
       "      <td>PRADO</td>\n",
       "      <td>SAO BRAS</td>\n",
       "    </tr>\n",
       "    <tr>\n",
       "      <th>2</th>\n",
       "      <td>9190998000109</td>\n",
       "      <td>SUPERMERCADO PAGANINI LTDA</td>\n",
       "      <td>ES</td>\n",
       "      <td>ANCHIETA</td>\n",
       "      <td>OLIVEIRA</td>\n",
       "    </tr>\n",
       "    <tr>\n",
       "      <th>3</th>\n",
       "      <td>35994433000275</td>\n",
       "      <td>MERCADO HORTICAXIXE LTDA EPP</td>\n",
       "      <td>ES</td>\n",
       "      <td>ARACRUZ</td>\n",
       "      <td>BARRA DO RIACHO</td>\n",
       "    </tr>\n",
       "    <tr>\n",
       "      <th>4</th>\n",
       "      <td>8357136000165</td>\n",
       "      <td>SUPERMERCADO VALLIN LTDA</td>\n",
       "      <td>ES</td>\n",
       "      <td>ARACRUZ</td>\n",
       "      <td>BARRA DO SAHY</td>\n",
       "    </tr>\n",
       "    <tr>\n",
       "      <th>5</th>\n",
       "      <td>39792205000192</td>\n",
       "      <td>SUPERMERCADO KINKAS LTDA</td>\n",
       "      <td>ES</td>\n",
       "      <td>ARACRUZ</td>\n",
       "      <td>CENTRO</td>\n",
       "    </tr>\n",
       "    <tr>\n",
       "      <th>6</th>\n",
       "      <td>31759699000363</td>\n",
       "      <td>COMERCIAL DEVENS LTDA.</td>\n",
       "      <td>ES</td>\n",
       "      <td>ARACRUZ</td>\n",
       "      <td>CENTRO</td>\n",
       "    </tr>\n",
       "    <tr>\n",
       "      <th>7</th>\n",
       "      <td>31759699000444</td>\n",
       "      <td>COMERCIAL DEVENS LTDA</td>\n",
       "      <td>ES</td>\n",
       "      <td>ARACRUZ</td>\n",
       "      <td>COQUEIRAL</td>\n",
       "    </tr>\n",
       "    <tr>\n",
       "      <th>8</th>\n",
       "      <td>9379562000162</td>\n",
       "      <td>COMERCIAL KINAO LTDA - EPP.</td>\n",
       "      <td>ES</td>\n",
       "      <td>ARACRUZ</td>\n",
       "      <td>GUARANA</td>\n",
       "    </tr>\n",
       "    <tr>\n",
       "      <th>9</th>\n",
       "      <td>9622180000118</td>\n",
       "      <td>KINKAS COMERCIO VAREJISTA LTDA.</td>\n",
       "      <td>ES</td>\n",
       "      <td>ARACRUZ</td>\n",
       "      <td>VILA NOVA</td>\n",
       "    </tr>\n",
       "    <tr>\n",
       "      <th>10</th>\n",
       "      <td>14476627000128</td>\n",
       "      <td>VP SUPERMERCADO LTDA EPP</td>\n",
       "      <td>ES</td>\n",
       "      <td>BOM JESUS DO NORTE</td>\n",
       "      <td>CENTRO</td>\n",
       "    </tr>\n",
       "    <tr>\n",
       "      <th>11</th>\n",
       "      <td>19190781000152</td>\n",
       "      <td>AUTO SERVICO BORGES CAPIXABA LTDA</td>\n",
       "      <td>ES</td>\n",
       "      <td>BOM JESUS DO NORTE</td>\n",
       "      <td>SAO SEBASTIAO</td>\n",
       "    </tr>\n",
       "    <tr>\n",
       "      <th>12</th>\n",
       "      <td>10293889000104</td>\n",
       "      <td>SUPERMERCADO MOLINAROLI LTDA - ME</td>\n",
       "      <td>ES</td>\n",
       "      <td>CACHOEIRO DE ITAPEMIRIM</td>\n",
       "      <td>BASILEIA</td>\n",
       "    </tr>\n",
       "    <tr>\n",
       "      <th>13</th>\n",
       "      <td>2328363000186</td>\n",
       "      <td>SCARPE CEREAIS LTDA</td>\n",
       "      <td>ES</td>\n",
       "      <td>CACHOEIRO DE ITAPEMIRIM</td>\n",
       "      <td>MONTE CRISTO</td>\n",
       "    </tr>\n",
       "    <tr>\n",
       "      <th>14</th>\n",
       "      <td>39379011000160</td>\n",
       "      <td>SUPERMERCADO RAQUEL LTDA - ME</td>\n",
       "      <td>ES</td>\n",
       "      <td>CACHOEIRO DE ITAPEMIRIM</td>\n",
       "      <td>RUI PINTO BANDEIRA</td>\n",
       "    </tr>\n",
       "    <tr>\n",
       "      <th>15</th>\n",
       "      <td>4048163000103</td>\n",
       "      <td>CAMPOS CEREAIS LTDA</td>\n",
       "      <td>ES</td>\n",
       "      <td>CACHOEIRO DE ITAPEMIRIM</td>\n",
       "      <td>SANTA HELENA</td>\n",
       "    </tr>\n",
       "    <tr>\n",
       "      <th>16</th>\n",
       "      <td>39790191000259</td>\n",
       "      <td>AUTO SERVICO COSTA PEREIRA LTDA</td>\n",
       "      <td>ES</td>\n",
       "      <td>CARIACICA</td>\n",
       "      <td>CAMPO GRANDE</td>\n",
       "    </tr>\n",
       "    <tr>\n",
       "      <th>17</th>\n",
       "      <td>26941332000164</td>\n",
       "      <td>SUPERMERCADOS CAMPO GRANDE EIRELI</td>\n",
       "      <td>ES</td>\n",
       "      <td>CARIACICA</td>\n",
       "      <td>CAMPO GRANDE</td>\n",
       "    </tr>\n",
       "    <tr>\n",
       "      <th>18</th>\n",
       "      <td>1848448000122</td>\n",
       "      <td>C R COSTA - ME</td>\n",
       "      <td>ES</td>\n",
       "      <td>CARIACICA</td>\n",
       "      <td>ITANGUA</td>\n",
       "    </tr>\n",
       "    <tr>\n",
       "      <th>19</th>\n",
       "      <td>27547678000145</td>\n",
       "      <td>IPAMAR COMERCIAL LTDA</td>\n",
       "      <td>ES</td>\n",
       "      <td>CARIACICA</td>\n",
       "      <td>NOVA BRASILIA</td>\n",
       "    </tr>\n",
       "  </tbody>\n",
       "</table>\n",
       "</div>"
      ],
      "text/plain": [
       "              CNPJ                            cliente  UF  \\\n",
       "0    7394215000183        GILVERLAN BARBOSA SOUTO EPP  BA   \n",
       "1   23673682000107         ALINE FAVERO DO NASCIMENTO  BA   \n",
       "2    9190998000109         SUPERMERCADO PAGANINI LTDA  ES   \n",
       "3   35994433000275       MERCADO HORTICAXIXE LTDA EPP  ES   \n",
       "4    8357136000165           SUPERMERCADO VALLIN LTDA  ES   \n",
       "5   39792205000192           SUPERMERCADO KINKAS LTDA  ES   \n",
       "6   31759699000363             COMERCIAL DEVENS LTDA.  ES   \n",
       "7   31759699000444              COMERCIAL DEVENS LTDA  ES   \n",
       "8    9379562000162        COMERCIAL KINAO LTDA - EPP.  ES   \n",
       "9    9622180000118    KINKAS COMERCIO VAREJISTA LTDA.  ES   \n",
       "10  14476627000128           VP SUPERMERCADO LTDA EPP  ES   \n",
       "11  19190781000152  AUTO SERVICO BORGES CAPIXABA LTDA  ES   \n",
       "12  10293889000104  SUPERMERCADO MOLINAROLI LTDA - ME  ES   \n",
       "13   2328363000186                SCARPE CEREAIS LTDA  ES   \n",
       "14  39379011000160      SUPERMERCADO RAQUEL LTDA - ME  ES   \n",
       "15   4048163000103                CAMPOS CEREAIS LTDA  ES   \n",
       "16  39790191000259    AUTO SERVICO COSTA PEREIRA LTDA  ES   \n",
       "17  26941332000164  SUPERMERCADOS CAMPO GRANDE EIRELI  ES   \n",
       "18   1848448000122                     C R COSTA - ME  ES   \n",
       "19  27547678000145              IPAMAR COMERCIAL LTDA  ES   \n",
       "\n",
       "                     cidade              bairro  \n",
       "0               NOVA VICOSA              VICOSA  \n",
       "1                     PRADO            SAO BRAS  \n",
       "2                  ANCHIETA            OLIVEIRA  \n",
       "3                   ARACRUZ     BARRA DO RIACHO  \n",
       "4                   ARACRUZ       BARRA DO SAHY  \n",
       "5                   ARACRUZ              CENTRO  \n",
       "6                   ARACRUZ              CENTRO  \n",
       "7                   ARACRUZ           COQUEIRAL  \n",
       "8                   ARACRUZ             GUARANA  \n",
       "9                   ARACRUZ           VILA NOVA  \n",
       "10       BOM JESUS DO NORTE              CENTRO  \n",
       "11       BOM JESUS DO NORTE       SAO SEBASTIAO  \n",
       "12  CACHOEIRO DE ITAPEMIRIM            BASILEIA  \n",
       "13  CACHOEIRO DE ITAPEMIRIM        MONTE CRISTO  \n",
       "14  CACHOEIRO DE ITAPEMIRIM  RUI PINTO BANDEIRA  \n",
       "15  CACHOEIRO DE ITAPEMIRIM        SANTA HELENA  \n",
       "16                CARIACICA        CAMPO GRANDE  \n",
       "17                CARIACICA        CAMPO GRANDE  \n",
       "18                CARIACICA             ITANGUA  \n",
       "19                CARIACICA       NOVA BRASILIA  "
      ]
     },
     "execution_count": 98,
     "metadata": {},
     "output_type": "execute_result"
    }
   ],
   "source": [
    "clientes.head(20)"
   ]
  },
  {
   "cell_type": "code",
   "execution_count": 99,
   "metadata": {
    "collapsed": true
   },
   "outputs": [],
   "source": [
    "comprasTotais = pd.merge(comprasEmpresa, clientes, how='inner', on=['CNPJ']).drop_duplicates(['CNPJ'], keep='last')"
   ]
  },
  {
   "cell_type": "code",
   "execution_count": 100,
   "metadata": {},
   "outputs": [
    {
     "data": {
      "text/plain": [
       "674"
      ]
     },
     "execution_count": 100,
     "metadata": {},
     "output_type": "execute_result"
    }
   ],
   "source": [
    "len(comprasTotais) #.head(50)"
   ]
  },
  {
   "cell_type": "code",
   "execution_count": 102,
   "metadata": {},
   "outputs": [
    {
     "data": {
      "text/html": [
       "<div>\n",
       "<style scoped>\n",
       "    .dataframe tbody tr th:only-of-type {\n",
       "        vertical-align: middle;\n",
       "    }\n",
       "\n",
       "    .dataframe tbody tr th {\n",
       "        vertical-align: top;\n",
       "    }\n",
       "\n",
       "    .dataframe thead th {\n",
       "        text-align: right;\n",
       "    }\n",
       "</style>\n",
       "<table border=\"1\" class=\"dataframe\">\n",
       "  <thead>\n",
       "    <tr style=\"text-align: right;\">\n",
       "      <th></th>\n",
       "      <th>CNPJ</th>\n",
       "      <th>preco</th>\n",
       "      <th>cliente</th>\n",
       "      <th>UF</th>\n",
       "      <th>cidade</th>\n",
       "      <th>bairro</th>\n",
       "    </tr>\n",
       "  </thead>\n",
       "  <tbody>\n",
       "    <tr>\n",
       "      <th>0</th>\n",
       "      <td>9309021000168</td>\n",
       "      <td>R$24.52</td>\n",
       "      <td>NF-E EMITIDA EM AMBIENTE DE HOMOLOGACAO - SEM ...</td>\n",
       "      <td>RJ</td>\n",
       "      <td>ANGRA DOS REIS</td>\n",
       "      <td>VILA NOVA DE CAMPOS</td>\n",
       "    </tr>\n",
       "    <tr>\n",
       "      <th>1</th>\n",
       "      <td>42294744000106</td>\n",
       "      <td>R$115.58</td>\n",
       "      <td>CASA DE AVES NOVA BRASILIA LTDA - EPP</td>\n",
       "      <td>RJ</td>\n",
       "      <td>RIO DE JANEIRO</td>\n",
       "      <td>BONSUCESSO</td>\n",
       "    </tr>\n",
       "    <tr>\n",
       "      <th>2</th>\n",
       "      <td>27103140000141</td>\n",
       "      <td>R$129.93</td>\n",
       "      <td>ANDRADE E MEIRA PANIFICADORA LTDA - ME</td>\n",
       "      <td>RJ</td>\n",
       "      <td>ARMACAO DOS BUZIOS</td>\n",
       "      <td>CENTRO</td>\n",
       "    </tr>\n",
       "    <tr>\n",
       "      <th>3</th>\n",
       "      <td>2101672000119</td>\n",
       "      <td>R$134.91</td>\n",
       "      <td>COMERCIAL LESTE MINAS LTDA</td>\n",
       "      <td>MG</td>\n",
       "      <td>AIMORES</td>\n",
       "      <td>CENTRO</td>\n",
       "    </tr>\n",
       "    <tr>\n",
       "      <th>4</th>\n",
       "      <td>26098410000100</td>\n",
       "      <td>R$139.16</td>\n",
       "      <td>AUTO SERVICO CASA SHOW LTDA - ME</td>\n",
       "      <td>ES</td>\n",
       "      <td>VIANA</td>\n",
       "      <td>UNIVERSAL</td>\n",
       "    </tr>\n",
       "    <tr>\n",
       "      <th>5</th>\n",
       "      <td>35995646000130</td>\n",
       "      <td>R$162.00</td>\n",
       "      <td>SUPERMERCADO DOIS IRMAOS LTDA</td>\n",
       "      <td>ES</td>\n",
       "      <td>COLATINA</td>\n",
       "      <td>VILA NOVA</td>\n",
       "    </tr>\n",
       "    <tr>\n",
       "      <th>6</th>\n",
       "      <td>35994433000275</td>\n",
       "      <td>R$162.00</td>\n",
       "      <td>MERCADO HORTICAXIXE LTDA EPP</td>\n",
       "      <td>ES</td>\n",
       "      <td>ARACRUZ</td>\n",
       "      <td>BARRA DO RIACHO</td>\n",
       "    </tr>\n",
       "    <tr>\n",
       "      <th>7</th>\n",
       "      <td>9612750000199</td>\n",
       "      <td>R$162.73</td>\n",
       "      <td>PADARIA E MERCEARIA G&amp;J LTDA - M</td>\n",
       "      <td>RJ</td>\n",
       "      <td>DUQUE DE CAXIAS</td>\n",
       "      <td>JARDIM IMBARIE</td>\n",
       "    </tr>\n",
       "    <tr>\n",
       "      <th>8</th>\n",
       "      <td>10572977000137</td>\n",
       "      <td>R$166.80</td>\n",
       "      <td>POSTO DAS PIZZAS EIRELI - ME</td>\n",
       "      <td>RJ</td>\n",
       "      <td>RIO DE JANEIRO</td>\n",
       "      <td>BONSUCESSO</td>\n",
       "    </tr>\n",
       "    <tr>\n",
       "      <th>9</th>\n",
       "      <td>24639414000123</td>\n",
       "      <td>R$167.00</td>\n",
       "      <td>LUCAS CIPRESTE DE VARGAS - ME</td>\n",
       "      <td>ES</td>\n",
       "      <td>PIUMA</td>\n",
       "      <td>JARDIM MAILY</td>\n",
       "    </tr>\n",
       "  </tbody>\n",
       "</table>\n",
       "</div>"
      ],
      "text/plain": [
       "             CNPJ    preco                                            cliente  \\\n",
       "0   9309021000168  R$24.52  NF-E EMITIDA EM AMBIENTE DE HOMOLOGACAO - SEM ...   \n",
       "1  42294744000106 R$115.58              CASA DE AVES NOVA BRASILIA LTDA - EPP   \n",
       "2  27103140000141 R$129.93             ANDRADE E MEIRA PANIFICADORA LTDA - ME   \n",
       "3   2101672000119 R$134.91                         COMERCIAL LESTE MINAS LTDA   \n",
       "4  26098410000100 R$139.16                   AUTO SERVICO CASA SHOW LTDA - ME   \n",
       "5  35995646000130 R$162.00                      SUPERMERCADO DOIS IRMAOS LTDA   \n",
       "6  35994433000275 R$162.00                       MERCADO HORTICAXIXE LTDA EPP   \n",
       "7   9612750000199 R$162.73                   PADARIA E MERCEARIA G&J LTDA - M   \n",
       "8  10572977000137 R$166.80                       POSTO DAS PIZZAS EIRELI - ME   \n",
       "9  24639414000123 R$167.00                      LUCAS CIPRESTE DE VARGAS - ME   \n",
       "\n",
       "   UF              cidade               bairro  \n",
       "0  RJ      ANGRA DOS REIS  VILA NOVA DE CAMPOS  \n",
       "1  RJ      RIO DE JANEIRO           BONSUCESSO  \n",
       "2  RJ  ARMACAO DOS BUZIOS               CENTRO  \n",
       "3  MG             AIMORES               CENTRO  \n",
       "4  ES               VIANA            UNIVERSAL  \n",
       "5  ES            COLATINA            VILA NOVA  \n",
       "6  ES             ARACRUZ      BARRA DO RIACHO  \n",
       "7  RJ     DUQUE DE CAXIAS       JARDIM IMBARIE  \n",
       "8  RJ      RIO DE JANEIRO           BONSUCESSO  \n",
       "9  ES               PIUMA         JARDIM MAILY  "
      ]
     },
     "execution_count": 102,
     "metadata": {},
     "output_type": "execute_result"
    }
   ],
   "source": [
    "comprasTotais.head(10)"
   ]
  },
  {
   "cell_type": "code",
   "execution_count": 104,
   "metadata": {
    "collapsed": true
   },
   "outputs": [],
   "source": [
    "comprasTotais.to_csv('C:\\Mettricx\\Projetos\\SupraAlimentos\\PowerBI\\Supra_TotalClientes.csv',encoding='utf-8', index=False)"
   ]
  },
  {
   "cell_type": "code",
   "execution_count": 13,
   "metadata": {},
   "outputs": [
    {
     "data": {
      "text/plain": [
       "'R$474.946,97'"
      ]
     },
     "execution_count": 13,
     "metadata": {},
     "output_type": "execute_result"
    }
   ],
   "source": [
    "# Maior_Compra\n",
    "g = float(\"{0:.2f}\".format(dados['preco'].max())) \n",
    "Maior_Compra = locale.currency( g, grouping = True ) \n",
    "Maior_Compra"
   ]
  },
  {
   "cell_type": "code",
   "execution_count": 14,
   "metadata": {},
   "outputs": [
    {
     "data": {
      "text/plain": [
       "'R$24,52'"
      ]
     },
     "execution_count": 14,
     "metadata": {},
     "output_type": "execute_result"
    }
   ],
   "source": [
    "# Menor_Compra\n",
    "g = float(\"{0:.2f}\".format(dados['preco'].min())) \n",
    "Menor_Compra = locale.currency( g, grouping = True )\n",
    "\n",
    "Menor_Compra\n"
   ]
  },
  {
   "cell_type": "code",
   "execution_count": 15,
   "metadata": {},
   "outputs": [
    {
     "data": {
      "text/plain": [
       "17326.016275964375"
      ]
     },
     "execution_count": 15,
     "metadata": {},
     "output_type": "execute_result"
    }
   ],
   "source": [
    "# Compra_Media\n",
    "g = float(\"{0:.2f}\".format(dados['preco'].mean())) \n",
    "Compra_Media = locale.currency( g, grouping = True )\n",
    "(float(dados['preco'].mean()))"
   ]
  },
  {
   "cell_type": "code",
   "execution_count": 16,
   "metadata": {},
   "outputs": [
    {
     "data": {
      "text/plain": [
       "'R$11.677.734,97'"
      ]
     },
     "execution_count": 16,
     "metadata": {},
     "output_type": "execute_result"
    }
   ],
   "source": [
    "# Total de Venda\n",
    "g = float(\"{0:.2f}\".format(dados['preco'].sum())) \n",
    "Total_Compra = locale.currency( g, grouping = True )\n",
    "Total_Compra"
   ]
  },
  {
   "cell_type": "code",
   "execution_count": 17,
   "metadata": {},
   "outputs": [
    {
     "data": {
      "text/plain": [
       "674"
      ]
     },
     "execution_count": 17,
     "metadata": {},
     "output_type": "execute_result"
    }
   ],
   "source": [
    "# Número de Clientes\n",
    "Num_Clientes = len(dados)\n",
    "Num_Clientes"
   ]
  },
  {
   "cell_type": "code",
   "execution_count": 19,
   "metadata": {
    "collapsed": true
   },
   "outputs": [],
   "source": [
    "#dados.describe()"
   ]
  },
  {
   "cell_type": "code",
   "execution_count": 20,
   "metadata": {},
   "outputs": [
    {
     "data": {
      "text/plain": [
       "8663.008137982188"
      ]
     },
     "execution_count": 20,
     "metadata": {},
     "output_type": "execute_result"
    }
   ],
   "source": [
    "nivel_0 =  0.50 * (dados['preco'].mean())\n",
    "nivel_0\n"
   ]
  },
  {
   "cell_type": "code",
   "execution_count": 21,
   "metadata": {},
   "outputs": [
    {
     "data": {
      "text/plain": [
       "25989.024413946565"
      ]
     },
     "execution_count": 21,
     "metadata": {},
     "output_type": "execute_result"
    }
   ],
   "source": [
    "nivel_1 =  1.50 * (dados['preco'].mean())\n",
    "nivel_1"
   ]
  },
  {
   "cell_type": "code",
   "execution_count": 16,
   "metadata": {
    "collapsed": true
   },
   "outputs": [],
   "source": [
    "#dados.loc[0:5,['Campo1','Campo2']]"
   ]
  },
  {
   "cell_type": "code",
   "execution_count": null,
   "metadata": {
    "collapsed": true
   },
   "outputs": [],
   "source": [
    "# dados.loc[:,'col1':'col2'].applymap(float)"
   ]
  },
  {
   "cell_type": "code",
   "execution_count": 22,
   "metadata": {
    "collapsed": true
   },
   "outputs": [],
   "source": [
    "def Media(x):\n",
    "    if(x <= nivel_0):\n",
    "        tot = 0.2\n",
    "    elif(x <= nivel_1):\n",
    "        tot = 0.8\n",
    "    else:\n",
    "        tot = 1\n",
    "    return tot   \n"
   ]
  },
  {
   "cell_type": "code",
   "execution_count": 23,
   "metadata": {
    "collapsed": true
   },
   "outputs": [],
   "source": [
    "dados['status'] = dados['preco'].map(lambda x: Media(x))"
   ]
  },
  {
   "cell_type": "code",
   "execution_count": 24,
   "metadata": {
    "collapsed": true
   },
   "outputs": [],
   "source": [
    "bons = dados[dados['status']==1]"
   ]
  },
  {
   "cell_type": "code",
   "execution_count": 25,
   "metadata": {
    "collapsed": true
   },
   "outputs": [],
   "source": [
    "medios = dados[dados['status']==0.8]"
   ]
  },
  {
   "cell_type": "code",
   "execution_count": 26,
   "metadata": {
    "collapsed": true
   },
   "outputs": [],
   "source": [
    "pequenos = dados[dados['status']==0.2]"
   ]
  },
  {
   "cell_type": "code",
   "execution_count": 27,
   "metadata": {},
   "outputs": [
    {
     "data": {
      "text/plain": [
       "105"
      ]
     },
     "execution_count": 27,
     "metadata": {},
     "output_type": "execute_result"
    }
   ],
   "source": [
    "len(bons)"
   ]
  },
  {
   "cell_type": "code",
   "execution_count": 28,
   "metadata": {
    "collapsed": true
   },
   "outputs": [],
   "source": [
    "medios.head()\n",
    "m=medios.sort_values(by='preco', ascending=False)"
   ]
  },
  {
   "cell_type": "code",
   "execution_count": 29,
   "metadata": {},
   "outputs": [
    {
     "data": {
      "text/plain": [
       "443"
      ]
     },
     "execution_count": 29,
     "metadata": {},
     "output_type": "execute_result"
    }
   ],
   "source": [
    "len(pequenos)"
   ]
  },
  {
   "cell_type": "code",
   "execution_count": 30,
   "metadata": {
    "collapsed": true
   },
   "outputs": [],
   "source": [
    "import matplotlib.pyplot as plt\n",
    "import seaborn as sns\n",
    "\n",
    "%matplotlib inline"
   ]
  },
  {
   "cell_type": "code",
   "execution_count": 31,
   "metadata": {
    "collapsed": true
   },
   "outputs": [],
   "source": [
    "plt.rcParams['figure.figsize']=(15,6)"
   ]
  },
  {
   "cell_type": "code",
   "execution_count": 32,
   "metadata": {},
   "outputs": [
    {
     "data": {
      "text/plain": [
       "<matplotlib.figure.Figure at 0x27dc7f7d630>"
      ]
     },
     "metadata": {},
     "output_type": "display_data"
    },
    {
     "data": {
      "image/png": "[encoded data removed]",
      "text/plain": [
       "<matplotlib.figure.Figure at 0x27dc7f7dc18>"
      ]
     },
     "metadata": {},
     "output_type": "display_data"
    }
   ],
   "source": [
    " plt.figure(); medios.plot(style='k--', label='Series');"
   ]
  },
  {
   "cell_type": "code",
   "execution_count": 58,
   "metadata": {
    "collapsed": true
   },
   "outputs": [],
   "source": [
    "a=[]\n",
    "c = range(126)"
   ]
  },
  {
   "cell_type": "code",
   "execution_count": 59,
   "metadata": {},
   "outputs": [
    {
     "data": {
      "text/plain": [
       "range"
      ]
     },
     "execution_count": 59,
     "metadata": {},
     "output_type": "execute_result"
    }
   ],
   "source": [
    "type(c)"
   ]
  },
  {
   "cell_type": "code",
   "execution_count": 49,
   "metadata": {},
   "outputs": [
    {
     "data": {
      "text/plain": [
       "[]"
      ]
     },
     "execution_count": 49,
     "metadata": {},
     "output_type": "execute_result"
    }
   ],
   "source": [
    "ind"
   ]
  },
  {
   "cell_type": "code",
   "execution_count": 50,
   "metadata": {},
   "outputs": [
    {
     "data": {
      "text/plain": [
       "126"
      ]
     },
     "execution_count": 50,
     "metadata": {},
     "output_type": "execute_result"
    }
   ],
   "source": [
    "len(m)"
   ]
  },
  {
   "cell_type": "code",
   "execution_count": 43,
   "metadata": {},
   "outputs": [
    {
     "data": {
      "text/plain": [
       "<matplotlib.text.Text at 0x2c81d53d2e8>"
      ]
     },
     "execution_count": 43,
     "metadata": {},
     "output_type": "execute_result"
    },
    {
     "data": {
      "image/png": "[encoded data removed]",
      "text/plain": [
       "<matplotlib.figure.Figure at 0x2c81cdc8e48>"
      ]
     },
     "metadata": {},
     "output_type": "display_data"
    }
   ],
   "source": [
    "graficoMedios = m[['preco']].plot.line()\n",
    "graficoMedios.set_xlabel('Clientes Médios')\n",
    "graficoMedios.set_ylabel('Tot Compras')\n",
    "graficoMedios.set_title('Volume de Compras')"
   ]
  },
  {
   "cell_type": "code",
   "execution_count": null,
   "metadata": {
    "collapsed": true
   },
   "outputs": [],
   "source": []
  },
  {
   "cell_type": "code",
   "execution_count": null,
   "metadata": {
    "collapsed": true
   },
   "outputs": [],
   "source": [
    "dados.preco"
   ]
  },
  {
   "cell_type": "code",
   "execution_count": null,
   "metadata": {
    "collapsed": true
   },
   "outputs": [],
   "source": [
    "dados['media']= dados['preco'] #dados['media'].apply(Media(dados['preco']))"
   ]
  },
  {
   "cell_type": "code",
   "execution_count": null,
   "metadata": {
    "collapsed": true
   },
   "outputs": [],
   "source": []
  },
  {
   "cell_type": "code",
   "execution_count": null,
   "metadata": {
    "collapsed": true
   },
   "outputs": [],
   "source": [
    "dados['media'].apply(Media(dados['preco']))"
   ]
  },
  {
   "cell_type": "code",
   "execution_count": null,
   "metadata": {
    "collapsed": true
   },
   "outputs": [],
   "source": [
    "k=0 \n",
    "for j in dados:\n",
    "    print['preco']\n",
    "    if(dados['preco'] <= nivel_0):\n",
    "        tot_0 += dados['preco']\n",
    "    elif(dados['preco'] <= nivel_1):\n",
    "        tot_1 += dados['preco']\n",
    "    else:\n",
    "        tot_2 += dados['preco']\n",
    "\n",
    "        "
   ]
  },
  {
   "cell_type": "code",
   "execution_count": null,
   "metadata": {
    "collapsed": true
   },
   "outputs": [],
   "source": [
    "dados.head()"
   ]
  },
  {
   "cell_type": "code",
   "execution_count": null,
   "metadata": {
    "collapsed": true
   },
   "outputs": [],
   "source": [
    "y = dados['preco'] <= dados['preco'].mean()"
   ]
  },
  {
   "cell_type": "code",
   "execution_count": null,
   "metadata": {
    "collapsed": true
   },
   "outputs": [],
   "source": [
    "type(y)"
   ]
  },
  {
   "cell_type": "code",
   "execution_count": null,
   "metadata": {
    "collapsed": true
   },
   "outputs": [],
   "source": [
    "def media(x):\n",
    "    "
   ]
  },
  {
   "cell_type": "code",
   "execution_count": null,
   "metadata": {
    "collapsed": true
   },
   "outputs": [],
   "source": [
    "type(dados)"
   ]
  },
  {
   "cell_type": "code",
   "execution_count": null,
   "metadata": {
    "collapsed": true
   },
   "outputs": [],
   "source": [
    "n_groups = 674\n",
    "\n",
    "means_men = y\n",
    "std_men   = 0\n",
    "\n",
    "\n",
    "fig, ax = plt.subplots()\n",
    "\n",
    "index = np.arange(n_groups)\n",
    "bar_width = 0.7\n",
    "\n",
    "opacity = 0.4\n",
    "error_config = {'ecolor': '0.3'}\n",
    "\n",
    "rects1 = ax.bar(index, means_men, bar_width,\n",
    "                alpha=opacity,\n",
    "                color='b', \n",
    "                yerr=std_men, \n",
    "                error_kw=error_config\n",
    "                )\n",
    "\n",
    "ax.set_xlabel('CNPJ')\n",
    "ax.set_ylabel('Venda')\n",
    "ax.set_title('Volume Vendas por Cliente')\n",
    "ax.set_xticks(index + bar_width )\n",
    "ax.set_xticklabels(dados)\n",
    "ax.legend()\n",
    "\n",
    "fig.tight_layout()\n",
    "\n",
    "plt.rcParams[\"figure.figsize\"] = (30,20)\n",
    "plt.axhline(y=22580, zorder=0)\n",
    "plt.plot()\n",
    "plt.show()"
   ]
  },
  {
   "cell_type": "code",
   "execution_count": null,
   "metadata": {
    "collapsed": true
   },
   "outputs": [],
   "source": [
    "fig = plt.figure(); ax = fig.add_subplot(1, 1, 1)\n",
    "ax.plot(randn(1000).cumsum(), 'k', label='one')"
   ]
  },
  {
   "cell_type": "code",
   "execution_count": null,
   "metadata": {
    "collapsed": true
   },
   "outputs": [],
   "source": [
    "clientes = df[['CNPJ','cliente','cidade','bairro','UF']]\n",
    "clientes= clientes.drop_duplicates()"
   ]
  },
  {
   "cell_type": "code",
   "execution_count": null,
   "metadata": {
    "collapsed": true
   },
   "outputs": [],
   "source": [
    "clientes= clientes.drop_duplicates()"
   ]
  },
  {
   "cell_type": "code",
   "execution_count": null,
   "metadata": {
    "collapsed": true
   },
   "outputs": [],
   "source": [
    "clientes"
   ]
  },
  {
   "cell_type": "code",
   "execution_count": null,
   "metadata": {
    "collapsed": true
   },
   "outputs": [],
   "source": [
    "clientes= clientes.drop_duplicates()\n",
    "clientes.to_csv('clientes.csv')"
   ]
  },
  {
   "cell_type": "code",
   "execution_count": null,
   "metadata": {
    "collapsed": true
   },
   "outputs": [],
   "source": [
    "clientes.sort_values(by=['UF', 'cidade'])"
   ]
  },
  {
   "cell_type": "code",
   "execution_count": null,
   "metadata": {
    "collapsed": true
   },
   "outputs": [],
   "source": [
    "#cliCompras = df['preco'].groupby(df['CNPJ']).sum()\n",
    "cliCompras10 = df['preco'].groupby(df['CNPJ'])\n",
    "#df.groupby(['CNPJ', 'preco']).preco.sum()\n",
    "\n",
    "#grouped_multiple_column = df.groupby(['CNPJ','preco'])['preco']\n",
    "#lista = df[['CNPJ','preco']]"
   ]
  },
  {
   "cell_type": "code",
   "execution_count": null,
   "metadata": {
    "collapsed": true
   },
   "outputs": [],
   "source": [
    "#cliCompras10.index.names"
   ]
  },
  {
   "cell_type": "code",
   "execution_count": null,
   "metadata": {
    "collapsed": true
   },
   "outputs": [],
   "source": [
    "type(cliCompras10).sum()"
   ]
  },
  {
   "cell_type": "code",
   "execution_count": null,
   "metadata": {
    "collapsed": true
   },
   "outputs": [],
   "source": [
    "cliCompras10.groups"
   ]
  },
  {
   "cell_type": "code",
   "execution_count": null,
   "metadata": {
    "collapsed": true
   },
   "outputs": [],
   "source": [
    "#cliCompras10).sum()\n",
    "for name, group in cliCompras10:\n",
    "    print(name)\n",
    "    print(group.shape)"
   ]
  },
  {
   "cell_type": "code",
   "execution_count": null,
   "metadata": {
    "collapsed": true
   },
   "outputs": [],
   "source": [
    "cliCompras10.loc[0]['175479000105']\n",
    "#df.loc[0]['A'])"
   ]
  },
  {
   "cell_type": "code",
   "execution_count": null,
   "metadata": {
    "collapsed": true
   },
   "outputs": [],
   "source": []
  },
  {
   "cell_type": "code",
   "execution_count": null,
   "metadata": {
    "collapsed": true
   },
   "outputs": [],
   "source": [
    "#grouped_multiple_column\n"
   ]
  },
  {
   "cell_type": "code",
   "execution_count": null,
   "metadata": {
    "collapsed": true
   },
   "outputs": [],
   "source": [
    "p = lista['preco'].groupby(df['CNPJ']).sum()"
   ]
  },
  {
   "cell_type": "code",
   "execution_count": null,
   "metadata": {
    "collapsed": true
   },
   "outputs": [],
   "source": [
    "p"
   ]
  },
  {
   "cell_type": "code",
   "execution_count": null,
   "metadata": {
    "collapsed": true
   },
   "outputs": [],
   "source": [
    "clienteCompras = cliCompras.to_frame()"
   ]
  },
  {
   "cell_type": "code",
   "execution_count": null,
   "metadata": {
    "collapsed": true
   },
   "outputs": [],
   "source": [
    "type(clienteCompras )"
   ]
  },
  {
   "cell_type": "code",
   "execution_count": null,
   "metadata": {
    "collapsed": true
   },
   "outputs": [],
   "source": [
    "clienteCompras.tail()"
   ]
  },
  {
   "cell_type": "code",
   "execution_count": null,
   "metadata": {
    "collapsed": true
   },
   "outputs": [],
   "source": [
    "clientesCompras['preco']="
   ]
  },
  {
   "cell_type": "code",
   "execution_count": null,
   "metadata": {
    "collapsed": true
   },
   "outputs": [],
   "source": [
    "clienteCompras.columns.values\n"
   ]
  },
  {
   "cell_type": "code",
   "execution_count": null,
   "metadata": {
    "collapsed": true
   },
   "outputs": [],
   "source": []
  },
  {
   "cell_type": "code",
   "execution_count": null,
   "metadata": {
    "collapsed": true
   },
   "outputs": [],
   "source": [
    "totVendas = clienteCompras.sum()"
   ]
  },
  {
   "cell_type": "code",
   "execution_count": null,
   "metadata": {
    "collapsed": true
   },
   "outputs": [],
   "source": [
    "(totVendas)\n",
    "#f=locale.currency( g, grouping = True )"
   ]
  },
  {
   "cell_type": "code",
   "execution_count": null,
   "metadata": {
    "collapsed": true
   },
   "outputs": [],
   "source": [
    "for row in clienteCompras.itertuples():\n",
    "    print(\"c1 :\",row.preco)"
   ]
  },
  {
   "cell_type": "code",
   "execution_count": null,
   "metadata": {
    "collapsed": true
   },
   "outputs": [],
   "source": [
    "j=0\n",
    "for i in clienteCompras.index()\n",
    "        print(cliente.iloc[j])\n",
    "        j += 1"
   ]
  },
  {
   "cell_type": "code",
   "execution_count": null,
   "metadata": {
    "collapsed": true
   },
   "outputs": [],
   "source": [
    "clienteCompras['preco']"
   ]
  },
  {
   "cell_type": "code",
   "execution_count": null,
   "metadata": {
    "collapsed": true
   },
   "outputs": [],
   "source": [
    "g = float(\"{0:.2f}\".format(tot)) f=locale.currency( g, grouping = True )\n",
    "clienteCompras.sort_values(by='preco', ascending=False)"
   ]
  },
  {
   "cell_type": "code",
   "execution_count": null,
   "metadata": {
    "collapsed": true
   },
   "outputs": [],
   "source": [
    "for key in grouped:\n",
    "    print(key)"
   ]
  },
  {
   "cell_type": "code",
   "execution_count": null,
   "metadata": {
    "collapsed": true
   },
   "outputs": [],
   "source": [
    "#df['cod']\n",
    "#df.loc(163689)\n",
    "prod = df[['cod', 'produto']]"
   ]
  },
  {
   "cell_type": "code",
   "execution_count": null,
   "metadata": {
    "collapsed": true
   },
   "outputs": [],
   "source": [
    "prod"
   ]
  },
  {
   "cell_type": "code",
   "execution_count": null,
   "metadata": {
    "collapsed": true
   },
   "outputs": [],
   "source": [
    "type(prod)"
   ]
  },
  {
   "cell_type": "code",
   "execution_count": null,
   "metadata": {
    "collapsed": true
   },
   "outputs": [],
   "source": [
    "produto= prod.drop_duplicates()"
   ]
  },
  {
   "cell_type": "code",
   "execution_count": null,
   "metadata": {
    "collapsed": true
   },
   "outputs": [],
   "source": [
    "(produto)"
   ]
  },
  {
   "cell_type": "code",
   "execution_count": null,
   "metadata": {
    "collapsed": true
   },
   "outputs": [],
   "source": [
    "produto.to_csv('produtos.csv')"
   ]
  },
  {
   "cell_type": "code",
   "execution_count": null,
   "metadata": {
    "collapsed": true
   },
   "outputs": [],
   "source": [
    "a=s.values"
   ]
  },
  {
   "cell_type": "code",
   "execution_count": null,
   "metadata": {
    "collapsed": true
   },
   "outputs": [],
   "source": [
    "len(a)"
   ]
  },
  {
   "cell_type": "code",
   "execution_count": null,
   "metadata": {
    "collapsed": true
   },
   "outputs": [],
   "source": [
    "#df.loc[:, ['cod', 'produto']]\n",
    "df[df.cod=='01.0002']"
   ]
  },
  {
   "cell_type": "code",
   "execution_count": null,
   "metadata": {
    "collapsed": true
   },
   "outputs": [],
   "source": [
    "A = df['A'].copy()\n",
    "A.sort_values(inplace=True)"
   ]
  },
  {
   "cell_type": "code",
   "execution_count": null,
   "metadata": {
    "collapsed": true
   },
   "outputs": [],
   "source": [
    "produtos.sort()"
   ]
  },
  {
   "cell_type": "code",
   "execution_count": null,
   "metadata": {
    "collapsed": true
   },
   "outputs": [],
   "source": [
    "j=0\n",
    "for i in produtos:\n",
    "    print(produtos[j])\n",
    "    j += 1"
   ]
  },
  {
   "cell_type": "code",
   "execution_count": null,
   "metadata": {
    "collapsed": true
   },
   "outputs": [],
   "source": [
    "df.head()"
   ]
  },
  {
   "cell_type": "markdown",
   "metadata": {},
   "source": [
    "## Selection and Indexing\n",
    "\n",
    "Let's learn the various methods to grab data from a DataFrame"
   ]
  },
  {
   "cell_type": "code",
   "execution_count": null,
   "metadata": {
    "collapsed": true
   },
   "outputs": [],
   "source": [
    "df[['preco']] = df[['preco']].apply(pd.to_numeric)"
   ]
  },
  {
   "cell_type": "code",
   "execution_count": null,
   "metadata": {
    "collapsed": true
   },
   "outputs": [],
   "source": [
    "df = df.drop(df_UN, axis=1)"
   ]
  },
  {
   "cell_type": "code",
   "execution_count": null,
   "metadata": {
    "collapsed": true
   },
   "outputs": [],
   "source": [
    "tot = df['preco'].sum()"
   ]
  },
  {
   "cell_type": "code",
   "execution_count": null,
   "metadata": {
    "collapsed": true
   },
   "outputs": [],
   "source": [
    "g = float(\"{0:.2f}\".format(tot)) f=locale.currency( g, grouping = True )"
   ]
  },
  {
   "cell_type": "code",
   "execution_count": null,
   "metadata": {
    "collapsed": true
   },
   "outputs": [],
   "source": [
    "g"
   ]
  },
  {
   "cell_type": "code",
   "execution_count": null,
   "metadata": {
    "collapsed": true
   },
   "outputs": [],
   "source": [
    "\n",
    "f=locale.currency( g, grouping = True )"
   ]
  },
  {
   "cell_type": "code",
   "execution_count": null,
   "metadata": {
    "collapsed": true
   },
   "outputs": [],
   "source": [
    "f"
   ]
  },
  {
   "cell_type": "code",
   "execution_count": null,
   "metadata": {
    "collapsed": true
   },
   "outputs": [],
   "source": [
    "tot."
   ]
  },
  {
   "cell_type": "code",
   "execution_count": null,
   "metadata": {
    "collapsed": true
   },
   "outputs": [],
   "source": [
    "msk = df.dtypes == np.float64 #df.loc[:, msk]\n",
    "msk"
   ]
  },
  {
   "cell_type": "code",
   "execution_count": null,
   "metadata": {
    "collapsed": true
   },
   "outputs": [],
   "source": [
    "# Numero de Clientes\n",
    "a=df.groupby(['CNPJ','NF','preco'])"
   ]
  },
  {
   "cell_type": "code",
   "execution_count": null,
   "metadata": {
    "collapsed": true
   },
   "outputs": [],
   "source": [
    "#dados = olx.groupby(olx['timestamp'].str[8:10]).size()\n",
    "#df.groupby(['NF']).sum()\n",
    "#df.groupby(['CNPJ', 'NF'])['preco'].agg('sum')\n",
    "#a=df.groupby(['CNPJ',df['data']])['NF'].unique() #.count() #agg('sum') .str[0:7]\n",
    "cnpjCompras = df.groupby(['CNPJ'])['preco'].agg('sum')"
   ]
  },
  {
   "cell_type": "code",
   "execution_count": null,
   "metadata": {
    "collapsed": true
   },
   "outputs": [],
   "source": [
    "type(cnpjCompras)"
   ]
  },
  {
   "cell_type": "code",
   "execution_count": null,
   "metadata": {
    "collapsed": true
   },
   "outputs": [],
   "source": [
    "cnpjCompras.count()"
   ]
  },
  {
   "cell_type": "code",
   "execution_count": null,
   "metadata": {
    "collapsed": true
   },
   "outputs": [],
   "source": [
    "f=locale.currency( cnpjCompras.min(), grouping = True )"
   ]
  },
  {
   "cell_type": "code",
   "execution_count": null,
   "metadata": {
    "collapsed": true
   },
   "outputs": [],
   "source": [
    "f"
   ]
  },
  {
   "cell_type": "code",
   "execution_count": null,
   "metadata": {
    "collapsed": true
   },
   "outputs": [],
   "source": [
    "df.groupby(['CNPJ','NF']).size()"
   ]
  },
  {
   "cell_type": "code",
   "execution_count": null,
   "metadata": {
    "collapsed": true
   },
   "outputs": [],
   "source": [
    "type(a)"
   ]
  },
  {
   "cell_type": "code",
   "execution_count": null,
   "metadata": {
    "collapsed": true
   },
   "outputs": [],
   "source": [
    "a\n"
   ]
  },
  {
   "cell_type": "code",
   "execution_count": null,
   "metadata": {
    "collapsed": true
   },
   "outputs": [],
   "source": [
    "df"
   ]
  },
  {
   "cell_type": "code",
   "execution_count": null,
   "metadata": {
    "collapsed": true
   },
   "outputs": [],
   "source": [
    "# Pass a list of column names\n",
    "#Select * from df\n",
    "lista = df[['data','CNPJ','cidade']]"
   ]
  },
  {
   "cell_type": "code",
   "execution_count": null,
   "metadata": {
    "collapsed": true
   },
   "outputs": [],
   "source": [
    "(lista)"
   ]
  },
  {
   "cell_type": "code",
   "execution_count": null,
   "metadata": {
    "collapsed": true
   },
   "outputs": [],
   "source": [
    "# Select Descrição da linha 100\n",
    "# loc pega pela Chave\n",
    "df['descricao'].loc[100]"
   ]
  },
  {
   "cell_type": "code",
   "execution_count": null,
   "metadata": {
    "collapsed": true
   },
   "outputs": [],
   "source": [
    "# Select * where linha = 100\n",
    "#linha = df.iloc[1:10] # Pega da index 1 a 9\n",
    "#linha = df.iloc[10]   # Pega a linha 10\n",
    "linha = df.iloc[:10] \n",
    "\n",
    "df.iloc[4514]"
   ]
  },
  {
   "cell_type": "code",
   "execution_count": null,
   "metadata": {
    "collapsed": true
   },
   "outputs": [],
   "source": [
    "df[df['produto']=='106']"
   ]
  },
  {
   "cell_type": "code",
   "execution_count": null,
   "metadata": {
    "collapsed": true
   },
   "outputs": [],
   "source": [
    "(linha)"
   ]
  },
  {
   "cell_type": "code",
   "execution_count": null,
   "metadata": {
    "collapsed": true
   },
   "outputs": [],
   "source": [
    "df[df['W']>0]['Y']     #df[(df['W']>0) & (df['Y'] > 1)]"
   ]
  },
  {
   "cell_type": "code",
   "execution_count": null,
   "metadata": {
    "collapsed": true
   },
   "outputs": [],
   "source": [
    "linha.Bairro\n",
    "#linha.CNPJ\n",
    "#linha.Preco"
   ]
  },
  {
   "cell_type": "code",
   "execution_count": null,
   "metadata": {
    "collapsed": true
   },
   "outputs": [],
   "source": []
  },
  {
   "cell_type": "code",
   "execution_count": null,
   "metadata": {
    "collapsed": true
   },
   "outputs": [],
   "source": [
    "# Select * from df where Descricao = kkkkk\n",
    "#df[df['Descricao']=='CALDO DE CARNE COM ERVAS FINAS 60GR']\n",
    "df[df['Preco'] == 'UN']"
   ]
  },
  {
   "cell_type": "code",
   "execution_count": null,
   "metadata": {
    "collapsed": true
   },
   "outputs": [],
   "source": [
    "mask = (df['Preco'] == 'UN')\n",
    "#& (df['date'] <= '2000-6-10')\n",
    "#print np.shape((calit2_dataFrame.loc[mask]))\n",
    "supra_df = df.loc[mask]"
   ]
  },
  {
   "cell_type": "code",
   "execution_count": null,
   "metadata": {
    "collapsed": true
   },
   "outputs": [],
   "source": [
    "supra_df"
   ]
  },
  {
   "cell_type": "code",
   "execution_count": null,
   "metadata": {
    "collapsed": true
   },
   "outputs": [],
   "source": [
    "(df['data'].str[0:7])"
   ]
  },
  {
   "cell_type": "code",
   "execution_count": null,
   "metadata": {
    "collapsed": true
   },
   "outputs": [],
   "source": [
    "df[(df['Cod']=='01.0009') & (df['Data'].str[0:4] == '2014')]"
   ]
  },
  {
   "cell_type": "code",
   "execution_count": null,
   "metadata": {
    "collapsed": true
   },
   "outputs": [],
   "source": [
    "#Select Cidade from df where descrição = kkkkk\n",
    "cidades = df[df['Descricao']=='CALDO DE CARNE COM ERVAS FINAS 60GR'][['Cidade','Bairro','CNPJ']]"
   ]
  },
  {
   "cell_type": "code",
   "execution_count": null,
   "metadata": {
    "collapsed": true
   },
   "outputs": [],
   "source": [
    "cidades.sort_values(by='CNPJ',ascending=0)"
   ]
  },
  {
   "cell_type": "code",
   "execution_count": null,
   "metadata": {
    "collapsed": true
   },
   "outputs": [],
   "source": [
    "df.set_index(['Cidade'])"
   ]
  },
  {
   "cell_type": "code",
   "execution_count": null,
   "metadata": {
    "collapsed": true
   },
   "outputs": [],
   "source": [
    "df.columns = df.columns.to_series().apply(lambda x: x.strip())"
   ]
  },
  {
   "cell_type": "code",
   "execution_count": null,
   "metadata": {
    "collapsed": true
   },
   "outputs": [],
   "source": [
    "df[['Preco','Qty']] = df[['Preco','Qty']].apply(pd.to_numeric)"
   ]
  },
  {
   "cell_type": "code",
   "execution_count": null,
   "metadata": {
    "collapsed": true
   },
   "outputs": [],
   "source": [
    "df.pivot_table(values='Preco',index=['Data', 'NF']) #,columns=['C']"
   ]
  },
  {
   "cell_type": "code",
   "execution_count": null,
   "metadata": {
    "collapsed": true
   },
   "outputs": [],
   "source": [
    "# SQL Syntax (NOT RECOMMENDED!)\n",
    "df.W"
   ]
  },
  {
   "cell_type": "markdown",
   "metadata": {},
   "source": [
    "DataFrame Columns are just Series"
   ]
  },
  {
   "cell_type": "code",
   "execution_count": null,
   "metadata": {
    "collapsed": true
   },
   "outputs": [],
   "source": [
    "type(df['W'])"
   ]
  },
  {
   "cell_type": "markdown",
   "metadata": {},
   "source": [
    "**Creating a new column:**"
   ]
  },
  {
   "cell_type": "code",
   "execution_count": null,
   "metadata": {
    "collapsed": true
   },
   "outputs": [],
   "source": [
    "df['new'] = df['W'] + df['Y']"
   ]
  },
  {
   "cell_type": "code",
   "execution_count": null,
   "metadata": {
    "collapsed": true
   },
   "outputs": [],
   "source": [
    "df"
   ]
  },
  {
   "cell_type": "markdown",
   "metadata": {},
   "source": [
    "** Removing Columns**"
   ]
  },
  {
   "cell_type": "code",
   "execution_count": null,
   "metadata": {
    "collapsed": true
   },
   "outputs": [],
   "source": [
    "df.drop('new',axis=1)"
   ]
  },
  {
   "cell_type": "code",
   "execution_count": null,
   "metadata": {
    "collapsed": true
   },
   "outputs": [],
   "source": [
    "# Not inplace unless specified!\n",
    "df"
   ]
  },
  {
   "cell_type": "code",
   "execution_count": null,
   "metadata": {
    "collapsed": true
   },
   "outputs": [],
   "source": [
    "df.drop('new',axis=1,inplace=True)"
   ]
  },
  {
   "cell_type": "code",
   "execution_count": null,
   "metadata": {
    "collapsed": true
   },
   "outputs": [],
   "source": [
    "df"
   ]
  },
  {
   "cell_type": "markdown",
   "metadata": {},
   "source": [
    "Can also drop rows this way:"
   ]
  },
  {
   "cell_type": "code",
   "execution_count": null,
   "metadata": {
    "collapsed": true
   },
   "outputs": [],
   "source": [
    "df.drop('E',axis=0)"
   ]
  },
  {
   "cell_type": "markdown",
   "metadata": {},
   "source": [
    "** Selecting Rows**"
   ]
  },
  {
   "cell_type": "code",
   "execution_count": null,
   "metadata": {
    "collapsed": true
   },
   "outputs": [],
   "source": [
    "df.loc['A']"
   ]
  },
  {
   "cell_type": "markdown",
   "metadata": {},
   "source": [
    "Or select based off of position instead of label "
   ]
  },
  {
   "cell_type": "code",
   "execution_count": null,
   "metadata": {
    "collapsed": true
   },
   "outputs": [],
   "source": [
    "df.iloc[2]"
   ]
  },
  {
   "cell_type": "markdown",
   "metadata": {},
   "source": [
    "** Selecting subset of rows and columns **"
   ]
  },
  {
   "cell_type": "code",
   "execution_count": null,
   "metadata": {
    "collapsed": true
   },
   "outputs": [],
   "source": [
    "df.loc['B','Y']"
   ]
  },
  {
   "cell_type": "code",
   "execution_count": null,
   "metadata": {
    "collapsed": true
   },
   "outputs": [],
   "source": [
    "df.loc[['A','B'],['W','Y']]"
   ]
  },
  {
   "cell_type": "markdown",
   "metadata": {},
   "source": [
    "### Conditional Selection\n",
    "\n",
    "An important feature of pandas is conditional selection using bracket notation, very similar to numpy:"
   ]
  },
  {
   "cell_type": "code",
   "execution_count": null,
   "metadata": {
    "collapsed": true
   },
   "outputs": [],
   "source": [
    "df"
   ]
  },
  {
   "cell_type": "code",
   "execution_count": null,
   "metadata": {
    "collapsed": true
   },
   "outputs": [],
   "source": [
    "df>0"
   ]
  },
  {
   "cell_type": "code",
   "execution_count": null,
   "metadata": {
    "collapsed": true
   },
   "outputs": [],
   "source": [
    "df[df>0]"
   ]
  },
  {
   "cell_type": "code",
   "execution_count": null,
   "metadata": {
    "collapsed": true
   },
   "outputs": [],
   "source": [
    "df[df['W']>0]"
   ]
  },
  {
   "cell_type": "code",
   "execution_count": null,
   "metadata": {
    "collapsed": true
   },
   "outputs": [],
   "source": [
    "df[df['W']>0]['Y'] "
   ]
  },
  {
   "cell_type": "code",
   "execution_count": null,
   "metadata": {
    "collapsed": true
   },
   "outputs": [],
   "source": [
    "df[df['W']>0][['Y','X']]"
   ]
  },
  {
   "cell_type": "markdown",
   "metadata": {},
   "source": [
    "For two conditions you can use | and & with parenthesis:"
   ]
  },
  {
   "cell_type": "code",
   "execution_count": null,
   "metadata": {
    "collapsed": true
   },
   "outputs": [],
   "source": [
    "df[(df['W']>0) & (df['Y'] > 1)]"
   ]
  },
  {
   "cell_type": "markdown",
   "metadata": {},
   "source": [
    "## More Index Details\n",
    "\n",
    "Let's discuss some more features of indexing, including resetting the index or setting it something else. We'll also talk about index hierarchy!"
   ]
  },
  {
   "cell_type": "code",
   "execution_count": null,
   "metadata": {
    "collapsed": true
   },
   "outputs": [],
   "source": [
    "df"
   ]
  },
  {
   "cell_type": "code",
   "execution_count": null,
   "metadata": {
    "collapsed": true
   },
   "outputs": [],
   "source": [
    "# Reset to default 0,1...n index\n",
    "df.reset_index()"
   ]
  },
  {
   "cell_type": "code",
   "execution_count": null,
   "metadata": {
    "collapsed": true
   },
   "outputs": [],
   "source": [
    "newind = 'CA NY WY OR CO'.split()"
   ]
  },
  {
   "cell_type": "code",
   "execution_count": null,
   "metadata": {
    "collapsed": true
   },
   "outputs": [],
   "source": [
    "df['States'] = newind"
   ]
  },
  {
   "cell_type": "code",
   "execution_count": null,
   "metadata": {
    "collapsed": true
   },
   "outputs": [],
   "source": [
    "df"
   ]
  },
  {
   "cell_type": "code",
   "execution_count": null,
   "metadata": {
    "collapsed": true
   },
   "outputs": [],
   "source": [
    "df.set_index('States')"
   ]
  },
  {
   "cell_type": "code",
   "execution_count": null,
   "metadata": {
    "collapsed": true
   },
   "outputs": [],
   "source": [
    "df"
   ]
  },
  {
   "cell_type": "code",
   "execution_count": null,
   "metadata": {
    "collapsed": true
   },
   "outputs": [],
   "source": [
    "df.set_index('States',inplace=True)"
   ]
  },
  {
   "cell_type": "code",
   "execution_count": null,
   "metadata": {
    "collapsed": true
   },
   "outputs": [],
   "source": [
    "df"
   ]
  },
  {
   "cell_type": "markdown",
   "metadata": {},
   "source": [
    "## Multi-Index and Index Hierarchy\n",
    "\n",
    "Let us go over how to work with Multi-Index, first we'll create a quick example of what a Multi-Indexed DataFrame would look like:"
   ]
  },
  {
   "cell_type": "code",
   "execution_count": null,
   "metadata": {
    "collapsed": true
   },
   "outputs": [],
   "source": [
    "# Index Levels\n",
    "outside = ['G1','G1','G1','G2','G2','G2']\n",
    "inside = [1,2,3,1,2,3]\n",
    "hier_index = list(zip(outside,inside))\n",
    "hier_index = pd.MultiIndex.from_tuples(hier_index)"
   ]
  },
  {
   "cell_type": "code",
   "execution_count": null,
   "metadata": {
    "collapsed": true
   },
   "outputs": [],
   "source": [
    "hier_index"
   ]
  },
  {
   "cell_type": "code",
   "execution_count": null,
   "metadata": {
    "collapsed": true
   },
   "outputs": [],
   "source": [
    "df = pd.DataFrame(np.random.randn(6,2),index=hier_index,columns=['A','B'])\n",
    "df"
   ]
  },
  {
   "cell_type": "markdown",
   "metadata": {},
   "source": [
    "Now let's show how to index this! For index hierarchy we use df.loc[], if this was on the columns axis, you would just use normal bracket notation df[]. Calling one level of the index returns the sub-dataframe:"
   ]
  },
  {
   "cell_type": "code",
   "execution_count": null,
   "metadata": {
    "collapsed": true
   },
   "outputs": [],
   "source": [
    "df.loc['G1']"
   ]
  },
  {
   "cell_type": "code",
   "execution_count": null,
   "metadata": {
    "collapsed": true
   },
   "outputs": [],
   "source": [
    "df.loc['G1'].loc[1]"
   ]
  },
  {
   "cell_type": "code",
   "execution_count": null,
   "metadata": {
    "collapsed": true
   },
   "outputs": [],
   "source": [
    "df.index.names"
   ]
  },
  {
   "cell_type": "code",
   "execution_count": null,
   "metadata": {
    "collapsed": true
   },
   "outputs": [],
   "source": [
    "df.index.names = ['Group','Num']"
   ]
  },
  {
   "cell_type": "code",
   "execution_count": null,
   "metadata": {
    "collapsed": true
   },
   "outputs": [],
   "source": [
    "df"
   ]
  },
  {
   "cell_type": "code",
   "execution_count": null,
   "metadata": {
    "collapsed": true
   },
   "outputs": [],
   "source": [
    "df.xs('G1')"
   ]
  },
  {
   "cell_type": "code",
   "execution_count": null,
   "metadata": {
    "collapsed": true
   },
   "outputs": [],
   "source": [
    "df.xs(['G1',1])"
   ]
  },
  {
   "cell_type": "code",
   "execution_count": null,
   "metadata": {
    "collapsed": true
   },
   "outputs": [],
   "source": [
    "df.xs(1,level='Num')"
   ]
  },
  {
   "cell_type": "markdown",
   "metadata": {},
   "source": [
    "# Great Job!"
   ]
  }
 ],
 "metadata": {
  "kernelspec": {
   "display_name": "Python 3",
   "language": "python",
   "name": "python3"
  },
  "language_info": {
   "codemirror_mode": {
    "name": "ipython",
    "version": 3
   },
   "file_extension": ".py",
   "mimetype": "text/x-python",
   "name": "python",
   "nbconvert_exporter": "python",
   "pygments_lexer": "ipython3",
   "version": "3.6.2"
  }
 },
 "nbformat": 4,
 "nbformat_minor": 1
}
