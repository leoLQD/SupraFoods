{
 "cells": [
  {
   "cell_type": "markdown",
   "metadata": {},
   "source": [
    "___\n",
    "\n",
    "<a href='http://www.pieriandata.com'> <img src='../Pierian_Data_Logo.png' /></a>\n",
    "___"
   ]
  },
  {
   "cell_type": "markdown",
   "metadata": {
    "collapsed": true
   },
   "source": [
    "# DataFrames\n",
    "\n",
    "DataFrames are the workhorse of pandas and are directly inspired by the R programming language. We can think of a DataFrame as a bunch of Series objects put together to share the same index. Let's use pandas to explore this topic!"
   ]
  },
  {
   "cell_type": "code",
   "execution_count": 1,
   "metadata": {},
   "outputs": [
    {
     "data": {
      "text/plain": [
       "'Portuguese_Brazil.1252'"
      ]
     },
     "execution_count": 1,
     "metadata": {},
     "output_type": "execute_result"
    }
   ],
   "source": [
    "import pandas as pd\n",
    "import numpy as np\n",
    "import locale\n",
    "import matplotlib.pyplot as plt\n",
    "import seaborn as sns\n",
    "%matplotlib inline\n",
    "\n",
    "# Define Moeda Brasileira numeros R$ 1.000,00\n",
    "locale.setlocale( locale.LC_ALL, '' )\n",
    "#locale.currency( g, grouping = True )"
   ]
  },
  {
   "cell_type": "code",
   "execution_count": 2,
   "metadata": {
    "collapsed": true
   },
   "outputs": [],
   "source": [
    "import seaborn as sns"
   ]
  },
  {
   "cell_type": "code",
   "execution_count": 3,
   "metadata": {
    "collapsed": true
   },
   "outputs": [],
   "source": [
    "%matplotlib inline"
   ]
  },
  {
   "cell_type": "code",
   "execution_count": 4,
   "metadata": {
    "collapsed": true
   },
   "outputs": [],
   "source": [
    "from numpy.random import randn\n",
    "np.random.seed(101)"
   ]
  },
  {
   "cell_type": "code",
   "execution_count": 5,
   "metadata": {
    "collapsed": true
   },
   "outputs": [],
   "source": [
    "pd.options.display.float_format = 'R${:,.2f}'.format"
   ]
  },
  {
   "cell_type": "code",
   "execution_count": 6,
   "metadata": {},
   "outputs": [
    {
     "name": "stderr",
     "output_type": "stream",
     "text": [
      "C:\\Users\\leona\\Anaconda3\\lib\\site-packages\\IPython\\core\\interactiveshell.py:2728: DtypeWarning: Columns (8) have mixed types. Specify dtype option on import or set low_memory=False.\n",
      "  interactivity=interactivity, compiler=compiler, result=result)\n"
     ]
    }
   ],
   "source": [
    "df = pd.read_csv('NFe-SupraAlimentos.csv')\n",
    "\n",
    "# xml,empresa,NF,data,CNPJ,cidade,bairro,UF,cod,produto,qty,unidade,preco"
   ]
  },
  {
   "cell_type": "code",
   "execution_count": 7,
   "metadata": {},
   "outputs": [
    {
     "data": {
      "text/html": [
       "<div>\n",
       "<style scoped>\n",
       "    .dataframe tbody tr th:only-of-type {\n",
       "        vertical-align: middle;\n",
       "    }\n",
       "\n",
       "    .dataframe tbody tr th {\n",
       "        vertical-align: top;\n",
       "    }\n",
       "\n",
       "    .dataframe thead th {\n",
       "        text-align: right;\n",
       "    }\n",
       "</style>\n",
       "<table border=\"1\" class=\"dataframe\">\n",
       "  <thead>\n",
       "    <tr style=\"text-align: right;\">\n",
       "      <th></th>\n",
       "      <th>xml</th>\n",
       "      <th>cliente</th>\n",
       "      <th>NF</th>\n",
       "      <th>data</th>\n",
       "      <th>CNPJ</th>\n",
       "      <th>cidade</th>\n",
       "      <th>bairro</th>\n",
       "      <th>UF</th>\n",
       "      <th>cod</th>\n",
       "      <th>produto</th>\n",
       "      <th>QTY</th>\n",
       "      <th>unidade</th>\n",
       "      <th>preco</th>\n",
       "    </tr>\n",
       "  </thead>\n",
       "  <tbody>\n",
       "    <tr>\n",
       "      <th>0</th>\n",
       "      <td>33140817339293000139550010000000041000000049-N...</td>\n",
       "      <td>NF-E EMITIDA EM AMBIENTE DE HOMOLOGACAO - SEM ...</td>\n",
       "      <td>4</td>\n",
       "      <td>2014-08-29</td>\n",
       "      <td>27833615002018</td>\n",
       "      <td>RIO DE JANEIRO</td>\n",
       "      <td>CASIMIRO DE ABREU</td>\n",
       "      <td>RJ</td>\n",
       "      <td>02.0002</td>\n",
       "      <td>ALHO CEBOLA PICADINHO S/SAL 180GR</td>\n",
       "      <td>1</td>\n",
       "      <td>UN</td>\n",
       "      <td>R$2.77</td>\n",
       "    </tr>\n",
       "    <tr>\n",
       "      <th>1</th>\n",
       "      <td>33140817339293000139550010000000051000000054-N...</td>\n",
       "      <td>NF-E EMITIDA EM AMBIENTE DE HOMOLOGACAO - SEM ...</td>\n",
       "      <td>5</td>\n",
       "      <td>2014-08-29</td>\n",
       "      <td>9309021000168</td>\n",
       "      <td>RIO DE JANEIRO</td>\n",
       "      <td>VILA NOVA DE CAMPOS</td>\n",
       "      <td>RJ</td>\n",
       "      <td>01.0002</td>\n",
       "      <td>ALECRIM 15GR</td>\n",
       "      <td>1</td>\n",
       "      <td>UN</td>\n",
       "      <td>R$1.11</td>\n",
       "    </tr>\n",
       "    <tr>\n",
       "      <th>2</th>\n",
       "      <td>33140817339293000139550010000000061000000060-N...</td>\n",
       "      <td>NF-E EMITIDA EM AMBIENTE DE HOMOLOGACAO - SEM ...</td>\n",
       "      <td>6</td>\n",
       "      <td>2014-08-29</td>\n",
       "      <td>9309021000168</td>\n",
       "      <td>ANGRA DOS REIS</td>\n",
       "      <td>VILA NOVA DE CAMPOS</td>\n",
       "      <td>RJ</td>\n",
       "      <td>01.0001</td>\n",
       "      <td>ACAFRAO 15GR</td>\n",
       "      <td>12</td>\n",
       "      <td>UN</td>\n",
       "      <td>R$9.72</td>\n",
       "    </tr>\n",
       "    <tr>\n",
       "      <th>3</th>\n",
       "      <td>33140817339293000139550010000000061000000060-N...</td>\n",
       "      <td>NF-E EMITIDA EM AMBIENTE DE HOMOLOGACAO - SEM ...</td>\n",
       "      <td>6</td>\n",
       "      <td>2014-08-29</td>\n",
       "      <td>9309021000168</td>\n",
       "      <td>ANGRA DOS REIS</td>\n",
       "      <td>VILA NOVA DE CAMPOS</td>\n",
       "      <td>RJ</td>\n",
       "      <td>01.0002</td>\n",
       "      <td>ALECRIM 15GR</td>\n",
       "      <td>1</td>\n",
       "      <td>UN</td>\n",
       "      <td>R$1.11</td>\n",
       "    </tr>\n",
       "    <tr>\n",
       "      <th>4</th>\n",
       "      <td>33140817339293000139550010000000061000000060-N...</td>\n",
       "      <td>NF-E EMITIDA EM AMBIENTE DE HOMOLOGACAO - SEM ...</td>\n",
       "      <td>6</td>\n",
       "      <td>2014-08-29</td>\n",
       "      <td>9309021000168</td>\n",
       "      <td>ANGRA DOS REIS</td>\n",
       "      <td>VILA NOVA DE CAMPOS</td>\n",
       "      <td>RJ</td>\n",
       "      <td>01.0009</td>\n",
       "      <td>CALDO DE CARNE COM ERVAS FINAS 60GR</td>\n",
       "      <td>1</td>\n",
       "      <td>UN</td>\n",
       "      <td>R$1.43</td>\n",
       "    </tr>\n",
       "  </tbody>\n",
       "</table>\n",
       "</div>"
      ],
      "text/plain": [
       "                                                 xml  \\\n",
       "0  33140817339293000139550010000000041000000049-N...   \n",
       "1  33140817339293000139550010000000051000000054-N...   \n",
       "2  33140817339293000139550010000000061000000060-N...   \n",
       "3  33140817339293000139550010000000061000000060-N...   \n",
       "4  33140817339293000139550010000000061000000060-N...   \n",
       "\n",
       "                                             cliente  NF        data  \\\n",
       "0  NF-E EMITIDA EM AMBIENTE DE HOMOLOGACAO - SEM ...   4  2014-08-29   \n",
       "1  NF-E EMITIDA EM AMBIENTE DE HOMOLOGACAO - SEM ...   5  2014-08-29   \n",
       "2  NF-E EMITIDA EM AMBIENTE DE HOMOLOGACAO - SEM ...   6  2014-08-29   \n",
       "3  NF-E EMITIDA EM AMBIENTE DE HOMOLOGACAO - SEM ...   6  2014-08-29   \n",
       "4  NF-E EMITIDA EM AMBIENTE DE HOMOLOGACAO - SEM ...   6  2014-08-29   \n",
       "\n",
       "             CNPJ          cidade               bairro  UF      cod  \\\n",
       "0  27833615002018  RIO DE JANEIRO    CASIMIRO DE ABREU  RJ  02.0002   \n",
       "1   9309021000168  RIO DE JANEIRO  VILA NOVA DE CAMPOS  RJ  01.0002   \n",
       "2   9309021000168  ANGRA DOS REIS  VILA NOVA DE CAMPOS  RJ  01.0001   \n",
       "3   9309021000168  ANGRA DOS REIS  VILA NOVA DE CAMPOS  RJ  01.0002   \n",
       "4   9309021000168  ANGRA DOS REIS  VILA NOVA DE CAMPOS  RJ  01.0009   \n",
       "\n",
       "                               produto  QTY unidade  preco  \n",
       "0    ALHO CEBOLA PICADINHO S/SAL 180GR    1      UN R$2.77  \n",
       "1                         ALECRIM 15GR    1      UN R$1.11  \n",
       "2                         ACAFRAO 15GR   12      UN R$9.72  \n",
       "3                         ALECRIM 15GR    1      UN R$1.11  \n",
       "4  CALDO DE CARNE COM ERVAS FINAS 60GR    1      UN R$1.43  "
      ]
     },
     "execution_count": 7,
     "metadata": {},
     "output_type": "execute_result"
    }
   ],
   "source": [
    "df.head()"
   ]
  },
  {
   "cell_type": "markdown",
   "metadata": {},
   "source": [
    "## Selection and Indexing\n",
    "\n",
    "Let's learn the various methods to grab data from a DataFrame"
   ]
  },
  {
   "cell_type": "code",
   "execution_count": 8,
   "metadata": {
    "collapsed": true
   },
   "outputs": [],
   "source": [
    "df[['preco']] = df[['preco']].apply(pd.to_numeric)"
   ]
  },
  {
   "cell_type": "code",
   "execution_count": 11,
   "metadata": {
    "collapsed": true
   },
   "outputs": [],
   "source": [
    "tot = df['preco'].sum()"
   ]
  },
  {
   "cell_type": "code",
   "execution_count": 12,
   "metadata": {},
   "outputs": [],
   "source": [
    "g = float(\"{0:.2f}\".format(tot))"
   ]
  },
  {
   "cell_type": "code",
   "execution_count": 13,
   "metadata": {},
   "outputs": [
    {
     "data": {
      "text/plain": [
       "11677734.97"
      ]
     },
     "execution_count": 13,
     "metadata": {},
     "output_type": "execute_result"
    }
   ],
   "source": [
    "g"
   ]
  },
  {
   "cell_type": "code",
   "execution_count": 14,
   "metadata": {
    "collapsed": true
   },
   "outputs": [],
   "source": [
    "\n",
    "f=locale.currency( g, grouping = True )"
   ]
  },
  {
   "cell_type": "code",
   "execution_count": 15,
   "metadata": {},
   "outputs": [
    {
     "data": {
      "text/plain": [
       "'R$11.677.734,97'"
      ]
     },
     "execution_count": 15,
     "metadata": {},
     "output_type": "execute_result"
    }
   ],
   "source": [
    "f"
   ]
  },
  {
   "cell_type": "code",
   "execution_count": 16,
   "metadata": {
    "collapsed": true
   },
   "outputs": [],
   "source": [
    "cnpjCompras = df.groupby(['CNPJ'])['preco'].agg('sum')"
   ]
  },
  {
   "cell_type": "code",
   "execution_count": 18,
   "metadata": {},
   "outputs": [],
   "source": [
    "a=cnpjCompras"
   ]
  },
  {
   "cell_type": "code",
   "execution_count": 31,
   "metadata": {},
   "outputs": [],
   "source": [
    "type(a)\n",
    "a.preco.min()\n",
    "f=locale.currency( a.preco.max(), grouping = True )"
   ]
  },
  {
   "cell_type": "code",
   "execution_count": 32,
   "metadata": {},
   "outputs": [
    {
     "data": {
      "text/plain": [
       "'R$474.946,97'"
      ]
     },
     "execution_count": 32,
     "metadata": {},
     "output_type": "execute_result"
    }
   ],
   "source": [
    "f"
   ]
  },
  {
   "cell_type": "code",
   "execution_count": 21,
   "metadata": {
    "collapsed": true
   },
   "outputs": [],
   "source": [
    "a = a.to_frame().reset_index()"
   ]
  },
  {
   "cell_type": "code",
   "execution_count": 46,
   "metadata": {},
   "outputs": [
    {
     "data": {
      "text/plain": [
       "<matplotlib.axes._subplots.AxesSubplot at 0x231617eb6d8>"
      ]
     },
     "execution_count": 46,
     "metadata": {},
     "output_type": "execute_result"
    },
    {
     "data": {
      "image/png": "[encoded data removed]",
      "text/plain": [
       "<matplotlib.figure.Figure at 0x23160821550>"
      ]
     },
     "metadata": {},
     "output_type": "display_data"
    }
   ],
   "source": [
    "a['preco'].plot.hist(bins=5)"
   ]
  },
  {
   "cell_type": "code",
   "execution_count": 22,
   "metadata": {},
   "outputs": [
    {
     "data": {
      "text/plain": [
       "pandas.core.frame.DataFrame"
      ]
     },
     "execution_count": 22,
     "metadata": {},
     "output_type": "execute_result"
    }
   ],
   "source": [
    "type(a)"
   ]
  },
  {
   "cell_type": "code",
   "execution_count": 38,
   "metadata": {},
   "outputs": [
    {
     "data": {
      "text/plain": [
       "<seaborn.axisgrid.FacetGrid at 0x23160c8a5c0>"
      ]
     },
     "execution_count": 38,
     "metadata": {},
     "output_type": "execute_result"
    },
    {
     "data": {
      "image/png": "[encoded data removed]",
      "text/plain": [
       "<matplotlib.figure.Figure at 0x23160c8a3c8>"
      ]
     },
     "metadata": {},
     "output_type": "display_data"
    }
   ],
   "source": [
    "sns.set_style('whitegrid')\n",
    "sns.lmplot('CNPJ','preco',data=a,\n",
    "           palette='coolwarm',size=6,aspect=1,fit_reg=False, scatter_kws={\"s\": 15})"
   ]
  },
  {
   "cell_type": "code",
   "execution_count": 40,
   "metadata": {},
   "outputs": [
    {
     "data": {
      "text/plain": [
       "<seaborn.axisgrid.PairGrid at 0x231602c9128>"
      ]
     },
     "execution_count": 40,
     "metadata": {},
     "output_type": "execute_result"
    },
    {
     "data": {
      "image/png": "[encoded data removed]",
      "text/plain": [
       "<matplotlib.figure.Figure at 0x231602c9dd8>"
      ]
     },
     "metadata": {},
     "output_type": "display_data"
    }
   ],
   "source": [
    "#sns.pairplot(a)\n",
    "g=sns.PairGrid(a)\n",
    "g.map_diag(sns.distplot)\n",
    "g.map_upper(plt.scatter)\n",
    "g.map_lower(sns.kdeplot)"
   ]
  },
  {
   "cell_type": "code",
   "execution_count": 24,
   "metadata": {},
   "outputs": [
    {
     "data": {
      "text/html": [
       "<div>\n",
       "<style scoped>\n",
       "    .dataframe tbody tr th:only-of-type {\n",
       "        vertical-align: middle;\n",
       "    }\n",
       "\n",
       "    .dataframe tbody tr th {\n",
       "        vertical-align: top;\n",
       "    }\n",
       "\n",
       "    .dataframe thead th {\n",
       "        text-align: right;\n",
       "    }\n",
       "</style>\n",
       "<table border=\"1\" class=\"dataframe\">\n",
       "  <thead>\n",
       "    <tr style=\"text-align: right;\">\n",
       "      <th></th>\n",
       "      <th>CNPJ</th>\n",
       "      <th>preco</th>\n",
       "    </tr>\n",
       "  </thead>\n",
       "  <tbody>\n",
       "    <tr>\n",
       "      <th>0</th>\n",
       "      <td>175479000105</td>\n",
       "      <td>R$14,429.17</td>\n",
       "    </tr>\n",
       "    <tr>\n",
       "      <th>1</th>\n",
       "      <td>334392000206</td>\n",
       "      <td>R$1,511.64</td>\n",
       "    </tr>\n",
       "    <tr>\n",
       "      <th>2</th>\n",
       "      <td>381613000116</td>\n",
       "      <td>R$6,249.46</td>\n",
       "    </tr>\n",
       "    <tr>\n",
       "      <th>3</th>\n",
       "      <td>803210000118</td>\n",
       "      <td>R$11,911.61</td>\n",
       "    </tr>\n",
       "    <tr>\n",
       "      <th>4</th>\n",
       "      <td>814123000166</td>\n",
       "      <td>R$9,583.20</td>\n",
       "    </tr>\n",
       "    <tr>\n",
       "      <th>5</th>\n",
       "      <td>834279000109</td>\n",
       "      <td>R$9,239.94</td>\n",
       "    </tr>\n",
       "    <tr>\n",
       "      <th>6</th>\n",
       "      <td>834279000290</td>\n",
       "      <td>R$9,947.07</td>\n",
       "    </tr>\n",
       "    <tr>\n",
       "      <th>7</th>\n",
       "      <td>1006952000185</td>\n",
       "      <td>R$6,641.14</td>\n",
       "    </tr>\n",
       "    <tr>\n",
       "      <th>8</th>\n",
       "      <td>1015564000160</td>\n",
       "      <td>R$70,625.02</td>\n",
       "    </tr>\n",
       "    <tr>\n",
       "      <th>9</th>\n",
       "      <td>1023162000108</td>\n",
       "      <td>R$853.40</td>\n",
       "    </tr>\n",
       "    <tr>\n",
       "      <th>10</th>\n",
       "      <td>1190829000167</td>\n",
       "      <td>R$59,986.74</td>\n",
       "    </tr>\n",
       "    <tr>\n",
       "      <th>11</th>\n",
       "      <td>1190829000248</td>\n",
       "      <td>R$1,480.29</td>\n",
       "    </tr>\n",
       "    <tr>\n",
       "      <th>12</th>\n",
       "      <td>1235391000196</td>\n",
       "      <td>R$1,147.62</td>\n",
       "    </tr>\n",
       "    <tr>\n",
       "      <th>13</th>\n",
       "      <td>1254351000272</td>\n",
       "      <td>R$1,423.17</td>\n",
       "    </tr>\n",
       "    <tr>\n",
       "      <th>14</th>\n",
       "      <td>1257874000191</td>\n",
       "      <td>R$356.12</td>\n",
       "    </tr>\n",
       "    <tr>\n",
       "      <th>15</th>\n",
       "      <td>1442299000105</td>\n",
       "      <td>R$2,254.95</td>\n",
       "    </tr>\n",
       "    <tr>\n",
       "      <th>16</th>\n",
       "      <td>1446960000142</td>\n",
       "      <td>R$56,305.32</td>\n",
       "    </tr>\n",
       "    <tr>\n",
       "      <th>17</th>\n",
       "      <td>1448324000150</td>\n",
       "      <td>R$12,351.62</td>\n",
       "    </tr>\n",
       "    <tr>\n",
       "      <th>18</th>\n",
       "      <td>1466610000148</td>\n",
       "      <td>R$813.23</td>\n",
       "    </tr>\n",
       "    <tr>\n",
       "      <th>19</th>\n",
       "      <td>1704374000150</td>\n",
       "      <td>R$338.82</td>\n",
       "    </tr>\n",
       "    <tr>\n",
       "      <th>20</th>\n",
       "      <td>1829249000177</td>\n",
       "      <td>R$6,282.38</td>\n",
       "    </tr>\n",
       "    <tr>\n",
       "      <th>21</th>\n",
       "      <td>1841072000124</td>\n",
       "      <td>R$2,857.80</td>\n",
       "    </tr>\n",
       "    <tr>\n",
       "      <th>22</th>\n",
       "      <td>1848448000122</td>\n",
       "      <td>R$169.68</td>\n",
       "    </tr>\n",
       "    <tr>\n",
       "      <th>23</th>\n",
       "      <td>1872160000193</td>\n",
       "      <td>R$431.01</td>\n",
       "    </tr>\n",
       "    <tr>\n",
       "      <th>24</th>\n",
       "      <td>2068929000188</td>\n",
       "      <td>R$30,302.08</td>\n",
       "    </tr>\n",
       "    <tr>\n",
       "      <th>25</th>\n",
       "      <td>2075715000139</td>\n",
       "      <td>R$369.50</td>\n",
       "    </tr>\n",
       "    <tr>\n",
       "      <th>26</th>\n",
       "      <td>2084223000100</td>\n",
       "      <td>R$6,173.72</td>\n",
       "    </tr>\n",
       "    <tr>\n",
       "      <th>27</th>\n",
       "      <td>2101672000119</td>\n",
       "      <td>R$134.91</td>\n",
       "    </tr>\n",
       "    <tr>\n",
       "      <th>28</th>\n",
       "      <td>2165530000115</td>\n",
       "      <td>R$14,447.25</td>\n",
       "    </tr>\n",
       "    <tr>\n",
       "      <th>29</th>\n",
       "      <td>2275470000193</td>\n",
       "      <td>R$810.00</td>\n",
       "    </tr>\n",
       "    <tr>\n",
       "      <th>...</th>\n",
       "      <td>...</td>\n",
       "      <td>...</td>\n",
       "    </tr>\n",
       "    <tr>\n",
       "      <th>644</th>\n",
       "      <td>39281142000100</td>\n",
       "      <td>R$388.41</td>\n",
       "    </tr>\n",
       "    <tr>\n",
       "      <th>645</th>\n",
       "      <td>39345244000141</td>\n",
       "      <td>R$167.00</td>\n",
       "    </tr>\n",
       "    <tr>\n",
       "      <th>646</th>\n",
       "      <td>39361142000110</td>\n",
       "      <td>R$2,627.38</td>\n",
       "    </tr>\n",
       "    <tr>\n",
       "      <th>647</th>\n",
       "      <td>39379011000160</td>\n",
       "      <td>R$714.88</td>\n",
       "    </tr>\n",
       "    <tr>\n",
       "      <th>648</th>\n",
       "      <td>39508023000228</td>\n",
       "      <td>R$179,723.79</td>\n",
       "    </tr>\n",
       "    <tr>\n",
       "      <th>649</th>\n",
       "      <td>39508023000813</td>\n",
       "      <td>R$288.66</td>\n",
       "    </tr>\n",
       "    <tr>\n",
       "      <th>650</th>\n",
       "      <td>39621479000208</td>\n",
       "      <td>R$12,374.58</td>\n",
       "    </tr>\n",
       "    <tr>\n",
       "      <th>651</th>\n",
       "      <td>39638580000182</td>\n",
       "      <td>R$324.36</td>\n",
       "    </tr>\n",
       "    <tr>\n",
       "      <th>652</th>\n",
       "      <td>39690284000120</td>\n",
       "      <td>R$4,993.86</td>\n",
       "    </tr>\n",
       "    <tr>\n",
       "      <th>653</th>\n",
       "      <td>39703863000403</td>\n",
       "      <td>R$19,593.34</td>\n",
       "    </tr>\n",
       "    <tr>\n",
       "      <th>654</th>\n",
       "      <td>39707427000160</td>\n",
       "      <td>R$27,323.57</td>\n",
       "    </tr>\n",
       "    <tr>\n",
       "      <th>655</th>\n",
       "      <td>39790191000259</td>\n",
       "      <td>R$2,121.24</td>\n",
       "    </tr>\n",
       "    <tr>\n",
       "      <th>656</th>\n",
       "      <td>39792205000192</td>\n",
       "      <td>R$261.30</td>\n",
       "    </tr>\n",
       "    <tr>\n",
       "      <th>657</th>\n",
       "      <td>39818919000122</td>\n",
       "      <td>R$2,304.04</td>\n",
       "    </tr>\n",
       "    <tr>\n",
       "      <th>658</th>\n",
       "      <td>40169278000101</td>\n",
       "      <td>R$88,947.82</td>\n",
       "    </tr>\n",
       "    <tr>\n",
       "      <th>659</th>\n",
       "      <td>40404683000167</td>\n",
       "      <td>R$6,623.82</td>\n",
       "    </tr>\n",
       "    <tr>\n",
       "      <th>660</th>\n",
       "      <td>42294744000106</td>\n",
       "      <td>R$115.58</td>\n",
       "    </tr>\n",
       "    <tr>\n",
       "      <th>661</th>\n",
       "      <td>42379339000190</td>\n",
       "      <td>R$1,877.93</td>\n",
       "    </tr>\n",
       "    <tr>\n",
       "      <th>662</th>\n",
       "      <td>62379037000391</td>\n",
       "      <td>R$1,034.17</td>\n",
       "    </tr>\n",
       "    <tr>\n",
       "      <th>663</th>\n",
       "      <td>66212721000173</td>\n",
       "      <td>R$2,122.57</td>\n",
       "    </tr>\n",
       "    <tr>\n",
       "      <th>664</th>\n",
       "      <td>68641935000190</td>\n",
       "      <td>R$1,794.03</td>\n",
       "    </tr>\n",
       "    <tr>\n",
       "      <th>665</th>\n",
       "      <td>68726017000164</td>\n",
       "      <td>R$3,148.54</td>\n",
       "    </tr>\n",
       "    <tr>\n",
       "      <th>666</th>\n",
       "      <td>69018190000170</td>\n",
       "      <td>R$21,500.00</td>\n",
       "    </tr>\n",
       "    <tr>\n",
       "      <th>667</th>\n",
       "      <td>72155534000106</td>\n",
       "      <td>R$377.23</td>\n",
       "    </tr>\n",
       "    <tr>\n",
       "      <th>668</th>\n",
       "      <td>72392434000195</td>\n",
       "      <td>R$58,681.63</td>\n",
       "    </tr>\n",
       "    <tr>\n",
       "      <th>669</th>\n",
       "      <td>73237570000173</td>\n",
       "      <td>R$4,417.43</td>\n",
       "    </tr>\n",
       "    <tr>\n",
       "      <th>670</th>\n",
       "      <td>73915597000178</td>\n",
       "      <td>R$46,103.56</td>\n",
       "    </tr>\n",
       "    <tr>\n",
       "      <th>671</th>\n",
       "      <td>73915597000259</td>\n",
       "      <td>R$112,072.84</td>\n",
       "    </tr>\n",
       "    <tr>\n",
       "      <th>672</th>\n",
       "      <td>74048224000100</td>\n",
       "      <td>R$2,319.11</td>\n",
       "    </tr>\n",
       "    <tr>\n",
       "      <th>673</th>\n",
       "      <td>74126707000185</td>\n",
       "      <td>R$1,344.10</td>\n",
       "    </tr>\n",
       "  </tbody>\n",
       "</table>\n",
       "<p>674 rows × 2 columns</p>\n",
       "</div>"
      ],
      "text/plain": [
       "               CNPJ        preco\n",
       "0      175479000105  R$14,429.17\n",
       "1      334392000206   R$1,511.64\n",
       "2      381613000116   R$6,249.46\n",
       "3      803210000118  R$11,911.61\n",
       "4      814123000166   R$9,583.20\n",
       "5      834279000109   R$9,239.94\n",
       "6      834279000290   R$9,947.07\n",
       "7     1006952000185   R$6,641.14\n",
       "8     1015564000160  R$70,625.02\n",
       "9     1023162000108     R$853.40\n",
       "10    1190829000167  R$59,986.74\n",
       "11    1190829000248   R$1,480.29\n",
       "12    1235391000196   R$1,147.62\n",
       "13    1254351000272   R$1,423.17\n",
       "14    1257874000191     R$356.12\n",
       "15    1442299000105   R$2,254.95\n",
       "16    1446960000142  R$56,305.32\n",
       "17    1448324000150  R$12,351.62\n",
       "18    1466610000148     R$813.23\n",
       "19    1704374000150     R$338.82\n",
       "20    1829249000177   R$6,282.38\n",
       "21    1841072000124   R$2,857.80\n",
       "22    1848448000122     R$169.68\n",
       "23    1872160000193     R$431.01\n",
       "24    2068929000188  R$30,302.08\n",
       "25    2075715000139     R$369.50\n",
       "26    2084223000100   R$6,173.72\n",
       "27    2101672000119     R$134.91\n",
       "28    2165530000115  R$14,447.25\n",
       "29    2275470000193     R$810.00\n",
       "..              ...          ...\n",
       "644  39281142000100     R$388.41\n",
       "645  39345244000141     R$167.00\n",
       "646  39361142000110   R$2,627.38\n",
       "647  39379011000160     R$714.88\n",
       "648  39508023000228 R$179,723.79\n",
       "649  39508023000813     R$288.66\n",
       "650  39621479000208  R$12,374.58\n",
       "651  39638580000182     R$324.36\n",
       "652  39690284000120   R$4,993.86\n",
       "653  39703863000403  R$19,593.34\n",
       "654  39707427000160  R$27,323.57\n",
       "655  39790191000259   R$2,121.24\n",
       "656  39792205000192     R$261.30\n",
       "657  39818919000122   R$2,304.04\n",
       "658  40169278000101  R$88,947.82\n",
       "659  40404683000167   R$6,623.82\n",
       "660  42294744000106     R$115.58\n",
       "661  42379339000190   R$1,877.93\n",
       "662  62379037000391   R$1,034.17\n",
       "663  66212721000173   R$2,122.57\n",
       "664  68641935000190   R$1,794.03\n",
       "665  68726017000164   R$3,148.54\n",
       "666  69018190000170  R$21,500.00\n",
       "667  72155534000106     R$377.23\n",
       "668  72392434000195  R$58,681.63\n",
       "669  73237570000173   R$4,417.43\n",
       "670  73915597000178  R$46,103.56\n",
       "671  73915597000259 R$112,072.84\n",
       "672  74048224000100   R$2,319.11\n",
       "673  74126707000185   R$1,344.10\n",
       "\n",
       "[674 rows x 2 columns]"
      ]
     },
     "execution_count": 24,
     "metadata": {},
     "output_type": "execute_result"
    }
   ],
   "source": [
    "a"
   ]
  },
  {
   "cell_type": "code",
   "execution_count": null,
   "metadata": {
    "collapsed": true
   },
   "outputs": [],
   "source": [
    "# Numero de Clientes\n",
    "a=df.groupby(['CNPJ','NF','preco'])"
   ]
  },
  {
   "cell_type": "code",
   "execution_count": null,
   "metadata": {
    "collapsed": true
   },
   "outputs": [],
   "source": [
    "#dados = olx.groupby(olx['timestamp'].str[8:10]).size()\n",
    "#df.groupby(['NF']).sum()\n",
    "#df.groupby(['CNPJ', 'NF'])['preco'].agg('sum')\n",
    "#a=df.groupby(['CNPJ',df['data']])['NF'].unique() #.count() #agg('sum') .str[0:7]\n",
    "cnpjCompras = df.groupby(['CNPJ'])['preco'].agg('sum')"
   ]
  },
  {
   "cell_type": "code",
   "execution_count": null,
   "metadata": {},
   "outputs": [],
   "source": [
    "type(cnpjCompras)"
   ]
  },
  {
   "cell_type": "code",
   "execution_count": null,
   "metadata": {},
   "outputs": [],
   "source": [
    "cnpjCompras.count()"
   ]
  },
  {
   "cell_type": "code",
   "execution_count": null,
   "metadata": {
    "collapsed": true
   },
   "outputs": [],
   "source": [
    "f=locale.currency( cnpjCompras.min(), grouping = True )"
   ]
  },
  {
   "cell_type": "code",
   "execution_count": null,
   "metadata": {},
   "outputs": [],
   "source": [
    "f"
   ]
  },
  {
   "cell_type": "code",
   "execution_count": null,
   "metadata": {
    "collapsed": true
   },
   "outputs": [],
   "source": [
    "df.groupby(['CNPJ','NF']).size()"
   ]
  },
  {
   "cell_type": "code",
   "execution_count": null,
   "metadata": {
    "collapsed": true
   },
   "outputs": [],
   "source": [
    "type(a)"
   ]
  },
  {
   "cell_type": "code",
   "execution_count": null,
   "metadata": {
    "collapsed": true
   },
   "outputs": [],
   "source": [
    "a\n"
   ]
  },
  {
   "cell_type": "code",
   "execution_count": null,
   "metadata": {
    "collapsed": true
   },
   "outputs": [],
   "source": [
    "df"
   ]
  },
  {
   "cell_type": "code",
   "execution_count": null,
   "metadata": {
    "collapsed": true
   },
   "outputs": [],
   "source": [
    "# Pass a list of column names\n",
    "#Select * from df\n",
    "lista = df[['data','CNPJ','cidade']]"
   ]
  },
  {
   "cell_type": "code",
   "execution_count": null,
   "metadata": {
    "collapsed": true
   },
   "outputs": [],
   "source": [
    "type(lista)"
   ]
  },
  {
   "cell_type": "code",
   "execution_count": null,
   "metadata": {
    "collapsed": true
   },
   "outputs": [],
   "source": [
    "# Select Descrição da linha 100\n",
    "# loc pega pela Chave\n",
    "df['descricao'].loc[100]"
   ]
  },
  {
   "cell_type": "code",
   "execution_count": null,
   "metadata": {
    "collapsed": true
   },
   "outputs": [],
   "source": [
    "# Select * where linha = 100\n",
    "#linha = df.iloc[1:10] # Pega da index 1 a 9\n",
    "#linha = df.iloc[10]   # Pega a linha 10\n",
    "linha = df.iloc[:10] \n",
    "\n",
    "df.iloc[4514]"
   ]
  },
  {
   "cell_type": "code",
   "execution_count": null,
   "metadata": {
    "collapsed": true
   },
   "outputs": [],
   "source": [
    "df[df['produto']=='106']"
   ]
  },
  {
   "cell_type": "code",
   "execution_count": null,
   "metadata": {
    "collapsed": true
   },
   "outputs": [],
   "source": [
    "(linha)"
   ]
  },
  {
   "cell_type": "code",
   "execution_count": null,
   "metadata": {
    "collapsed": true
   },
   "outputs": [],
   "source": [
    "df[df['W']>0]['Y']     #df[(df['W']>0) & (df['Y'] > 1)]"
   ]
  },
  {
   "cell_type": "code",
   "execution_count": null,
   "metadata": {
    "collapsed": true
   },
   "outputs": [],
   "source": [
    "linha.Bairro\n",
    "#linha.CNPJ\n",
    "#linha.Preco"
   ]
  },
  {
   "cell_type": "code",
   "execution_count": null,
   "metadata": {
    "collapsed": true
   },
   "outputs": [],
   "source": []
  },
  {
   "cell_type": "code",
   "execution_count": null,
   "metadata": {
    "collapsed": true
   },
   "outputs": [],
   "source": [
    "# Select * from df where Descricao = kkkkk\n",
    "#df[df['Descricao']=='CALDO DE CARNE COM ERVAS FINAS 60GR']\n",
    "df[df['Preco'] == 'UN']"
   ]
  },
  {
   "cell_type": "code",
   "execution_count": null,
   "metadata": {
    "collapsed": true
   },
   "outputs": [],
   "source": [
    "mask = (df['Preco'] == 'UN')\n",
    "#& (df['date'] <= '2000-6-10')\n",
    "#print np.shape((calit2_dataFrame.loc[mask]))\n",
    "supra_df = df.loc[mask]"
   ]
  },
  {
   "cell_type": "code",
   "execution_count": null,
   "metadata": {
    "collapsed": true
   },
   "outputs": [],
   "source": [
    "supra_df"
   ]
  },
  {
   "cell_type": "code",
   "execution_count": null,
   "metadata": {
    "collapsed": true
   },
   "outputs": [],
   "source": [
    "(df['data'].str[0:7])"
   ]
  },
  {
   "cell_type": "code",
   "execution_count": null,
   "metadata": {
    "collapsed": true
   },
   "outputs": [],
   "source": [
    "df[(df['Cod']=='01.0009') & (df['Data'].str[0:4] == '2014')]"
   ]
  },
  {
   "cell_type": "code",
   "execution_count": null,
   "metadata": {
    "collapsed": true
   },
   "outputs": [],
   "source": [
    "#Select Cidade from df where descrição = kkkkk\n",
    "cidades = df[df['Descricao']=='CALDO DE CARNE COM ERVAS FINAS 60GR'][['Cidade','Bairro','CNPJ']]"
   ]
  },
  {
   "cell_type": "code",
   "execution_count": null,
   "metadata": {
    "collapsed": true
   },
   "outputs": [],
   "source": [
    "cidades.sort_values(by='CNPJ',ascending=0)"
   ]
  },
  {
   "cell_type": "code",
   "execution_count": null,
   "metadata": {
    "collapsed": true
   },
   "outputs": [],
   "source": [
    "df.set_index(['Cidade'])"
   ]
  },
  {
   "cell_type": "code",
   "execution_count": null,
   "metadata": {
    "collapsed": true
   },
   "outputs": [],
   "source": [
    "df.columns = df.columns.to_series().apply(lambda x: x.strip())"
   ]
  },
  {
   "cell_type": "code",
   "execution_count": null,
   "metadata": {
    "collapsed": true
   },
   "outputs": [],
   "source": [
    "df[['Preco','Qty']] = df[['Preco','Qty']].apply(pd.to_numeric)"
   ]
  },
  {
   "cell_type": "code",
   "execution_count": null,
   "metadata": {
    "collapsed": true
   },
   "outputs": [],
   "source": [
    "df.pivot_table(values='Preco',index=['Data', 'NF']) #,columns=['C']"
   ]
  },
  {
   "cell_type": "code",
   "execution_count": null,
   "metadata": {
    "collapsed": true
   },
   "outputs": [],
   "source": [
    "# SQL Syntax (NOT RECOMMENDED!)\n",
    "df.W"
   ]
  },
  {
   "cell_type": "markdown",
   "metadata": {},
   "source": [
    "DataFrame Columns are just Series"
   ]
  },
  {
   "cell_type": "code",
   "execution_count": null,
   "metadata": {
    "collapsed": true
   },
   "outputs": [],
   "source": [
    "type(df['W'])"
   ]
  },
  {
   "cell_type": "markdown",
   "metadata": {},
   "source": [
    "**Creating a new column:**"
   ]
  },
  {
   "cell_type": "code",
   "execution_count": null,
   "metadata": {
    "collapsed": true
   },
   "outputs": [],
   "source": [
    "df['new'] = df['W'] + df['Y']"
   ]
  },
  {
   "cell_type": "code",
   "execution_count": null,
   "metadata": {
    "collapsed": true
   },
   "outputs": [],
   "source": [
    "df"
   ]
  },
  {
   "cell_type": "markdown",
   "metadata": {},
   "source": [
    "** Removing Columns**"
   ]
  },
  {
   "cell_type": "code",
   "execution_count": null,
   "metadata": {
    "collapsed": true
   },
   "outputs": [],
   "source": [
    "df.drop('new',axis=1)"
   ]
  },
  {
   "cell_type": "code",
   "execution_count": null,
   "metadata": {
    "collapsed": true
   },
   "outputs": [],
   "source": [
    "# Not inplace unless specified!\n",
    "df"
   ]
  },
  {
   "cell_type": "code",
   "execution_count": null,
   "metadata": {
    "collapsed": true
   },
   "outputs": [],
   "source": [
    "df.drop('new',axis=1,inplace=True)"
   ]
  },
  {
   "cell_type": "code",
   "execution_count": null,
   "metadata": {
    "collapsed": true
   },
   "outputs": [],
   "source": [
    "df"
   ]
  },
  {
   "cell_type": "markdown",
   "metadata": {},
   "source": [
    "Can also drop rows this way:"
   ]
  },
  {
   "cell_type": "code",
   "execution_count": null,
   "metadata": {
    "collapsed": true
   },
   "outputs": [],
   "source": [
    "df.drop('E',axis=0)"
   ]
  },
  {
   "cell_type": "markdown",
   "metadata": {},
   "source": [
    "** Selecting Rows**"
   ]
  },
  {
   "cell_type": "code",
   "execution_count": null,
   "metadata": {
    "collapsed": true
   },
   "outputs": [],
   "source": [
    "df.loc['A']"
   ]
  },
  {
   "cell_type": "markdown",
   "metadata": {},
   "source": [
    "Or select based off of position instead of label "
   ]
  },
  {
   "cell_type": "code",
   "execution_count": null,
   "metadata": {
    "collapsed": true
   },
   "outputs": [],
   "source": [
    "df.iloc[2]"
   ]
  },
  {
   "cell_type": "markdown",
   "metadata": {},
   "source": [
    "** Selecting subset of rows and columns **"
   ]
  },
  {
   "cell_type": "code",
   "execution_count": null,
   "metadata": {
    "collapsed": true
   },
   "outputs": [],
   "source": [
    "df.loc['B','Y']"
   ]
  },
  {
   "cell_type": "code",
   "execution_count": null,
   "metadata": {
    "collapsed": true
   },
   "outputs": [],
   "source": [
    "df.loc[['A','B'],['W','Y']]"
   ]
  },
  {
   "cell_type": "markdown",
   "metadata": {},
   "source": [
    "### Conditional Selection\n",
    "\n",
    "An important feature of pandas is conditional selection using bracket notation, very similar to numpy:"
   ]
  },
  {
   "cell_type": "code",
   "execution_count": null,
   "metadata": {
    "collapsed": true
   },
   "outputs": [],
   "source": [
    "df"
   ]
  },
  {
   "cell_type": "code",
   "execution_count": null,
   "metadata": {
    "collapsed": true
   },
   "outputs": [],
   "source": [
    "df>0"
   ]
  },
  {
   "cell_type": "code",
   "execution_count": null,
   "metadata": {
    "collapsed": true
   },
   "outputs": [],
   "source": [
    "df[df>0]"
   ]
  },
  {
   "cell_type": "code",
   "execution_count": null,
   "metadata": {
    "collapsed": true
   },
   "outputs": [],
   "source": [
    "df[df['W']>0]"
   ]
  },
  {
   "cell_type": "code",
   "execution_count": null,
   "metadata": {
    "collapsed": true
   },
   "outputs": [],
   "source": [
    "df[df['W']>0]['Y'] "
   ]
  },
  {
   "cell_type": "code",
   "execution_count": null,
   "metadata": {
    "collapsed": true
   },
   "outputs": [],
   "source": [
    "df[df['W']>0][['Y','X']]"
   ]
  },
  {
   "cell_type": "markdown",
   "metadata": {},
   "source": [
    "For two conditions you can use | and & with parenthesis:"
   ]
  },
  {
   "cell_type": "code",
   "execution_count": null,
   "metadata": {
    "collapsed": true
   },
   "outputs": [],
   "source": [
    "df[(df['W']>0) & (df['Y'] > 1)]"
   ]
  },
  {
   "cell_type": "markdown",
   "metadata": {},
   "source": [
    "## More Index Details\n",
    "\n",
    "Let's discuss some more features of indexing, including resetting the index or setting it something else. We'll also talk about index hierarchy!"
   ]
  },
  {
   "cell_type": "code",
   "execution_count": null,
   "metadata": {
    "collapsed": true
   },
   "outputs": [],
   "source": [
    "df"
   ]
  },
  {
   "cell_type": "code",
   "execution_count": null,
   "metadata": {
    "collapsed": true
   },
   "outputs": [],
   "source": [
    "# Reset to default 0,1...n index\n",
    "df.reset_index()"
   ]
  },
  {
   "cell_type": "code",
   "execution_count": null,
   "metadata": {
    "collapsed": true
   },
   "outputs": [],
   "source": [
    "newind = 'CA NY WY OR CO'.split()"
   ]
  },
  {
   "cell_type": "code",
   "execution_count": null,
   "metadata": {
    "collapsed": true
   },
   "outputs": [],
   "source": [
    "df['States'] = newind"
   ]
  },
  {
   "cell_type": "code",
   "execution_count": null,
   "metadata": {
    "collapsed": true
   },
   "outputs": [],
   "source": [
    "df"
   ]
  },
  {
   "cell_type": "code",
   "execution_count": null,
   "metadata": {
    "collapsed": true
   },
   "outputs": [],
   "source": [
    "df.set_index('States')"
   ]
  },
  {
   "cell_type": "code",
   "execution_count": null,
   "metadata": {
    "collapsed": true
   },
   "outputs": [],
   "source": [
    "df"
   ]
  },
  {
   "cell_type": "code",
   "execution_count": null,
   "metadata": {
    "collapsed": true
   },
   "outputs": [],
   "source": [
    "df.set_index('States',inplace=True)"
   ]
  },
  {
   "cell_type": "code",
   "execution_count": null,
   "metadata": {
    "collapsed": true
   },
   "outputs": [],
   "source": [
    "df"
   ]
  },
  {
   "cell_type": "markdown",
   "metadata": {},
   "source": [
    "## Multi-Index and Index Hierarchy\n",
    "\n",
    "Let us go over how to work with Multi-Index, first we'll create a quick example of what a Multi-Indexed DataFrame would look like:"
   ]
  },
  {
   "cell_type": "code",
   "execution_count": null,
   "metadata": {
    "collapsed": true
   },
   "outputs": [],
   "source": [
    "# Index Levels\n",
    "outside = ['G1','G1','G1','G2','G2','G2']\n",
    "inside = [1,2,3,1,2,3]\n",
    "hier_index = list(zip(outside,inside))\n",
    "hier_index = pd.MultiIndex.from_tuples(hier_index)"
   ]
  },
  {
   "cell_type": "code",
   "execution_count": null,
   "metadata": {
    "collapsed": true
   },
   "outputs": [],
   "source": [
    "hier_index"
   ]
  },
  {
   "cell_type": "code",
   "execution_count": null,
   "metadata": {
    "collapsed": true
   },
   "outputs": [],
   "source": [
    "df = pd.DataFrame(np.random.randn(6,2),index=hier_index,columns=['A','B'])\n",
    "df"
   ]
  },
  {
   "cell_type": "markdown",
   "metadata": {},
   "source": [
    "Now let's show how to index this! For index hierarchy we use df.loc[], if this was on the columns axis, you would just use normal bracket notation df[]. Calling one level of the index returns the sub-dataframe:"
   ]
  },
  {
   "cell_type": "code",
   "execution_count": null,
   "metadata": {
    "collapsed": true
   },
   "outputs": [],
   "source": [
    "df.loc['G1']"
   ]
  },
  {
   "cell_type": "code",
   "execution_count": null,
   "metadata": {
    "collapsed": true
   },
   "outputs": [],
   "source": [
    "df.loc['G1'].loc[1]"
   ]
  },
  {
   "cell_type": "code",
   "execution_count": null,
   "metadata": {
    "collapsed": true
   },
   "outputs": [],
   "source": [
    "df.index.names"
   ]
  },
  {
   "cell_type": "code",
   "execution_count": null,
   "metadata": {
    "collapsed": true
   },
   "outputs": [],
   "source": [
    "df.index.names = ['Group','Num']"
   ]
  },
  {
   "cell_type": "code",
   "execution_count": null,
   "metadata": {
    "collapsed": true
   },
   "outputs": [],
   "source": [
    "df"
   ]
  },
  {
   "cell_type": "code",
   "execution_count": null,
   "metadata": {
    "collapsed": true
   },
   "outputs": [],
   "source": [
    "df.xs('G1')"
   ]
  },
  {
   "cell_type": "code",
   "execution_count": null,
   "metadata": {
    "collapsed": true
   },
   "outputs": [],
   "source": [
    "df.xs(['G1',1])"
   ]
  },
  {
   "cell_type": "code",
   "execution_count": null,
   "metadata": {
    "collapsed": true
   },
   "outputs": [],
   "source": [
    "df.xs(1,level='Num')"
   ]
  },
  {
   "cell_type": "markdown",
   "metadata": {},
   "source": [
    "# Great Job!"
   ]
  }
 ],
 "metadata": {
  "kernelspec": {
   "display_name": "Python 3",
   "language": "python",
   "name": "python3"
  },
  "language_info": {
   "codemirror_mode": {
    "name": "ipython",
    "version": 3
   },
   "file_extension": ".py",
   "mimetype": "text/x-python",
   "name": "python",
   "nbconvert_exporter": "python",
   "pygments_lexer": "ipython3",
   "version": "3.6.2"
  }
 },
 "nbformat": 4,
 "nbformat_minor": 1
}
