{
 "cells": [
  {
   "cell_type": "markdown",
   "metadata": {},
   "source": [
    "Definir:\n",
    "1 - Evolução quantitativa de clientes ativos por mês\n",
    "2 - Classificar os clientes por volume e frequencia de compra.\n",
    "3 - O que cada cliente compra e com que frequência.\n",
    "4 - Evolução dos produtos Oferecidos\n",
    "5 - Classificar produtos por tipo.Varios produtos identicos com códigos diferentes em função da embalagem\n",
    "6 - Análise geográfica x volume x produto"
   ]
  },
  {
   "cell_type": "code",
   "execution_count": 1,
   "metadata": {},
   "outputs": [
    {
     "data": {
      "text/plain": [
       "'Portuguese_Brazil.1252'"
      ]
     },
     "execution_count": 1,
     "metadata": {},
     "output_type": "execute_result"
    }
   ],
   "source": [
    "import pandas as pd\n",
    "import numpy as np\n",
    "import locale\n",
    "import matplotlib.pyplot as plt\n",
    "import seaborn as sns\n",
    "%matplotlib inline\n",
    "\n",
    "# Define Moeda Brasileira numeros R$ 1.000,00\n",
    "locale.setlocale( locale.LC_ALL, '' )\n",
    "#locale.currency( g, grouping = True )"
   ]
  },
  {
   "cell_type": "code",
   "execution_count": 2,
   "metadata": {
    "collapsed": true
   },
   "outputs": [],
   "source": [
    "#locale.currency( g, grouping = True )"
   ]
  },
  {
   "cell_type": "code",
   "execution_count": 3,
   "metadata": {
    "collapsed": true
   },
   "outputs": [],
   "source": [
    "from numpy.random import randn\n",
    "#np.random.seed(101)"
   ]
  },
  {
   "cell_type": "code",
   "execution_count": 4,
   "metadata": {
    "collapsed": true
   },
   "outputs": [],
   "source": [
    "#pd.options.display.float_format = 'R${:,.2f}'.format"
   ]
  },
  {
   "cell_type": "code",
   "execution_count": 5,
   "metadata": {
    "collapsed": true
   },
   "outputs": [],
   "source": [
    "# Abre o dataset\n",
    "df = pd.read_csv('NFe-SupraAlimentos.csv')\n"
   ]
  },
  {
   "cell_type": "code",
   "execution_count": 6,
   "metadata": {},
   "outputs": [
    {
     "data": {
      "text/html": [
       "<div>\n",
       "<style scoped>\n",
       "    .dataframe tbody tr th:only-of-type {\n",
       "        vertical-align: middle;\n",
       "    }\n",
       "\n",
       "    .dataframe tbody tr th {\n",
       "        vertical-align: top;\n",
       "    }\n",
       "\n",
       "    .dataframe thead th {\n",
       "        text-align: right;\n",
       "    }\n",
       "</style>\n",
       "<table border=\"1\" class=\"dataframe\">\n",
       "  <thead>\n",
       "    <tr style=\"text-align: right;\">\n",
       "      <th></th>\n",
       "      <th>cliente</th>\n",
       "      <th>NF</th>\n",
       "      <th>data</th>\n",
       "      <th>CNPJ</th>\n",
       "      <th>cidade</th>\n",
       "      <th>bairro</th>\n",
       "      <th>UF</th>\n",
       "      <th>cod</th>\n",
       "      <th>descricao</th>\n",
       "      <th>QTY</th>\n",
       "      <th>unidade</th>\n",
       "      <th>preco</th>\n",
       "    </tr>\n",
       "  </thead>\n",
       "  <tbody>\n",
       "    <tr>\n",
       "      <th>0</th>\n",
       "      <td>NF-E EMITIDA EM AMBIENTE DE HOMOLOGACAO - SEM ...</td>\n",
       "      <td>4</td>\n",
       "      <td>2014-08-29</td>\n",
       "      <td>27833615002018</td>\n",
       "      <td>RIO DE JANEIRO</td>\n",
       "      <td>CASIMIRO DE ABREU</td>\n",
       "      <td>RJ</td>\n",
       "      <td>20002</td>\n",
       "      <td>ALHO CEBOLA PICADINHO S/SAL 180GR</td>\n",
       "      <td>1</td>\n",
       "      <td>UN</td>\n",
       "      <td>2.77</td>\n",
       "    </tr>\n",
       "    <tr>\n",
       "      <th>1</th>\n",
       "      <td>NF-E EMITIDA EM AMBIENTE DE HOMOLOGACAO - SEM ...</td>\n",
       "      <td>5</td>\n",
       "      <td>2014-08-29</td>\n",
       "      <td>9309021000168</td>\n",
       "      <td>RIO DE JANEIRO</td>\n",
       "      <td>VILA NOVA DE CAMPOS</td>\n",
       "      <td>RJ</td>\n",
       "      <td>10002</td>\n",
       "      <td>ALECRIM 15GR</td>\n",
       "      <td>1</td>\n",
       "      <td>UN</td>\n",
       "      <td>1.11</td>\n",
       "    </tr>\n",
       "    <tr>\n",
       "      <th>2</th>\n",
       "      <td>NF-E EMITIDA EM AMBIENTE DE HOMOLOGACAO - SEM ...</td>\n",
       "      <td>6</td>\n",
       "      <td>2014-08-29</td>\n",
       "      <td>9309021000168</td>\n",
       "      <td>ANGRA DOS REIS</td>\n",
       "      <td>VILA NOVA DE CAMPOS</td>\n",
       "      <td>RJ</td>\n",
       "      <td>10001</td>\n",
       "      <td>ACAFRAO 15GR</td>\n",
       "      <td>12</td>\n",
       "      <td>UN</td>\n",
       "      <td>9.72</td>\n",
       "    </tr>\n",
       "    <tr>\n",
       "      <th>3</th>\n",
       "      <td>NF-E EMITIDA EM AMBIENTE DE HOMOLOGACAO - SEM ...</td>\n",
       "      <td>6</td>\n",
       "      <td>2014-08-29</td>\n",
       "      <td>9309021000168</td>\n",
       "      <td>ANGRA DOS REIS</td>\n",
       "      <td>VILA NOVA DE CAMPOS</td>\n",
       "      <td>RJ</td>\n",
       "      <td>10002</td>\n",
       "      <td>ALECRIM 15GR</td>\n",
       "      <td>1</td>\n",
       "      <td>UN</td>\n",
       "      <td>1.11</td>\n",
       "    </tr>\n",
       "    <tr>\n",
       "      <th>4</th>\n",
       "      <td>NF-E EMITIDA EM AMBIENTE DE HOMOLOGACAO - SEM ...</td>\n",
       "      <td>6</td>\n",
       "      <td>2014-08-29</td>\n",
       "      <td>9309021000168</td>\n",
       "      <td>ANGRA DOS REIS</td>\n",
       "      <td>VILA NOVA DE CAMPOS</td>\n",
       "      <td>RJ</td>\n",
       "      <td>10009</td>\n",
       "      <td>CALDO DE CARNE COM ERVAS FINAS 60GR</td>\n",
       "      <td>1</td>\n",
       "      <td>UN</td>\n",
       "      <td>1.43</td>\n",
       "    </tr>\n",
       "  </tbody>\n",
       "</table>\n",
       "</div>"
      ],
      "text/plain": [
       "                                             cliente  NF        data  \\\n",
       "0  NF-E EMITIDA EM AMBIENTE DE HOMOLOGACAO - SEM ...   4  2014-08-29   \n",
       "1  NF-E EMITIDA EM AMBIENTE DE HOMOLOGACAO - SEM ...   5  2014-08-29   \n",
       "2  NF-E EMITIDA EM AMBIENTE DE HOMOLOGACAO - SEM ...   6  2014-08-29   \n",
       "3  NF-E EMITIDA EM AMBIENTE DE HOMOLOGACAO - SEM ...   6  2014-08-29   \n",
       "4  NF-E EMITIDA EM AMBIENTE DE HOMOLOGACAO - SEM ...   6  2014-08-29   \n",
       "\n",
       "             CNPJ          cidade               bairro  UF    cod  \\\n",
       "0  27833615002018  RIO DE JANEIRO    CASIMIRO DE ABREU  RJ  20002   \n",
       "1   9309021000168  RIO DE JANEIRO  VILA NOVA DE CAMPOS  RJ  10002   \n",
       "2   9309021000168  ANGRA DOS REIS  VILA NOVA DE CAMPOS  RJ  10001   \n",
       "3   9309021000168  ANGRA DOS REIS  VILA NOVA DE CAMPOS  RJ  10002   \n",
       "4   9309021000168  ANGRA DOS REIS  VILA NOVA DE CAMPOS  RJ  10009   \n",
       "\n",
       "                             descricao  QTY unidade  preco  \n",
       "0    ALHO CEBOLA PICADINHO S/SAL 180GR    1      UN   2.77  \n",
       "1                         ALECRIM 15GR    1      UN   1.11  \n",
       "2                         ACAFRAO 15GR   12      UN   9.72  \n",
       "3                         ALECRIM 15GR    1      UN   1.11  \n",
       "4  CALDO DE CARNE COM ERVAS FINAS 60GR    1      UN   1.43  "
      ]
     },
     "execution_count": 6,
     "metadata": {},
     "output_type": "execute_result"
    }
   ],
   "source": [
    "df.head()"
   ]
  },
  {
   "cell_type": "markdown",
   "metadata": {},
   "source": [
    "#### Faturamento Total\n"
   ]
  },
  {
   "cell_type": "code",
   "execution_count": 7,
   "metadata": {
    "collapsed": true
   },
   "outputs": [],
   "source": [
    "#g = float(\"{0:.2f}\".format(df['preco'].sum())) \n",
    "#FaturamentoTotal = locale.currency( g, grouping = True ) \n",
    "FaturamentoTotal=df['preco'].sum()\n",
    "#faturamento=df['preco'].sum()\n"
   ]
  },
  {
   "cell_type": "code",
   "execution_count": 8,
   "metadata": {},
   "outputs": [
    {
     "data": {
      "text/plain": [
       "11677734.969999999"
      ]
     },
     "execution_count": 8,
     "metadata": {},
     "output_type": "execute_result"
    }
   ],
   "source": [
    "FaturamentoTotal"
   ]
  },
  {
   "cell_type": "markdown",
   "metadata": {
    "collapsed": true
   },
   "source": [
    "#### Total de NF Emitidas no Período"
   ]
  },
  {
   "cell_type": "code",
   "execution_count": 9,
   "metadata": {
    "collapsed": true
   },
   "outputs": [],
   "source": [
    "NotasFiscais = df['NF']"
   ]
  },
  {
   "cell_type": "code",
   "execution_count": 10,
   "metadata": {
    "collapsed": true
   },
   "outputs": [],
   "source": [
    "NotasFiscais = NotasFiscais.drop_duplicates()"
   ]
  },
  {
   "cell_type": "code",
   "execution_count": 11,
   "metadata": {
    "collapsed": true
   },
   "outputs": [],
   "source": [
    "TotalNFEmitidas = len(NotasFiscais)"
   ]
  },
  {
   "cell_type": "code",
   "execution_count": 12,
   "metadata": {},
   "outputs": [
    {
     "data": {
      "text/plain": [
       "6627"
      ]
     },
     "execution_count": 12,
     "metadata": {},
     "output_type": "execute_result"
    }
   ],
   "source": [
    "TotalNFEmitidas "
   ]
  },
  {
   "cell_type": "markdown",
   "metadata": {},
   "source": [
    "#### Vendas Mensais"
   ]
  },
  {
   "cell_type": "code",
   "execution_count": 13,
   "metadata": {
    "collapsed": true
   },
   "outputs": [],
   "source": [
    "Vendas = df[['data','preco']].groupby(df['data'].str[0:7]).sum().reset_index()"
   ]
  },
  {
   "cell_type": "code",
   "execution_count": 14,
   "metadata": {},
   "outputs": [
    {
     "data": {
      "text/html": [
       "<div>\n",
       "<style scoped>\n",
       "    .dataframe tbody tr th:only-of-type {\n",
       "        vertical-align: middle;\n",
       "    }\n",
       "\n",
       "    .dataframe tbody tr th {\n",
       "        vertical-align: top;\n",
       "    }\n",
       "\n",
       "    .dataframe thead th {\n",
       "        text-align: right;\n",
       "    }\n",
       "</style>\n",
       "<table border=\"1\" class=\"dataframe\">\n",
       "  <thead>\n",
       "    <tr style=\"text-align: right;\">\n",
       "      <th></th>\n",
       "      <th>data</th>\n",
       "      <th>preco</th>\n",
       "    </tr>\n",
       "  </thead>\n",
       "  <tbody>\n",
       "    <tr>\n",
       "      <th>0</th>\n",
       "      <td>2014-08</td>\n",
       "      <td>25.15</td>\n",
       "    </tr>\n",
       "    <tr>\n",
       "      <th>1</th>\n",
       "      <td>2014-09</td>\n",
       "      <td>30659.84</td>\n",
       "    </tr>\n",
       "    <tr>\n",
       "      <th>2</th>\n",
       "      <td>2014-10</td>\n",
       "      <td>166108.11</td>\n",
       "    </tr>\n",
       "    <tr>\n",
       "      <th>3</th>\n",
       "      <td>2014-11</td>\n",
       "      <td>202230.11</td>\n",
       "    </tr>\n",
       "    <tr>\n",
       "      <th>4</th>\n",
       "      <td>2014-12</td>\n",
       "      <td>261422.34</td>\n",
       "    </tr>\n",
       "  </tbody>\n",
       "</table>\n",
       "</div>"
      ],
      "text/plain": [
       "      data      preco\n",
       "0  2014-08      25.15\n",
       "1  2014-09   30659.84\n",
       "2  2014-10  166108.11\n",
       "3  2014-11  202230.11\n",
       "4  2014-12  261422.34"
      ]
     },
     "execution_count": 14,
     "metadata": {},
     "output_type": "execute_result"
    }
   ],
   "source": [
    "Vendas.head()"
   ]
  },
  {
   "cell_type": "markdown",
   "metadata": {},
   "source": [
    "#### Vendas por Ano"
   ]
  },
  {
   "cell_type": "code",
   "execution_count": 15,
   "metadata": {
    "collapsed": true
   },
   "outputs": [],
   "source": [
    "V18 = Vendas[(Vendas['data'].str[0:4]=='2018')].reset_index(drop=True)"
   ]
  },
  {
   "cell_type": "code",
   "execution_count": 16,
   "metadata": {
    "collapsed": true
   },
   "outputs": [],
   "source": [
    "V17 = Vendas[(Vendas['data'].str[0:4]=='2017')].reset_index(drop=True)"
   ]
  },
  {
   "cell_type": "code",
   "execution_count": 17,
   "metadata": {
    "collapsed": true
   },
   "outputs": [],
   "source": [
    "V16 = Vendas[(Vendas['data'].str[0:4]=='2016')].reset_index(drop=True)"
   ]
  },
  {
   "cell_type": "code",
   "execution_count": 18,
   "metadata": {
    "collapsed": true
   },
   "outputs": [],
   "source": [
    "V15 = Vendas[(Vendas['data'].str[0:4]=='2015')].reset_index(drop=True)"
   ]
  },
  {
   "cell_type": "code",
   "execution_count": 19,
   "metadata": {
    "collapsed": true
   },
   "outputs": [],
   "source": [
    "V14 = Vendas[(Vendas['data'].str[0:4]=='2014')].reset_index(drop=True)\n"
   ]
  },
  {
   "cell_type": "code",
   "execution_count": 20,
   "metadata": {
    "collapsed": true
   },
   "outputs": [],
   "source": [
    "V14 = V14.append({'data':'2014-01','preco':0}, ignore_index=True)\n",
    "V14 = V14.append({'data':'2014-02','preco':0}, ignore_index=True)\n",
    "V14 = V14.append({'data':'2014-03','preco':0}, ignore_index=True)\n",
    "V14 = V14.append({'data':'2014-04','preco':0}, ignore_index=True)\n",
    "V14 = V14.append({'data':'2014-05','preco':0}, ignore_index=True)\n",
    "V14 = V14.append({'data':'2014-06','preco':0}, ignore_index=True)\n",
    "V14 = V14.append({'data':'2014-07','preco':0}, ignore_index=True)\n",
    "\n"
   ]
  },
  {
   "cell_type": "code",
   "execution_count": 21,
   "metadata": {
    "collapsed": true
   },
   "outputs": [],
   "source": [
    "V14 = V14.sort_values(by=['data']).reset_index(drop=True)"
   ]
  },
  {
   "cell_type": "code",
   "execution_count": 22,
   "metadata": {},
   "outputs": [
    {
     "data": {
      "text/html": [
       "<div>\n",
       "<style scoped>\n",
       "    .dataframe tbody tr th:only-of-type {\n",
       "        vertical-align: middle;\n",
       "    }\n",
       "\n",
       "    .dataframe tbody tr th {\n",
       "        vertical-align: top;\n",
       "    }\n",
       "\n",
       "    .dataframe thead th {\n",
       "        text-align: right;\n",
       "    }\n",
       "</style>\n",
       "<table border=\"1\" class=\"dataframe\">\n",
       "  <thead>\n",
       "    <tr style=\"text-align: right;\">\n",
       "      <th></th>\n",
       "      <th>data</th>\n",
       "      <th>preco</th>\n",
       "    </tr>\n",
       "  </thead>\n",
       "  <tbody>\n",
       "    <tr>\n",
       "      <th>7</th>\n",
       "      <td>2014-08</td>\n",
       "      <td>25.15</td>\n",
       "    </tr>\n",
       "    <tr>\n",
       "      <th>8</th>\n",
       "      <td>2014-09</td>\n",
       "      <td>30659.84</td>\n",
       "    </tr>\n",
       "    <tr>\n",
       "      <th>9</th>\n",
       "      <td>2014-10</td>\n",
       "      <td>166108.11</td>\n",
       "    </tr>\n",
       "    <tr>\n",
       "      <th>10</th>\n",
       "      <td>2014-11</td>\n",
       "      <td>202230.11</td>\n",
       "    </tr>\n",
       "    <tr>\n",
       "      <th>11</th>\n",
       "      <td>2014-12</td>\n",
       "      <td>261422.34</td>\n",
       "    </tr>\n",
       "  </tbody>\n",
       "</table>\n",
       "</div>"
      ],
      "text/plain": [
       "       data      preco\n",
       "7   2014-08      25.15\n",
       "8   2014-09   30659.84\n",
       "9   2014-10  166108.11\n",
       "10  2014-11  202230.11\n",
       "11  2014-12  261422.34"
      ]
     },
     "execution_count": 22,
     "metadata": {},
     "output_type": "execute_result"
    }
   ],
   "source": [
    "V14.tail()"
   ]
  },
  {
   "cell_type": "code",
   "execution_count": 23,
   "metadata": {
    "collapsed": true
   },
   "outputs": [],
   "source": [
    "sales = [('Mês',['Jan','Fev','Mar','Abr','Mai','Jun','Jul','Ago','Set','Out','Nov','Dez']),\n",
    "         ('2014',V14['preco']),\n",
    "         ('2015',V15['preco']),\n",
    "         ('2016',V16['preco']),\n",
    "         ('2017',V17['preco']),\n",
    "         ('2018',V18['preco']),]"
   ]
  },
  {
   "cell_type": "code",
   "execution_count": 24,
   "metadata": {
    "collapsed": true
   },
   "outputs": [],
   "source": [
    "sales_DF = pd.DataFrame.from_items(sales)"
   ]
  },
  {
   "cell_type": "code",
   "execution_count": 25,
   "metadata": {},
   "outputs": [
    {
     "data": {
      "text/html": [
       "<div>\n",
       "<style scoped>\n",
       "    .dataframe tbody tr th:only-of-type {\n",
       "        vertical-align: middle;\n",
       "    }\n",
       "\n",
       "    .dataframe tbody tr th {\n",
       "        vertical-align: top;\n",
       "    }\n",
       "\n",
       "    .dataframe thead th {\n",
       "        text-align: right;\n",
       "    }\n",
       "</style>\n",
       "<table border=\"1\" class=\"dataframe\">\n",
       "  <thead>\n",
       "    <tr style=\"text-align: right;\">\n",
       "      <th></th>\n",
       "      <th>Mês</th>\n",
       "      <th>2014</th>\n",
       "      <th>2015</th>\n",
       "      <th>2016</th>\n",
       "      <th>2017</th>\n",
       "      <th>2018</th>\n",
       "    </tr>\n",
       "  </thead>\n",
       "  <tbody>\n",
       "    <tr>\n",
       "      <th>0</th>\n",
       "      <td>Jan</td>\n",
       "      <td>0.00</td>\n",
       "      <td>167359.14</td>\n",
       "      <td>215603.05</td>\n",
       "      <td>223066.16</td>\n",
       "      <td>440912.50</td>\n",
       "    </tr>\n",
       "    <tr>\n",
       "      <th>1</th>\n",
       "      <td>Fev</td>\n",
       "      <td>0.00</td>\n",
       "      <td>187427.98</td>\n",
       "      <td>230846.22</td>\n",
       "      <td>419094.69</td>\n",
       "      <td>243182.04</td>\n",
       "    </tr>\n",
       "    <tr>\n",
       "      <th>2</th>\n",
       "      <td>Mar</td>\n",
       "      <td>0.00</td>\n",
       "      <td>232049.37</td>\n",
       "      <td>283184.44</td>\n",
       "      <td>367971.45</td>\n",
       "      <td>NaN</td>\n",
       "    </tr>\n",
       "    <tr>\n",
       "      <th>3</th>\n",
       "      <td>Abr</td>\n",
       "      <td>0.00</td>\n",
       "      <td>122549.58</td>\n",
       "      <td>266678.23</td>\n",
       "      <td>330764.78</td>\n",
       "      <td>NaN</td>\n",
       "    </tr>\n",
       "    <tr>\n",
       "      <th>4</th>\n",
       "      <td>Mai</td>\n",
       "      <td>0.00</td>\n",
       "      <td>158585.94</td>\n",
       "      <td>198344.71</td>\n",
       "      <td>408940.00</td>\n",
       "      <td>NaN</td>\n",
       "    </tr>\n",
       "    <tr>\n",
       "      <th>5</th>\n",
       "      <td>Jun</td>\n",
       "      <td>0.00</td>\n",
       "      <td>161137.81</td>\n",
       "      <td>256762.57</td>\n",
       "      <td>360857.82</td>\n",
       "      <td>NaN</td>\n",
       "    </tr>\n",
       "    <tr>\n",
       "      <th>6</th>\n",
       "      <td>Jul</td>\n",
       "      <td>0.00</td>\n",
       "      <td>225357.45</td>\n",
       "      <td>207020.66</td>\n",
       "      <td>354151.95</td>\n",
       "      <td>NaN</td>\n",
       "    </tr>\n",
       "    <tr>\n",
       "      <th>7</th>\n",
       "      <td>Ago</td>\n",
       "      <td>25.15</td>\n",
       "      <td>171335.69</td>\n",
       "      <td>297127.17</td>\n",
       "      <td>354449.32</td>\n",
       "      <td>NaN</td>\n",
       "    </tr>\n",
       "    <tr>\n",
       "      <th>8</th>\n",
       "      <td>Set</td>\n",
       "      <td>30659.84</td>\n",
       "      <td>210564.28</td>\n",
       "      <td>326441.15</td>\n",
       "      <td>359574.77</td>\n",
       "      <td>NaN</td>\n",
       "    </tr>\n",
       "    <tr>\n",
       "      <th>9</th>\n",
       "      <td>Out</td>\n",
       "      <td>166108.11</td>\n",
       "      <td>218276.49</td>\n",
       "      <td>260436.19</td>\n",
       "      <td>340063.38</td>\n",
       "      <td>NaN</td>\n",
       "    </tr>\n",
       "    <tr>\n",
       "      <th>10</th>\n",
       "      <td>Nov</td>\n",
       "      <td>202230.11</td>\n",
       "      <td>93276.86</td>\n",
       "      <td>402559.04</td>\n",
       "      <td>553964.42</td>\n",
       "      <td>NaN</td>\n",
       "    </tr>\n",
       "    <tr>\n",
       "      <th>11</th>\n",
       "      <td>Dez</td>\n",
       "      <td>261422.34</td>\n",
       "      <td>200293.94</td>\n",
       "      <td>480411.46</td>\n",
       "      <td>686666.72</td>\n",
       "      <td>NaN</td>\n",
       "    </tr>\n",
       "  </tbody>\n",
       "</table>\n",
       "</div>"
      ],
      "text/plain": [
       "    Mês       2014       2015       2016       2017       2018\n",
       "0   Jan       0.00  167359.14  215603.05  223066.16  440912.50\n",
       "1   Fev       0.00  187427.98  230846.22  419094.69  243182.04\n",
       "2   Mar       0.00  232049.37  283184.44  367971.45        NaN\n",
       "3   Abr       0.00  122549.58  266678.23  330764.78        NaN\n",
       "4   Mai       0.00  158585.94  198344.71  408940.00        NaN\n",
       "5   Jun       0.00  161137.81  256762.57  360857.82        NaN\n",
       "6   Jul       0.00  225357.45  207020.66  354151.95        NaN\n",
       "7   Ago      25.15  171335.69  297127.17  354449.32        NaN\n",
       "8   Set   30659.84  210564.28  326441.15  359574.77        NaN\n",
       "9   Out  166108.11  218276.49  260436.19  340063.38        NaN\n",
       "10  Nov  202230.11   93276.86  402559.04  553964.42        NaN\n",
       "11  Dez  261422.34  200293.94  480411.46  686666.72        NaN"
      ]
     },
     "execution_count": 25,
     "metadata": {},
     "output_type": "execute_result"
    }
   ],
   "source": [
    "sales_DF"
   ]
  },
  {
   "cell_type": "markdown",
   "metadata": {},
   "source": [
    "#### Cria Arquivo CSV"
   ]
  },
  {
   "cell_type": "code",
   "execution_count": 26,
   "metadata": {
    "collapsed": true
   },
   "outputs": [],
   "source": [
    "sales_DF.to_csv('C:/Mettricx/Projetos/SupraAlimentos/PowerBI/Supra_Vendas_Anuais.csv', encoding='utf-8', index=False,  float_format='%.2f')"
   ]
  },
  {
   "cell_type": "markdown",
   "metadata": {},
   "source": [
    "# Total de compras por Cliente"
   ]
  },
  {
   "cell_type": "code",
   "execution_count": 27,
   "metadata": {
    "collapsed": true
   },
   "outputs": [],
   "source": [
    "compraDeClientes = df.groupby('CNPJ')['preco'].sum().reset_index()"
   ]
  },
  {
   "cell_type": "code",
   "execution_count": 28,
   "metadata": {},
   "outputs": [
    {
     "data": {
      "text/html": [
       "<div>\n",
       "<style scoped>\n",
       "    .dataframe tbody tr th:only-of-type {\n",
       "        vertical-align: middle;\n",
       "    }\n",
       "\n",
       "    .dataframe tbody tr th {\n",
       "        vertical-align: top;\n",
       "    }\n",
       "\n",
       "    .dataframe thead th {\n",
       "        text-align: right;\n",
       "    }\n",
       "</style>\n",
       "<table border=\"1\" class=\"dataframe\">\n",
       "  <thead>\n",
       "    <tr style=\"text-align: right;\">\n",
       "      <th></th>\n",
       "      <th>CNPJ</th>\n",
       "      <th>preco</th>\n",
       "    </tr>\n",
       "  </thead>\n",
       "  <tbody>\n",
       "    <tr>\n",
       "      <th>0</th>\n",
       "      <td>175479000105</td>\n",
       "      <td>14429.17</td>\n",
       "    </tr>\n",
       "    <tr>\n",
       "      <th>1</th>\n",
       "      <td>334392000206</td>\n",
       "      <td>1511.64</td>\n",
       "    </tr>\n",
       "    <tr>\n",
       "      <th>2</th>\n",
       "      <td>381613000116</td>\n",
       "      <td>6249.46</td>\n",
       "    </tr>\n",
       "    <tr>\n",
       "      <th>3</th>\n",
       "      <td>803210000118</td>\n",
       "      <td>11911.61</td>\n",
       "    </tr>\n",
       "    <tr>\n",
       "      <th>4</th>\n",
       "      <td>814123000166</td>\n",
       "      <td>9583.20</td>\n",
       "    </tr>\n",
       "  </tbody>\n",
       "</table>\n",
       "</div>"
      ],
      "text/plain": [
       "           CNPJ     preco\n",
       "0  175479000105  14429.17\n",
       "1  334392000206   1511.64\n",
       "2  381613000116   6249.46\n",
       "3  803210000118  11911.61\n",
       "4  814123000166   9583.20"
      ]
     },
     "execution_count": 28,
     "metadata": {},
     "output_type": "execute_result"
    }
   ],
   "source": [
    "compraDeClientes.head()"
   ]
  },
  {
   "cell_type": "code",
   "execution_count": 29,
   "metadata": {
    "collapsed": true
   },
   "outputs": [],
   "source": [
    "compras = compraDeClientes.sort_values(by=['preco'],ascending=False, na_position='first').reset_index(drop=True)"
   ]
  },
  {
   "cell_type": "code",
   "execution_count": 30,
   "metadata": {},
   "outputs": [
    {
     "data": {
      "text/html": [
       "<div>\n",
       "<style scoped>\n",
       "    .dataframe tbody tr th:only-of-type {\n",
       "        vertical-align: middle;\n",
       "    }\n",
       "\n",
       "    .dataframe tbody tr th {\n",
       "        vertical-align: top;\n",
       "    }\n",
       "\n",
       "    .dataframe thead th {\n",
       "        text-align: right;\n",
       "    }\n",
       "</style>\n",
       "<table border=\"1\" class=\"dataframe\">\n",
       "  <thead>\n",
       "    <tr style=\"text-align: right;\">\n",
       "      <th></th>\n",
       "      <th>CNPJ</th>\n",
       "      <th>preco</th>\n",
       "    </tr>\n",
       "  </thead>\n",
       "  <tbody>\n",
       "    <tr>\n",
       "      <th>0</th>\n",
       "      <td>12360891000176</td>\n",
       "      <td>474946.97</td>\n",
       "    </tr>\n",
       "    <tr>\n",
       "      <th>1</th>\n",
       "      <td>15116388000168</td>\n",
       "      <td>367559.08</td>\n",
       "    </tr>\n",
       "    <tr>\n",
       "      <th>2</th>\n",
       "      <td>12434859000198</td>\n",
       "      <td>362693.84</td>\n",
       "    </tr>\n",
       "    <tr>\n",
       "      <th>3</th>\n",
       "      <td>29840154000173</td>\n",
       "      <td>300708.01</td>\n",
       "    </tr>\n",
       "    <tr>\n",
       "      <th>4</th>\n",
       "      <td>19068286000175</td>\n",
       "      <td>287622.97</td>\n",
       "    </tr>\n",
       "  </tbody>\n",
       "</table>\n",
       "</div>"
      ],
      "text/plain": [
       "             CNPJ      preco\n",
       "0  12360891000176  474946.97\n",
       "1  15116388000168  367559.08\n",
       "2  12434859000198  362693.84\n",
       "3  29840154000173  300708.01\n",
       "4  19068286000175  287622.97"
      ]
     },
     "execution_count": 30,
     "metadata": {},
     "output_type": "execute_result"
    }
   ],
   "source": [
    "compras.head()"
   ]
  },
  {
   "cell_type": "markdown",
   "metadata": {},
   "source": [
    "#### Definie volume de compras por Cliente (Participação no Volume Total)"
   ]
  },
  {
   "cell_type": "code",
   "execution_count": 31,
   "metadata": {
    "collapsed": true
   },
   "outputs": [],
   "source": [
    "compras['percenTotal']=((compras['preco']/FaturamentoTotal)*100).round(3)"
   ]
  },
  {
   "cell_type": "code",
   "execution_count": 32,
   "metadata": {},
   "outputs": [
    {
     "data": {
      "text/html": [
       "<div>\n",
       "<style scoped>\n",
       "    .dataframe tbody tr th:only-of-type {\n",
       "        vertical-align: middle;\n",
       "    }\n",
       "\n",
       "    .dataframe tbody tr th {\n",
       "        vertical-align: top;\n",
       "    }\n",
       "\n",
       "    .dataframe thead th {\n",
       "        text-align: right;\n",
       "    }\n",
       "</style>\n",
       "<table border=\"1\" class=\"dataframe\">\n",
       "  <thead>\n",
       "    <tr style=\"text-align: right;\">\n",
       "      <th></th>\n",
       "      <th>CNPJ</th>\n",
       "      <th>preco</th>\n",
       "      <th>percenTotal</th>\n",
       "    </tr>\n",
       "  </thead>\n",
       "  <tbody>\n",
       "    <tr>\n",
       "      <th>0</th>\n",
       "      <td>12360891000176</td>\n",
       "      <td>474946.97</td>\n",
       "      <td>4.067</td>\n",
       "    </tr>\n",
       "    <tr>\n",
       "      <th>1</th>\n",
       "      <td>15116388000168</td>\n",
       "      <td>367559.08</td>\n",
       "      <td>3.148</td>\n",
       "    </tr>\n",
       "    <tr>\n",
       "      <th>2</th>\n",
       "      <td>12434859000198</td>\n",
       "      <td>362693.84</td>\n",
       "      <td>3.106</td>\n",
       "    </tr>\n",
       "    <tr>\n",
       "      <th>3</th>\n",
       "      <td>29840154000173</td>\n",
       "      <td>300708.01</td>\n",
       "      <td>2.575</td>\n",
       "    </tr>\n",
       "    <tr>\n",
       "      <th>4</th>\n",
       "      <td>19068286000175</td>\n",
       "      <td>287622.97</td>\n",
       "      <td>2.463</td>\n",
       "    </tr>\n",
       "  </tbody>\n",
       "</table>\n",
       "</div>"
      ],
      "text/plain": [
       "             CNPJ      preco  percenTotal\n",
       "0  12360891000176  474946.97        4.067\n",
       "1  15116388000168  367559.08        3.148\n",
       "2  12434859000198  362693.84        3.106\n",
       "3  29840154000173  300708.01        2.575\n",
       "4  19068286000175  287622.97        2.463"
      ]
     },
     "execution_count": 32,
     "metadata": {},
     "output_type": "execute_result"
    }
   ],
   "source": [
    "compras.head()"
   ]
  },
  {
   "cell_type": "markdown",
   "metadata": {},
   "source": [
    "#### Valor de cada NF emitida"
   ]
  },
  {
   "cell_type": "code",
   "execution_count": 33,
   "metadata": {
    "collapsed": true
   },
   "outputs": [],
   "source": [
    "a = df.groupby('NF').size().reset_index(name='Qty')"
   ]
  },
  {
   "cell_type": "code",
   "execution_count": 34,
   "metadata": {
    "collapsed": true
   },
   "outputs": [],
   "source": [
    "ValorNF = df.groupby('NF')[\"preco\"].sum().rename(\"Total_NF\").reset_index()"
   ]
  },
  {
   "cell_type": "code",
   "execution_count": 35,
   "metadata": {},
   "outputs": [
    {
     "data": {
      "text/html": [
       "<div>\n",
       "<style scoped>\n",
       "    .dataframe tbody tr th:only-of-type {\n",
       "        vertical-align: middle;\n",
       "    }\n",
       "\n",
       "    .dataframe tbody tr th {\n",
       "        vertical-align: top;\n",
       "    }\n",
       "\n",
       "    .dataframe thead th {\n",
       "        text-align: right;\n",
       "    }\n",
       "</style>\n",
       "<table border=\"1\" class=\"dataframe\">\n",
       "  <thead>\n",
       "    <tr style=\"text-align: right;\">\n",
       "      <th></th>\n",
       "      <th>NF</th>\n",
       "      <th>Total_NF</th>\n",
       "    </tr>\n",
       "  </thead>\n",
       "  <tbody>\n",
       "    <tr>\n",
       "      <th>0</th>\n",
       "      <td>4</td>\n",
       "      <td>2.77</td>\n",
       "    </tr>\n",
       "    <tr>\n",
       "      <th>1</th>\n",
       "      <td>5</td>\n",
       "      <td>1.11</td>\n",
       "    </tr>\n",
       "    <tr>\n",
       "      <th>2</th>\n",
       "      <td>6</td>\n",
       "      <td>15.24</td>\n",
       "    </tr>\n",
       "    <tr>\n",
       "      <th>3</th>\n",
       "      <td>7</td>\n",
       "      <td>1.39</td>\n",
       "    </tr>\n",
       "    <tr>\n",
       "      <th>4</th>\n",
       "      <td>8</td>\n",
       "      <td>1.39</td>\n",
       "    </tr>\n",
       "  </tbody>\n",
       "</table>\n",
       "</div>"
      ],
      "text/plain": [
       "   NF  Total_NF\n",
       "0   4      2.77\n",
       "1   5      1.11\n",
       "2   6     15.24\n",
       "3   7      1.39\n",
       "4   8      1.39"
      ]
     },
     "execution_count": 35,
     "metadata": {},
     "output_type": "execute_result"
    }
   ],
   "source": [
    "ValorNF.head()"
   ]
  },
  {
   "cell_type": "markdown",
   "metadata": {},
   "source": [
    "#### Quantidade de Compras (Notas Emitidas por Cliente)"
   ]
  },
  {
   "cell_type": "code",
   "execution_count": 89,
   "metadata": {
    "collapsed": true
   },
   "outputs": [],
   "source": [
    "df1 = df[['CNPJ','NF']]  "
   ]
  },
  {
   "cell_type": "code",
   "execution_count": 90,
   "metadata": {
    "collapsed": true
   },
   "outputs": [],
   "source": [
    "df1 = df1.drop_duplicates()"
   ]
  },
  {
   "cell_type": "code",
   "execution_count": 92,
   "metadata": {},
   "outputs": [
    {
     "data": {
      "text/html": [
       "<div>\n",
       "<style scoped>\n",
       "    .dataframe tbody tr th:only-of-type {\n",
       "        vertical-align: middle;\n",
       "    }\n",
       "\n",
       "    .dataframe tbody tr th {\n",
       "        vertical-align: top;\n",
       "    }\n",
       "\n",
       "    .dataframe thead th {\n",
       "        text-align: right;\n",
       "    }\n",
       "</style>\n",
       "<table border=\"1\" class=\"dataframe\">\n",
       "  <thead>\n",
       "    <tr style=\"text-align: right;\">\n",
       "      <th></th>\n",
       "      <th>CNPJ</th>\n",
       "      <th>NF</th>\n",
       "    </tr>\n",
       "  </thead>\n",
       "  <tbody>\n",
       "    <tr>\n",
       "      <th>0</th>\n",
       "      <td>27833615002018</td>\n",
       "      <td>4</td>\n",
       "    </tr>\n",
       "    <tr>\n",
       "      <th>1</th>\n",
       "      <td>9309021000168</td>\n",
       "      <td>5</td>\n",
       "    </tr>\n",
       "    <tr>\n",
       "      <th>2</th>\n",
       "      <td>9309021000168</td>\n",
       "      <td>6</td>\n",
       "    </tr>\n",
       "    <tr>\n",
       "      <th>7</th>\n",
       "      <td>9309021000168</td>\n",
       "      <td>7</td>\n",
       "    </tr>\n",
       "    <tr>\n",
       "      <th>8</th>\n",
       "      <td>9309021000168</td>\n",
       "      <td>8</td>\n",
       "    </tr>\n",
       "  </tbody>\n",
       "</table>\n",
       "</div>"
      ],
      "text/plain": [
       "             CNPJ  NF\n",
       "0  27833615002018   4\n",
       "1   9309021000168   5\n",
       "2   9309021000168   6\n",
       "7   9309021000168   7\n",
       "8   9309021000168   8"
      ]
     },
     "execution_count": 92,
     "metadata": {},
     "output_type": "execute_result"
    }
   ],
   "source": [
    "df1.head()"
   ]
  },
  {
   "cell_type": "code",
   "execution_count": 94,
   "metadata": {
    "collapsed": true
   },
   "outputs": [],
   "source": [
    "qtyDeCompras = df1.groupby('CNPJ').agg({'NF': \"count\"}).reset_index()    # get the first date per group"
   ]
  },
  {
   "cell_type": "code",
   "execution_count": 95,
   "metadata": {},
   "outputs": [
    {
     "data": {
      "text/html": [
       "<div>\n",
       "<style scoped>\n",
       "    .dataframe tbody tr th:only-of-type {\n",
       "        vertical-align: middle;\n",
       "    }\n",
       "\n",
       "    .dataframe tbody tr th {\n",
       "        vertical-align: top;\n",
       "    }\n",
       "\n",
       "    .dataframe thead th {\n",
       "        text-align: right;\n",
       "    }\n",
       "</style>\n",
       "<table border=\"1\" class=\"dataframe\">\n",
       "  <thead>\n",
       "    <tr style=\"text-align: right;\">\n",
       "      <th></th>\n",
       "      <th>CNPJ</th>\n",
       "      <th>NF</th>\n",
       "    </tr>\n",
       "  </thead>\n",
       "  <tbody>\n",
       "    <tr>\n",
       "      <th>0</th>\n",
       "      <td>175479000105</td>\n",
       "      <td>16</td>\n",
       "    </tr>\n",
       "    <tr>\n",
       "      <th>1</th>\n",
       "      <td>334392000206</td>\n",
       "      <td>2</td>\n",
       "    </tr>\n",
       "    <tr>\n",
       "      <th>2</th>\n",
       "      <td>381613000116</td>\n",
       "      <td>8</td>\n",
       "    </tr>\n",
       "    <tr>\n",
       "      <th>3</th>\n",
       "      <td>803210000118</td>\n",
       "      <td>10</td>\n",
       "    </tr>\n",
       "    <tr>\n",
       "      <th>4</th>\n",
       "      <td>814123000166</td>\n",
       "      <td>4</td>\n",
       "    </tr>\n",
       "    <tr>\n",
       "      <th>5</th>\n",
       "      <td>834279000109</td>\n",
       "      <td>15</td>\n",
       "    </tr>\n",
       "    <tr>\n",
       "      <th>6</th>\n",
       "      <td>834279000290</td>\n",
       "      <td>14</td>\n",
       "    </tr>\n",
       "    <tr>\n",
       "      <th>7</th>\n",
       "      <td>1006952000185</td>\n",
       "      <td>21</td>\n",
       "    </tr>\n",
       "    <tr>\n",
       "      <th>8</th>\n",
       "      <td>1015564000160</td>\n",
       "      <td>9</td>\n",
       "    </tr>\n",
       "    <tr>\n",
       "      <th>9</th>\n",
       "      <td>1023162000108</td>\n",
       "      <td>3</td>\n",
       "    </tr>\n",
       "  </tbody>\n",
       "</table>\n",
       "</div>"
      ],
      "text/plain": [
       "            CNPJ  NF\n",
       "0   175479000105  16\n",
       "1   334392000206   2\n",
       "2   381613000116   8\n",
       "3   803210000118  10\n",
       "4   814123000166   4\n",
       "5   834279000109  15\n",
       "6   834279000290  14\n",
       "7  1006952000185  21\n",
       "8  1015564000160   9\n",
       "9  1023162000108   3"
      ]
     },
     "execution_count": 95,
     "metadata": {},
     "output_type": "execute_result"
    }
   ],
   "source": [
    "qtyDeCompras.head(10)"
   ]
  },
  {
   "cell_type": "code",
   "execution_count": 96,
   "metadata": {},
   "outputs": [
    {
     "data": {
      "text/plain": [
       "6627"
      ]
     },
     "execution_count": 96,
     "metadata": {},
     "output_type": "execute_result"
    }
   ],
   "source": [
    "a=qtyDeCompras['NF'].sum()\n",
    "a"
   ]
  },
  {
   "cell_type": "code",
   "execution_count": 76,
   "metadata": {},
   "outputs": [],
   "source": []
  },
  {
   "cell_type": "code",
   "execution_count": 98,
   "metadata": {
    "collapsed": true
   },
   "outputs": [],
   "source": [
    "qtyDeCompras = qtyDeCompras.sort_values(by=['NF'],ascending=False, na_position='first').reset_index(drop=True)"
   ]
  },
  {
   "cell_type": "code",
   "execution_count": 99,
   "metadata": {},
   "outputs": [
    {
     "data": {
      "text/html": [
       "<div>\n",
       "<style scoped>\n",
       "    .dataframe tbody tr th:only-of-type {\n",
       "        vertical-align: middle;\n",
       "    }\n",
       "\n",
       "    .dataframe tbody tr th {\n",
       "        vertical-align: top;\n",
       "    }\n",
       "\n",
       "    .dataframe thead th {\n",
       "        text-align: right;\n",
       "    }\n",
       "</style>\n",
       "<table border=\"1\" class=\"dataframe\">\n",
       "  <thead>\n",
       "    <tr style=\"text-align: right;\">\n",
       "      <th></th>\n",
       "      <th>CNPJ</th>\n",
       "      <th>NF</th>\n",
       "    </tr>\n",
       "  </thead>\n",
       "  <tbody>\n",
       "    <tr>\n",
       "      <th>0</th>\n",
       "      <td>17339293000139</td>\n",
       "      <td>142</td>\n",
       "    </tr>\n",
       "    <tr>\n",
       "      <th>1</th>\n",
       "      <td>12434859000198</td>\n",
       "      <td>136</td>\n",
       "    </tr>\n",
       "    <tr>\n",
       "      <th>2</th>\n",
       "      <td>22536813000133</td>\n",
       "      <td>115</td>\n",
       "    </tr>\n",
       "    <tr>\n",
       "      <th>3</th>\n",
       "      <td>29840154000173</td>\n",
       "      <td>72</td>\n",
       "    </tr>\n",
       "    <tr>\n",
       "      <th>4</th>\n",
       "      <td>19068286000175</td>\n",
       "      <td>69</td>\n",
       "    </tr>\n",
       "  </tbody>\n",
       "</table>\n",
       "</div>"
      ],
      "text/plain": [
       "             CNPJ   NF\n",
       "0  17339293000139  142\n",
       "1  12434859000198  136\n",
       "2  22536813000133  115\n",
       "3  29840154000173   72\n",
       "4  19068286000175   69"
      ]
     },
     "execution_count": 99,
     "metadata": {},
     "output_type": "execute_result"
    }
   ],
   "source": [
    "qtyDeCompras.head()"
   ]
  },
  {
   "cell_type": "code",
   "execution_count": 101,
   "metadata": {
    "collapsed": true
   },
   "outputs": [],
   "source": [
    "qtyDeCompras['frequencia']=((qtyDeCompras['NF']/TotalNFEmitidas)*100).round(3)"
   ]
  },
  {
   "cell_type": "code",
   "execution_count": 102,
   "metadata": {
    "collapsed": true
   },
   "outputs": [],
   "source": [
    "qtyDeCompras = qtyDeCompras.sort_values(by=['frequencia'],ascending=False, na_position='first').reset_index(drop=True)"
   ]
  },
  {
   "cell_type": "code",
   "execution_count": 104,
   "metadata": {},
   "outputs": [
    {
     "data": {
      "text/html": [
       "<div>\n",
       "<style scoped>\n",
       "    .dataframe tbody tr th:only-of-type {\n",
       "        vertical-align: middle;\n",
       "    }\n",
       "\n",
       "    .dataframe tbody tr th {\n",
       "        vertical-align: top;\n",
       "    }\n",
       "\n",
       "    .dataframe thead th {\n",
       "        text-align: right;\n",
       "    }\n",
       "</style>\n",
       "<table border=\"1\" class=\"dataframe\">\n",
       "  <thead>\n",
       "    <tr style=\"text-align: right;\">\n",
       "      <th></th>\n",
       "      <th>CNPJ</th>\n",
       "      <th>NF</th>\n",
       "      <th>frequencia</th>\n",
       "    </tr>\n",
       "  </thead>\n",
       "  <tbody>\n",
       "    <tr>\n",
       "      <th>0</th>\n",
       "      <td>17339293000139</td>\n",
       "      <td>142</td>\n",
       "      <td>2.143</td>\n",
       "    </tr>\n",
       "    <tr>\n",
       "      <th>1</th>\n",
       "      <td>12434859000198</td>\n",
       "      <td>136</td>\n",
       "      <td>2.052</td>\n",
       "    </tr>\n",
       "    <tr>\n",
       "      <th>2</th>\n",
       "      <td>22536813000133</td>\n",
       "      <td>115</td>\n",
       "      <td>1.735</td>\n",
       "    </tr>\n",
       "    <tr>\n",
       "      <th>3</th>\n",
       "      <td>29840154000173</td>\n",
       "      <td>72</td>\n",
       "      <td>1.086</td>\n",
       "    </tr>\n",
       "    <tr>\n",
       "      <th>4</th>\n",
       "      <td>19068286000175</td>\n",
       "      <td>69</td>\n",
       "      <td>1.041</td>\n",
       "    </tr>\n",
       "  </tbody>\n",
       "</table>\n",
       "</div>"
      ],
      "text/plain": [
       "             CNPJ   NF  frequencia\n",
       "0  17339293000139  142       2.143\n",
       "1  12434859000198  136       2.052\n",
       "2  22536813000133  115       1.735\n",
       "3  29840154000173   72       1.086\n",
       "4  19068286000175   69       1.041"
      ]
     },
     "execution_count": 104,
     "metadata": {},
     "output_type": "execute_result"
    }
   ],
   "source": [
    "qtyDeCompras.head()"
   ]
  },
  {
   "cell_type": "code",
   "execution_count": 105,
   "metadata": {
    "collapsed": true
   },
   "outputs": [],
   "source": [
    "# Convertendo de Série p/ dataframe\n",
    "#yCompras = qtyDeCompras.to_frame().reset_index()"
   ]
  },
  {
   "cell_type": "code",
   "execution_count": 106,
   "metadata": {
    "collapsed": true
   },
   "outputs": [],
   "source": [
    "# Faz o MERGE dos dois Datasets\n",
    "s1 = pd.merge(compras, qtyDeCompras, how='inner', on=['CNPJ'])"
   ]
  },
  {
   "cell_type": "code",
   "execution_count": 107,
   "metadata": {},
   "outputs": [
    {
     "data": {
      "text/html": [
       "<div>\n",
       "<style scoped>\n",
       "    .dataframe tbody tr th:only-of-type {\n",
       "        vertical-align: middle;\n",
       "    }\n",
       "\n",
       "    .dataframe tbody tr th {\n",
       "        vertical-align: top;\n",
       "    }\n",
       "\n",
       "    .dataframe thead th {\n",
       "        text-align: right;\n",
       "    }\n",
       "</style>\n",
       "<table border=\"1\" class=\"dataframe\">\n",
       "  <thead>\n",
       "    <tr style=\"text-align: right;\">\n",
       "      <th></th>\n",
       "      <th>CNPJ</th>\n",
       "      <th>preco</th>\n",
       "      <th>percenTotal</th>\n",
       "      <th>NF</th>\n",
       "      <th>frequencia</th>\n",
       "    </tr>\n",
       "  </thead>\n",
       "  <tbody>\n",
       "    <tr>\n",
       "      <th>0</th>\n",
       "      <td>12360891000176</td>\n",
       "      <td>474946.97</td>\n",
       "      <td>4.067</td>\n",
       "      <td>26</td>\n",
       "      <td>0.392</td>\n",
       "    </tr>\n",
       "    <tr>\n",
       "      <th>1</th>\n",
       "      <td>15116388000168</td>\n",
       "      <td>367559.08</td>\n",
       "      <td>3.148</td>\n",
       "      <td>23</td>\n",
       "      <td>0.347</td>\n",
       "    </tr>\n",
       "    <tr>\n",
       "      <th>2</th>\n",
       "      <td>12434859000198</td>\n",
       "      <td>362693.84</td>\n",
       "      <td>3.106</td>\n",
       "      <td>136</td>\n",
       "      <td>2.052</td>\n",
       "    </tr>\n",
       "    <tr>\n",
       "      <th>3</th>\n",
       "      <td>29840154000173</td>\n",
       "      <td>300708.01</td>\n",
       "      <td>2.575</td>\n",
       "      <td>72</td>\n",
       "      <td>1.086</td>\n",
       "    </tr>\n",
       "    <tr>\n",
       "      <th>4</th>\n",
       "      <td>19068286000175</td>\n",
       "      <td>287622.97</td>\n",
       "      <td>2.463</td>\n",
       "      <td>69</td>\n",
       "      <td>1.041</td>\n",
       "    </tr>\n",
       "  </tbody>\n",
       "</table>\n",
       "</div>"
      ],
      "text/plain": [
       "             CNPJ      preco  percenTotal   NF  frequencia\n",
       "0  12360891000176  474946.97        4.067   26       0.392\n",
       "1  15116388000168  367559.08        3.148   23       0.347\n",
       "2  12434859000198  362693.84        3.106  136       2.052\n",
       "3  29840154000173  300708.01        2.575   72       1.086\n",
       "4  19068286000175  287622.97        2.463   69       1.041"
      ]
     },
     "execution_count": 107,
     "metadata": {},
     "output_type": "execute_result"
    }
   ],
   "source": [
    "s1.head()"
   ]
  },
  {
   "cell_type": "code",
   "execution_count": 113,
   "metadata": {
    "collapsed": true
   },
   "outputs": [],
   "source": [
    "s1.rename(columns={'preco': 'VolCompras', 'percenTotal': 'percentual', 'NF': 'QtyCompras'}, inplace=True)"
   ]
  },
  {
   "cell_type": "code",
   "execution_count": 114,
   "metadata": {
    "collapsed": true
   },
   "outputs": [],
   "source": [
    "#pd.options.display.float_format = '${:,.2f}'.format"
   ]
  },
  {
   "cell_type": "code",
   "execution_count": 115,
   "metadata": {},
   "outputs": [
    {
     "data": {
      "text/html": [
       "<div>\n",
       "<style scoped>\n",
       "    .dataframe tbody tr th:only-of-type {\n",
       "        vertical-align: middle;\n",
       "    }\n",
       "\n",
       "    .dataframe tbody tr th {\n",
       "        vertical-align: top;\n",
       "    }\n",
       "\n",
       "    .dataframe thead th {\n",
       "        text-align: right;\n",
       "    }\n",
       "</style>\n",
       "<table border=\"1\" class=\"dataframe\">\n",
       "  <thead>\n",
       "    <tr style=\"text-align: right;\">\n",
       "      <th></th>\n",
       "      <th>CNPJ</th>\n",
       "      <th>VolCompras</th>\n",
       "      <th>percentual</th>\n",
       "      <th>QtyCompras</th>\n",
       "      <th>frequencia</th>\n",
       "    </tr>\n",
       "  </thead>\n",
       "  <tbody>\n",
       "    <tr>\n",
       "      <th>0</th>\n",
       "      <td>12360891000176</td>\n",
       "      <td>$474,946.97</td>\n",
       "      <td>$4.07</td>\n",
       "      <td>26</td>\n",
       "      <td>$0.39</td>\n",
       "    </tr>\n",
       "    <tr>\n",
       "      <th>1</th>\n",
       "      <td>15116388000168</td>\n",
       "      <td>$367,559.08</td>\n",
       "      <td>$3.15</td>\n",
       "      <td>23</td>\n",
       "      <td>$0.35</td>\n",
       "    </tr>\n",
       "    <tr>\n",
       "      <th>2</th>\n",
       "      <td>12434859000198</td>\n",
       "      <td>$362,693.84</td>\n",
       "      <td>$3.11</td>\n",
       "      <td>136</td>\n",
       "      <td>$2.05</td>\n",
       "    </tr>\n",
       "    <tr>\n",
       "      <th>3</th>\n",
       "      <td>29840154000173</td>\n",
       "      <td>$300,708.01</td>\n",
       "      <td>$2.58</td>\n",
       "      <td>72</td>\n",
       "      <td>$1.09</td>\n",
       "    </tr>\n",
       "    <tr>\n",
       "      <th>4</th>\n",
       "      <td>19068286000175</td>\n",
       "      <td>$287,622.97</td>\n",
       "      <td>$2.46</td>\n",
       "      <td>69</td>\n",
       "      <td>$1.04</td>\n",
       "    </tr>\n",
       "    <tr>\n",
       "      <th>5</th>\n",
       "      <td>17339293000139</td>\n",
       "      <td>$216,302.26</td>\n",
       "      <td>$1.85</td>\n",
       "      <td>142</td>\n",
       "      <td>$2.14</td>\n",
       "    </tr>\n",
       "    <tr>\n",
       "      <th>6</th>\n",
       "      <td>39508023000228</td>\n",
       "      <td>$179,723.79</td>\n",
       "      <td>$1.54</td>\n",
       "      <td>54</td>\n",
       "      <td>$0.81</td>\n",
       "    </tr>\n",
       "    <tr>\n",
       "      <th>7</th>\n",
       "      <td>27833615001984</td>\n",
       "      <td>$160,547.14</td>\n",
       "      <td>$1.38</td>\n",
       "      <td>48</td>\n",
       "      <td>$0.72</td>\n",
       "    </tr>\n",
       "    <tr>\n",
       "      <th>8</th>\n",
       "      <td>5565335000170</td>\n",
       "      <td>$153,918.48</td>\n",
       "      <td>$1.32</td>\n",
       "      <td>67</td>\n",
       "      <td>$1.01</td>\n",
       "    </tr>\n",
       "    <tr>\n",
       "      <th>9</th>\n",
       "      <td>9653290000147</td>\n",
       "      <td>$153,882.33</td>\n",
       "      <td>$1.32</td>\n",
       "      <td>47</td>\n",
       "      <td>$0.71</td>\n",
       "    </tr>\n",
       "    <tr>\n",
       "      <th>10</th>\n",
       "      <td>27833615001801</td>\n",
       "      <td>$137,814.02</td>\n",
       "      <td>$1.18</td>\n",
       "      <td>51</td>\n",
       "      <td>$0.77</td>\n",
       "    </tr>\n",
       "    <tr>\n",
       "      <th>11</th>\n",
       "      <td>18749311000113</td>\n",
       "      <td>$134,644.11</td>\n",
       "      <td>$1.15</td>\n",
       "      <td>46</td>\n",
       "      <td>$0.69</td>\n",
       "    </tr>\n",
       "    <tr>\n",
       "      <th>12</th>\n",
       "      <td>27833615001712</td>\n",
       "      <td>$133,271.82</td>\n",
       "      <td>$1.14</td>\n",
       "      <td>67</td>\n",
       "      <td>$1.01</td>\n",
       "    </tr>\n",
       "    <tr>\n",
       "      <th>13</th>\n",
       "      <td>12427914000112</td>\n",
       "      <td>$129,072.49</td>\n",
       "      <td>$1.10</td>\n",
       "      <td>13</td>\n",
       "      <td>$0.20</td>\n",
       "    </tr>\n",
       "    <tr>\n",
       "      <th>14</th>\n",
       "      <td>22536813000133</td>\n",
       "      <td>$128,012.70</td>\n",
       "      <td>$1.10</td>\n",
       "      <td>115</td>\n",
       "      <td>$1.74</td>\n",
       "    </tr>\n",
       "    <tr>\n",
       "      <th>15</th>\n",
       "      <td>11631749000153</td>\n",
       "      <td>$125,417.37</td>\n",
       "      <td>$1.07</td>\n",
       "      <td>37</td>\n",
       "      <td>$0.56</td>\n",
       "    </tr>\n",
       "    <tr>\n",
       "      <th>16</th>\n",
       "      <td>35824374000106</td>\n",
       "      <td>$125,304.90</td>\n",
       "      <td>$1.07</td>\n",
       "      <td>26</td>\n",
       "      <td>$0.39</td>\n",
       "    </tr>\n",
       "    <tr>\n",
       "      <th>17</th>\n",
       "      <td>7652822000104</td>\n",
       "      <td>$120,359.91</td>\n",
       "      <td>$1.03</td>\n",
       "      <td>37</td>\n",
       "      <td>$0.56</td>\n",
       "    </tr>\n",
       "    <tr>\n",
       "      <th>18</th>\n",
       "      <td>12968606000102</td>\n",
       "      <td>$120,101.76</td>\n",
       "      <td>$1.03</td>\n",
       "      <td>63</td>\n",
       "      <td>$0.95</td>\n",
       "    </tr>\n",
       "    <tr>\n",
       "      <th>19</th>\n",
       "      <td>5252826000161</td>\n",
       "      <td>$118,690.21</td>\n",
       "      <td>$1.02</td>\n",
       "      <td>32</td>\n",
       "      <td>$0.48</td>\n",
       "    </tr>\n",
       "    <tr>\n",
       "      <th>20</th>\n",
       "      <td>5256321000175</td>\n",
       "      <td>$114,072.09</td>\n",
       "      <td>$0.98</td>\n",
       "      <td>39</td>\n",
       "      <td>$0.59</td>\n",
       "    </tr>\n",
       "    <tr>\n",
       "      <th>21</th>\n",
       "      <td>11761060000143</td>\n",
       "      <td>$113,164.15</td>\n",
       "      <td>$0.97</td>\n",
       "      <td>44</td>\n",
       "      <td>$0.66</td>\n",
       "    </tr>\n",
       "    <tr>\n",
       "      <th>22</th>\n",
       "      <td>27833615001399</td>\n",
       "      <td>$112,466.82</td>\n",
       "      <td>$0.96</td>\n",
       "      <td>46</td>\n",
       "      <td>$0.69</td>\n",
       "    </tr>\n",
       "    <tr>\n",
       "      <th>23</th>\n",
       "      <td>73915597000259</td>\n",
       "      <td>$112,072.84</td>\n",
       "      <td>$0.96</td>\n",
       "      <td>34</td>\n",
       "      <td>$0.51</td>\n",
       "    </tr>\n",
       "    <tr>\n",
       "      <th>24</th>\n",
       "      <td>27833615002018</td>\n",
       "      <td>$104,621.59</td>\n",
       "      <td>$0.90</td>\n",
       "      <td>64</td>\n",
       "      <td>$0.97</td>\n",
       "    </tr>\n",
       "    <tr>\n",
       "      <th>25</th>\n",
       "      <td>23352716000153</td>\n",
       "      <td>$101,199.73</td>\n",
       "      <td>$0.87</td>\n",
       "      <td>32</td>\n",
       "      <td>$0.48</td>\n",
       "    </tr>\n",
       "    <tr>\n",
       "      <th>26</th>\n",
       "      <td>5054332000172</td>\n",
       "      <td>$98,474.13</td>\n",
       "      <td>$0.84</td>\n",
       "      <td>39</td>\n",
       "      <td>$0.59</td>\n",
       "    </tr>\n",
       "    <tr>\n",
       "      <th>27</th>\n",
       "      <td>9642314000162</td>\n",
       "      <td>$98,283.24</td>\n",
       "      <td>$0.84</td>\n",
       "      <td>52</td>\n",
       "      <td>$0.79</td>\n",
       "    </tr>\n",
       "    <tr>\n",
       "      <th>28</th>\n",
       "      <td>8109307000137</td>\n",
       "      <td>$96,679.64</td>\n",
       "      <td>$0.83</td>\n",
       "      <td>21</td>\n",
       "      <td>$0.32</td>\n",
       "    </tr>\n",
       "    <tr>\n",
       "      <th>29</th>\n",
       "      <td>12027650000100</td>\n",
       "      <td>$96,138.43</td>\n",
       "      <td>$0.82</td>\n",
       "      <td>21</td>\n",
       "      <td>$0.32</td>\n",
       "    </tr>\n",
       "    <tr>\n",
       "      <th>...</th>\n",
       "      <td>...</td>\n",
       "      <td>...</td>\n",
       "      <td>...</td>\n",
       "      <td>...</td>\n",
       "      <td>...</td>\n",
       "    </tr>\n",
       "    <tr>\n",
       "      <th>644</th>\n",
       "      <td>39792205000192</td>\n",
       "      <td>$261.30</td>\n",
       "      <td>$0.00</td>\n",
       "      <td>1</td>\n",
       "      <td>$0.01</td>\n",
       "    </tr>\n",
       "    <tr>\n",
       "      <th>645</th>\n",
       "      <td>27571983000172</td>\n",
       "      <td>$257.54</td>\n",
       "      <td>$0.00</td>\n",
       "      <td>1</td>\n",
       "      <td>$0.01</td>\n",
       "    </tr>\n",
       "    <tr>\n",
       "      <th>646</th>\n",
       "      <td>7138469000130</td>\n",
       "      <td>$251.88</td>\n",
       "      <td>$0.00</td>\n",
       "      <td>1</td>\n",
       "      <td>$0.01</td>\n",
       "    </tr>\n",
       "    <tr>\n",
       "      <th>647</th>\n",
       "      <td>15152313000132</td>\n",
       "      <td>$247.89</td>\n",
       "      <td>$0.00</td>\n",
       "      <td>1</td>\n",
       "      <td>$0.01</td>\n",
       "    </tr>\n",
       "    <tr>\n",
       "      <th>648</th>\n",
       "      <td>26980890000139</td>\n",
       "      <td>$242.89</td>\n",
       "      <td>$0.00</td>\n",
       "      <td>1</td>\n",
       "      <td>$0.01</td>\n",
       "    </tr>\n",
       "    <tr>\n",
       "      <th>649</th>\n",
       "      <td>39191176000103</td>\n",
       "      <td>$237.12</td>\n",
       "      <td>$0.00</td>\n",
       "      <td>1</td>\n",
       "      <td>$0.01</td>\n",
       "    </tr>\n",
       "    <tr>\n",
       "      <th>650</th>\n",
       "      <td>3306353000102</td>\n",
       "      <td>$234.12</td>\n",
       "      <td>$0.00</td>\n",
       "      <td>1</td>\n",
       "      <td>$0.01</td>\n",
       "    </tr>\n",
       "    <tr>\n",
       "      <th>651</th>\n",
       "      <td>14476627000128</td>\n",
       "      <td>$231.54</td>\n",
       "      <td>$0.00</td>\n",
       "      <td>1</td>\n",
       "      <td>$0.01</td>\n",
       "    </tr>\n",
       "    <tr>\n",
       "      <th>652</th>\n",
       "      <td>14962390000195</td>\n",
       "      <td>$212.94</td>\n",
       "      <td>$0.00</td>\n",
       "      <td>1</td>\n",
       "      <td>$0.01</td>\n",
       "    </tr>\n",
       "    <tr>\n",
       "      <th>653</th>\n",
       "      <td>4610631000183</td>\n",
       "      <td>$211.68</td>\n",
       "      <td>$0.00</td>\n",
       "      <td>1</td>\n",
       "      <td>$0.01</td>\n",
       "    </tr>\n",
       "    <tr>\n",
       "      <th>654</th>\n",
       "      <td>18623826000172</td>\n",
       "      <td>$205.95</td>\n",
       "      <td>$0.00</td>\n",
       "      <td>1</td>\n",
       "      <td>$0.01</td>\n",
       "    </tr>\n",
       "    <tr>\n",
       "      <th>655</th>\n",
       "      <td>11472138000100</td>\n",
       "      <td>$205.54</td>\n",
       "      <td>$0.00</td>\n",
       "      <td>1</td>\n",
       "      <td>$0.01</td>\n",
       "    </tr>\n",
       "    <tr>\n",
       "      <th>656</th>\n",
       "      <td>26141670000111</td>\n",
       "      <td>$199.03</td>\n",
       "      <td>$0.00</td>\n",
       "      <td>1</td>\n",
       "      <td>$0.01</td>\n",
       "    </tr>\n",
       "    <tr>\n",
       "      <th>657</th>\n",
       "      <td>11177182000197</td>\n",
       "      <td>$192.23</td>\n",
       "      <td>$0.00</td>\n",
       "      <td>1</td>\n",
       "      <td>$0.01</td>\n",
       "    </tr>\n",
       "    <tr>\n",
       "      <th>658</th>\n",
       "      <td>27807563000142</td>\n",
       "      <td>$183.36</td>\n",
       "      <td>$0.00</td>\n",
       "      <td>1</td>\n",
       "      <td>$0.01</td>\n",
       "    </tr>\n",
       "    <tr>\n",
       "      <th>659</th>\n",
       "      <td>13036147000183</td>\n",
       "      <td>$177.76</td>\n",
       "      <td>$0.00</td>\n",
       "      <td>1</td>\n",
       "      <td>$0.01</td>\n",
       "    </tr>\n",
       "    <tr>\n",
       "      <th>660</th>\n",
       "      <td>32049702000156</td>\n",
       "      <td>$171.06</td>\n",
       "      <td>$0.00</td>\n",
       "      <td>1</td>\n",
       "      <td>$0.01</td>\n",
       "    </tr>\n",
       "    <tr>\n",
       "      <th>661</th>\n",
       "      <td>1848448000122</td>\n",
       "      <td>$169.68</td>\n",
       "      <td>$0.00</td>\n",
       "      <td>1</td>\n",
       "      <td>$0.01</td>\n",
       "    </tr>\n",
       "    <tr>\n",
       "      <th>662</th>\n",
       "      <td>15403844000150</td>\n",
       "      <td>$168.92</td>\n",
       "      <td>$0.00</td>\n",
       "      <td>1</td>\n",
       "      <td>$0.01</td>\n",
       "    </tr>\n",
       "    <tr>\n",
       "      <th>663</th>\n",
       "      <td>39345244000141</td>\n",
       "      <td>$167.00</td>\n",
       "      <td>$0.00</td>\n",
       "      <td>1</td>\n",
       "      <td>$0.01</td>\n",
       "    </tr>\n",
       "    <tr>\n",
       "      <th>664</th>\n",
       "      <td>24639414000123</td>\n",
       "      <td>$167.00</td>\n",
       "      <td>$0.00</td>\n",
       "      <td>1</td>\n",
       "      <td>$0.01</td>\n",
       "    </tr>\n",
       "    <tr>\n",
       "      <th>665</th>\n",
       "      <td>10572977000137</td>\n",
       "      <td>$166.80</td>\n",
       "      <td>$0.00</td>\n",
       "      <td>1</td>\n",
       "      <td>$0.01</td>\n",
       "    </tr>\n",
       "    <tr>\n",
       "      <th>666</th>\n",
       "      <td>9612750000199</td>\n",
       "      <td>$162.73</td>\n",
       "      <td>$0.00</td>\n",
       "      <td>1</td>\n",
       "      <td>$0.01</td>\n",
       "    </tr>\n",
       "    <tr>\n",
       "      <th>667</th>\n",
       "      <td>35995646000130</td>\n",
       "      <td>$162.00</td>\n",
       "      <td>$0.00</td>\n",
       "      <td>1</td>\n",
       "      <td>$0.01</td>\n",
       "    </tr>\n",
       "    <tr>\n",
       "      <th>668</th>\n",
       "      <td>35994433000275</td>\n",
       "      <td>$162.00</td>\n",
       "      <td>$0.00</td>\n",
       "      <td>1</td>\n",
       "      <td>$0.01</td>\n",
       "    </tr>\n",
       "    <tr>\n",
       "      <th>669</th>\n",
       "      <td>26098410000100</td>\n",
       "      <td>$139.16</td>\n",
       "      <td>$0.00</td>\n",
       "      <td>1</td>\n",
       "      <td>$0.01</td>\n",
       "    </tr>\n",
       "    <tr>\n",
       "      <th>670</th>\n",
       "      <td>2101672000119</td>\n",
       "      <td>$134.91</td>\n",
       "      <td>$0.00</td>\n",
       "      <td>1</td>\n",
       "      <td>$0.01</td>\n",
       "    </tr>\n",
       "    <tr>\n",
       "      <th>671</th>\n",
       "      <td>27103140000141</td>\n",
       "      <td>$129.93</td>\n",
       "      <td>$0.00</td>\n",
       "      <td>1</td>\n",
       "      <td>$0.01</td>\n",
       "    </tr>\n",
       "    <tr>\n",
       "      <th>672</th>\n",
       "      <td>42294744000106</td>\n",
       "      <td>$115.58</td>\n",
       "      <td>$0.00</td>\n",
       "      <td>1</td>\n",
       "      <td>$0.01</td>\n",
       "    </tr>\n",
       "    <tr>\n",
       "      <th>673</th>\n",
       "      <td>9309021000168</td>\n",
       "      <td>$24.52</td>\n",
       "      <td>$0.00</td>\n",
       "      <td>7</td>\n",
       "      <td>$0.11</td>\n",
       "    </tr>\n",
       "  </tbody>\n",
       "</table>\n",
       "<p>674 rows × 5 columns</p>\n",
       "</div>"
      ],
      "text/plain": [
       "               CNPJ  VolCompras  percentual  QtyCompras  frequencia\n",
       "0    12360891000176 $474,946.97       $4.07          26       $0.39\n",
       "1    15116388000168 $367,559.08       $3.15          23       $0.35\n",
       "2    12434859000198 $362,693.84       $3.11         136       $2.05\n",
       "3    29840154000173 $300,708.01       $2.58          72       $1.09\n",
       "4    19068286000175 $287,622.97       $2.46          69       $1.04\n",
       "5    17339293000139 $216,302.26       $1.85         142       $2.14\n",
       "6    39508023000228 $179,723.79       $1.54          54       $0.81\n",
       "7    27833615001984 $160,547.14       $1.38          48       $0.72\n",
       "8     5565335000170 $153,918.48       $1.32          67       $1.01\n",
       "9     9653290000147 $153,882.33       $1.32          47       $0.71\n",
       "10   27833615001801 $137,814.02       $1.18          51       $0.77\n",
       "11   18749311000113 $134,644.11       $1.15          46       $0.69\n",
       "12   27833615001712 $133,271.82       $1.14          67       $1.01\n",
       "13   12427914000112 $129,072.49       $1.10          13       $0.20\n",
       "14   22536813000133 $128,012.70       $1.10         115       $1.74\n",
       "15   11631749000153 $125,417.37       $1.07          37       $0.56\n",
       "16   35824374000106 $125,304.90       $1.07          26       $0.39\n",
       "17    7652822000104 $120,359.91       $1.03          37       $0.56\n",
       "18   12968606000102 $120,101.76       $1.03          63       $0.95\n",
       "19    5252826000161 $118,690.21       $1.02          32       $0.48\n",
       "20    5256321000175 $114,072.09       $0.98          39       $0.59\n",
       "21   11761060000143 $113,164.15       $0.97          44       $0.66\n",
       "22   27833615001399 $112,466.82       $0.96          46       $0.69\n",
       "23   73915597000259 $112,072.84       $0.96          34       $0.51\n",
       "24   27833615002018 $104,621.59       $0.90          64       $0.97\n",
       "25   23352716000153 $101,199.73       $0.87          32       $0.48\n",
       "26    5054332000172  $98,474.13       $0.84          39       $0.59\n",
       "27    9642314000162  $98,283.24       $0.84          52       $0.79\n",
       "28    8109307000137  $96,679.64       $0.83          21       $0.32\n",
       "29   12027650000100  $96,138.43       $0.82          21       $0.32\n",
       "..              ...         ...         ...         ...         ...\n",
       "644  39792205000192     $261.30       $0.00           1       $0.01\n",
       "645  27571983000172     $257.54       $0.00           1       $0.01\n",
       "646   7138469000130     $251.88       $0.00           1       $0.01\n",
       "647  15152313000132     $247.89       $0.00           1       $0.01\n",
       "648  26980890000139     $242.89       $0.00           1       $0.01\n",
       "649  39191176000103     $237.12       $0.00           1       $0.01\n",
       "650   3306353000102     $234.12       $0.00           1       $0.01\n",
       "651  14476627000128     $231.54       $0.00           1       $0.01\n",
       "652  14962390000195     $212.94       $0.00           1       $0.01\n",
       "653   4610631000183     $211.68       $0.00           1       $0.01\n",
       "654  18623826000172     $205.95       $0.00           1       $0.01\n",
       "655  11472138000100     $205.54       $0.00           1       $0.01\n",
       "656  26141670000111     $199.03       $0.00           1       $0.01\n",
       "657  11177182000197     $192.23       $0.00           1       $0.01\n",
       "658  27807563000142     $183.36       $0.00           1       $0.01\n",
       "659  13036147000183     $177.76       $0.00           1       $0.01\n",
       "660  32049702000156     $171.06       $0.00           1       $0.01\n",
       "661   1848448000122     $169.68       $0.00           1       $0.01\n",
       "662  15403844000150     $168.92       $0.00           1       $0.01\n",
       "663  39345244000141     $167.00       $0.00           1       $0.01\n",
       "664  24639414000123     $167.00       $0.00           1       $0.01\n",
       "665  10572977000137     $166.80       $0.00           1       $0.01\n",
       "666   9612750000199     $162.73       $0.00           1       $0.01\n",
       "667  35995646000130     $162.00       $0.00           1       $0.01\n",
       "668  35994433000275     $162.00       $0.00           1       $0.01\n",
       "669  26098410000100     $139.16       $0.00           1       $0.01\n",
       "670   2101672000119     $134.91       $0.00           1       $0.01\n",
       "671  27103140000141     $129.93       $0.00           1       $0.01\n",
       "672  42294744000106     $115.58       $0.00           1       $0.01\n",
       "673   9309021000168      $24.52       $0.00           7       $0.11\n",
       "\n",
       "[674 rows x 5 columns]"
      ]
     },
     "execution_count": 115,
     "metadata": {},
     "output_type": "execute_result"
    }
   ],
   "source": [
    "s1"
   ]
  },
  {
   "cell_type": "code",
   "execution_count": 246,
   "metadata": {
    "collapsed": true
   },
   "outputs": [],
   "source": [
    "s1.drop(['Valor'], axis = 1, inplace = True) # , axis = 1, inplace = True"
   ]
  },
  {
   "cell_type": "code",
   "execution_count": 247,
   "metadata": {
    "collapsed": true
   },
   "outputs": [],
   "source": [
    "s1.drop(['NF'], axis = 1, inplace = True) # , axis = 1, inplace = True"
   ]
  },
  {
   "cell_type": "code",
   "execution_count": 73,
   "metadata": {
    "collapsed": true
   },
   "outputs": [],
   "source": [
    "s1 = s1.sort_values(by=['percenTotal'],ascending=False, na_position='first').reset_index(drop=True)"
   ]
  },
  {
   "cell_type": "code",
   "execution_count": 75,
   "metadata": {},
   "outputs": [
    {
     "data": {
      "image/png": "[encoded data removed]",
      "text/plain": [
       "<matplotlib.figure.Figure at 0x22d808dae10>"
      ]
     },
     "metadata": {},
     "output_type": "display_data"
    }
   ],
   "source": [
    "import matplotlib.pyplot as plt\n",
    "plt.plot(s1.percenTotal, s1.frequencia, 'ro')\n",
    "plt.axis([0, 1, 0, 1])\n",
    "\n",
    "plt.show()"
   ]
  },
  {
   "cell_type": "markdown",
   "metadata": {
    "collapsed": true
   },
   "source": [
    "# Numero de Clientes comprando por Mês"
   ]
  },
  {
   "cell_type": "code",
   "execution_count": null,
   "metadata": {
    "collapsed": true
   },
   "outputs": [],
   "source": [
    "dados = df.groupby([df['data'].str[0:7],df['CNPJ']]).size()"
   ]
  },
  {
   "cell_type": "code",
   "execution_count": null,
   "metadata": {
    "collapsed": true
   },
   "outputs": [],
   "source": [
    "dados.head()"
   ]
  },
  {
   "cell_type": "code",
   "execution_count": null,
   "metadata": {
    "collapsed": true
   },
   "outputs": [],
   "source": [
    "# Convertendo de Série p/ dataframe\n",
    "d = dados.to_frame().reset_index()\n"
   ]
  },
  {
   "cell_type": "code",
   "execution_count": null,
   "metadata": {
    "collapsed": true
   },
   "outputs": [],
   "source": [
    "# Número de Clientes por Mês\n",
    "numClientes = d.groupby('data').size()\n",
    "numClientes.head()"
   ]
  },
  {
   "cell_type": "code",
   "execution_count": null,
   "metadata": {
    "collapsed": true
   },
   "outputs": [],
   "source": [
    "# Número médio de Clientes\n",
    "a=(numClientes.mean())"
   ]
  },
  {
   "cell_type": "code",
   "execution_count": null,
   "metadata": {
    "collapsed": true
   },
   "outputs": [],
   "source": [
    "int(a)"
   ]
  },
  {
   "cell_type": "code",
   "execution_count": null,
   "metadata": {
    "collapsed": true
   },
   "outputs": [],
   "source": [
    "numC = numClientes.plot( x=numClientes, stacked=True, kind='bar', figsize=(20,7), rot=90, legend=False, facecolor='#AA0000')\n",
    "\n",
    "numC.set_xlabel('Mês')\n",
    "numC.set_ylabel('Número de Clientes')\n",
    "numC.set_title('Clientes Ativos')\n",
    "numC.axhline( y=a, color='g', linestyle='--', lw=2, label='Valor Médio')"
   ]
  },
  {
   "cell_type": "code",
   "execution_count": null,
   "metadata": {
    "collapsed": true
   },
   "outputs": [],
   "source": []
  }
 ],
 "metadata": {
  "kernelspec": {
   "display_name": "Python 3",
   "language": "python",
   "name": "python3"
  },
  "language_info": {
   "codemirror_mode": {
    "name": "ipython",
    "version": 3
   },
   "file_extension": ".py",
   "mimetype": "text/x-python",
   "name": "python",
   "nbconvert_exporter": "python",
   "pygments_lexer": "ipython3",
   "version": "3.6.2"
  }
 },
 "nbformat": 4,
 "nbformat_minor": 1
}
