{
 "cells": [
  {
   "cell_type": "markdown",
   "metadata": {},
   "source": [
    "# Gera Tabela de Produtos"
   ]
  },
  {
   "cell_type": "code",
   "execution_count": 1,
   "metadata": {
    "collapsed": true
   },
   "outputs": [],
   "source": [
    "import pandas as pd\n",
    "import numpy as np\n",
    "import locale\n",
    "import matplotlib.pyplot as plt\n",
    "import seaborn as sns\n",
    "%matplotlib inline\n",
    "\n",
    "# Define Moeda Brasileira numeros R$ 1.000,00\n",
    "#locale.setlocale( locale.LC_ALL, '' )\n",
    "#locale.currency( g, grouping = True )"
   ]
  },
  {
   "cell_type": "code",
   "execution_count": 2,
   "metadata": {
    "collapsed": true
   },
   "outputs": [],
   "source": [
    "from numpy.random import randn\n",
    "#np.random.seed(101)"
   ]
  },
  {
   "cell_type": "code",
   "execution_count": 3,
   "metadata": {
    "collapsed": true
   },
   "outputs": [],
   "source": [
    "# Abre o Arquivo de Notas Fiscais\n",
    "# Forço o tipo das Colunas COD, NF e CNPJ como String se não abrem como Numérico\n",
    "df = pd.read_csv('NFe-SupraAlimentos.csv', dtype={'cod': object, 'NF': object, 'CNPJ': object})\n"
   ]
  },
  {
   "cell_type": "code",
   "execution_count": 4,
   "metadata": {
    "collapsed": true
   },
   "outputs": [],
   "source": [
    "# Exclui a primeira coluna uma vez q tem erros de digitação. \n",
    "# Com isso evita o mesmo código com descrições diferentes\n",
    "df.drop('descricao',axis=1,inplace=True)"
   ]
  },
  {
   "cell_type": "code",
   "execution_count": 5,
   "metadata": {},
   "outputs": [
    {
     "data": {
      "text/html": [
       "<div>\n",
       "<style scoped>\n",
       "    .dataframe tbody tr th:only-of-type {\n",
       "        vertical-align: middle;\n",
       "    }\n",
       "\n",
       "    .dataframe tbody tr th {\n",
       "        vertical-align: top;\n",
       "    }\n",
       "\n",
       "    .dataframe thead th {\n",
       "        text-align: right;\n",
       "    }\n",
       "</style>\n",
       "<table border=\"1\" class=\"dataframe\">\n",
       "  <thead>\n",
       "    <tr style=\"text-align: right;\">\n",
       "      <th></th>\n",
       "      <th>cliente</th>\n",
       "      <th>NF</th>\n",
       "      <th>data</th>\n",
       "      <th>CNPJ</th>\n",
       "      <th>cidade</th>\n",
       "      <th>bairro</th>\n",
       "      <th>UF</th>\n",
       "      <th>cod</th>\n",
       "      <th>QTY</th>\n",
       "      <th>unidade</th>\n",
       "      <th>preco</th>\n",
       "    </tr>\n",
       "  </thead>\n",
       "  <tbody>\n",
       "    <tr>\n",
       "      <th>0</th>\n",
       "      <td>NF-E EMITIDA EM AMBIENTE DE HOMOLOGACAO - SEM ...</td>\n",
       "      <td>4</td>\n",
       "      <td>2014-08-29</td>\n",
       "      <td>27833615002018</td>\n",
       "      <td>RIO DE JANEIRO</td>\n",
       "      <td>CASIMIRO DE ABREU</td>\n",
       "      <td>RJ</td>\n",
       "      <td>020002</td>\n",
       "      <td>1</td>\n",
       "      <td>UN</td>\n",
       "      <td>2.77</td>\n",
       "    </tr>\n",
       "    <tr>\n",
       "      <th>1</th>\n",
       "      <td>NF-E EMITIDA EM AMBIENTE DE HOMOLOGACAO - SEM ...</td>\n",
       "      <td>5</td>\n",
       "      <td>2014-08-29</td>\n",
       "      <td>09309021000168</td>\n",
       "      <td>RIO DE JANEIRO</td>\n",
       "      <td>VILA NOVA DE CAMPOS</td>\n",
       "      <td>RJ</td>\n",
       "      <td>010002</td>\n",
       "      <td>1</td>\n",
       "      <td>UN</td>\n",
       "      <td>1.11</td>\n",
       "    </tr>\n",
       "    <tr>\n",
       "      <th>2</th>\n",
       "      <td>NF-E EMITIDA EM AMBIENTE DE HOMOLOGACAO - SEM ...</td>\n",
       "      <td>6</td>\n",
       "      <td>2014-08-29</td>\n",
       "      <td>09309021000168</td>\n",
       "      <td>ANGRA DOS REIS</td>\n",
       "      <td>VILA NOVA DE CAMPOS</td>\n",
       "      <td>RJ</td>\n",
       "      <td>010001</td>\n",
       "      <td>12</td>\n",
       "      <td>UN</td>\n",
       "      <td>9.72</td>\n",
       "    </tr>\n",
       "    <tr>\n",
       "      <th>3</th>\n",
       "      <td>NF-E EMITIDA EM AMBIENTE DE HOMOLOGACAO - SEM ...</td>\n",
       "      <td>6</td>\n",
       "      <td>2014-08-29</td>\n",
       "      <td>09309021000168</td>\n",
       "      <td>ANGRA DOS REIS</td>\n",
       "      <td>VILA NOVA DE CAMPOS</td>\n",
       "      <td>RJ</td>\n",
       "      <td>010002</td>\n",
       "      <td>1</td>\n",
       "      <td>UN</td>\n",
       "      <td>1.11</td>\n",
       "    </tr>\n",
       "    <tr>\n",
       "      <th>4</th>\n",
       "      <td>NF-E EMITIDA EM AMBIENTE DE HOMOLOGACAO - SEM ...</td>\n",
       "      <td>6</td>\n",
       "      <td>2014-08-29</td>\n",
       "      <td>09309021000168</td>\n",
       "      <td>ANGRA DOS REIS</td>\n",
       "      <td>VILA NOVA DE CAMPOS</td>\n",
       "      <td>RJ</td>\n",
       "      <td>010009</td>\n",
       "      <td>1</td>\n",
       "      <td>UN</td>\n",
       "      <td>1.43</td>\n",
       "    </tr>\n",
       "    <tr>\n",
       "      <th>5</th>\n",
       "      <td>NF-E EMITIDA EM AMBIENTE DE HOMOLOGACAO - SEM ...</td>\n",
       "      <td>6</td>\n",
       "      <td>2014-08-29</td>\n",
       "      <td>09309021000168</td>\n",
       "      <td>ANGRA DOS REIS</td>\n",
       "      <td>VILA NOVA DE CAMPOS</td>\n",
       "      <td>RJ</td>\n",
       "      <td>010010</td>\n",
       "      <td>1</td>\n",
       "      <td>UN</td>\n",
       "      <td>1.55</td>\n",
       "    </tr>\n",
       "    <tr>\n",
       "      <th>6</th>\n",
       "      <td>NF-E EMITIDA EM AMBIENTE DE HOMOLOGACAO - SEM ...</td>\n",
       "      <td>6</td>\n",
       "      <td>2014-08-29</td>\n",
       "      <td>09309021000168</td>\n",
       "      <td>ANGRA DOS REIS</td>\n",
       "      <td>VILA NOVA DE CAMPOS</td>\n",
       "      <td>RJ</td>\n",
       "      <td>010007</td>\n",
       "      <td>1</td>\n",
       "      <td>UN</td>\n",
       "      <td>1.43</td>\n",
       "    </tr>\n",
       "    <tr>\n",
       "      <th>7</th>\n",
       "      <td>NF-E EMITIDA EM AMBIENTE DE HOMOLOGACAO - SEM ...</td>\n",
       "      <td>7</td>\n",
       "      <td>2014-08-29</td>\n",
       "      <td>09309021000168</td>\n",
       "      <td>APERIBE</td>\n",
       "      <td>VILA NOVA DE CAMPOS</td>\n",
       "      <td>RJ</td>\n",
       "      <td>010010</td>\n",
       "      <td>1</td>\n",
       "      <td>UN</td>\n",
       "      <td>1.39</td>\n",
       "    </tr>\n",
       "    <tr>\n",
       "      <th>8</th>\n",
       "      <td>NF-E EMITIDA EM AMBIENTE DE HOMOLOGACAO - SEM ...</td>\n",
       "      <td>8</td>\n",
       "      <td>2014-08-29</td>\n",
       "      <td>09309021000168</td>\n",
       "      <td>ANGRA DOS REIS</td>\n",
       "      <td>VILA NOVA DE CAMPOS</td>\n",
       "      <td>RJ</td>\n",
       "      <td>010010</td>\n",
       "      <td>1</td>\n",
       "      <td>UN</td>\n",
       "      <td>1.39</td>\n",
       "    </tr>\n",
       "    <tr>\n",
       "      <th>9</th>\n",
       "      <td>NF-E EMITIDA EM AMBIENTE DE HOMOLOGACAO - SEM ...</td>\n",
       "      <td>9</td>\n",
       "      <td>2014-08-29</td>\n",
       "      <td>09309021000168</td>\n",
       "      <td>ANGRA DOS REIS</td>\n",
       "      <td>VILA NOVA DE CAMPOS</td>\n",
       "      <td>RJ</td>\n",
       "      <td>030003</td>\n",
       "      <td>1</td>\n",
       "      <td>UN</td>\n",
       "      <td>1.78</td>\n",
       "    </tr>\n",
       "  </tbody>\n",
       "</table>\n",
       "</div>"
      ],
      "text/plain": [
       "                                             cliente NF        data  \\\n",
       "0  NF-E EMITIDA EM AMBIENTE DE HOMOLOGACAO - SEM ...  4  2014-08-29   \n",
       "1  NF-E EMITIDA EM AMBIENTE DE HOMOLOGACAO - SEM ...  5  2014-08-29   \n",
       "2  NF-E EMITIDA EM AMBIENTE DE HOMOLOGACAO - SEM ...  6  2014-08-29   \n",
       "3  NF-E EMITIDA EM AMBIENTE DE HOMOLOGACAO - SEM ...  6  2014-08-29   \n",
       "4  NF-E EMITIDA EM AMBIENTE DE HOMOLOGACAO - SEM ...  6  2014-08-29   \n",
       "5  NF-E EMITIDA EM AMBIENTE DE HOMOLOGACAO - SEM ...  6  2014-08-29   \n",
       "6  NF-E EMITIDA EM AMBIENTE DE HOMOLOGACAO - SEM ...  6  2014-08-29   \n",
       "7  NF-E EMITIDA EM AMBIENTE DE HOMOLOGACAO - SEM ...  7  2014-08-29   \n",
       "8  NF-E EMITIDA EM AMBIENTE DE HOMOLOGACAO - SEM ...  8  2014-08-29   \n",
       "9  NF-E EMITIDA EM AMBIENTE DE HOMOLOGACAO - SEM ...  9  2014-08-29   \n",
       "\n",
       "             CNPJ          cidade               bairro  UF     cod  QTY  \\\n",
       "0  27833615002018  RIO DE JANEIRO    CASIMIRO DE ABREU  RJ  020002    1   \n",
       "1  09309021000168  RIO DE JANEIRO  VILA NOVA DE CAMPOS  RJ  010002    1   \n",
       "2  09309021000168  ANGRA DOS REIS  VILA NOVA DE CAMPOS  RJ  010001   12   \n",
       "3  09309021000168  ANGRA DOS REIS  VILA NOVA DE CAMPOS  RJ  010002    1   \n",
       "4  09309021000168  ANGRA DOS REIS  VILA NOVA DE CAMPOS  RJ  010009    1   \n",
       "5  09309021000168  ANGRA DOS REIS  VILA NOVA DE CAMPOS  RJ  010010    1   \n",
       "6  09309021000168  ANGRA DOS REIS  VILA NOVA DE CAMPOS  RJ  010007    1   \n",
       "7  09309021000168         APERIBE  VILA NOVA DE CAMPOS  RJ  010010    1   \n",
       "8  09309021000168  ANGRA DOS REIS  VILA NOVA DE CAMPOS  RJ  010010    1   \n",
       "9  09309021000168  ANGRA DOS REIS  VILA NOVA DE CAMPOS  RJ  030003    1   \n",
       "\n",
       "  unidade  preco  \n",
       "0      UN   2.77  \n",
       "1      UN   1.11  \n",
       "2      UN   9.72  \n",
       "3      UN   1.11  \n",
       "4      UN   1.43  \n",
       "5      UN   1.55  \n",
       "6      UN   1.43  \n",
       "7      UN   1.39  \n",
       "8      UN   1.39  \n",
       "9      UN   1.78  "
      ]
     },
     "execution_count": 5,
     "metadata": {},
     "output_type": "execute_result"
    }
   ],
   "source": [
    "df.head(10)"
   ]
  },
  {
   "cell_type": "markdown",
   "metadata": {},
   "source": [
    "# Cria Arquivo de Produtos"
   ]
  },
  {
   "cell_type": "code",
   "execution_count": 6,
   "metadata": {
    "collapsed": true
   },
   "outputs": [],
   "source": [
    "# Classifica a Familia de Produtos em Função do CÓDIGO\n",
    "def famProdutos(xCod):\n",
    "    x = str(xCod)\n",
    "    yCod = x[:2]\n",
    "    if yCod == '01':\n",
    "        return 'Blister'\n",
    "    elif yCod =='02':\n",
    "        return 'Temperos'\n",
    "    elif yCod =='03':\n",
    "        return 'Molhos'\n",
    "    elif yCod == '04':\n",
    "        return 'Conservas'\n",
    "    elif yCod =='05': \n",
    "        return 'Institucional'\n",
    "    elif yCod == '06':\n",
    "        return 'Diversos '\n",
    "    elif yCod =='07':\n",
    "        return 'Insumos'\n",
    "    elif yCod =='08':\n",
    "        return 'Consumo'\n",
    "    elif yCod == '09':\n",
    "        return 'Produtos Prontos para Venda'\n",
    "    elif yCod =='10':\n",
    "        return 'Serviço'\n",
    "    elif yCod == '11':\n",
    "        return 'Embalagens'\n",
    "    elif yCod =='12':\n",
    "        return 'Contas Fixas'\n",
    "    elif yCod == '13':\n",
    "        return 'Bem Ativo'\n",
    "    elif yCod =='14':\n",
    "        return 'Manutenção de Ativo'\n",
    "    elif yCod =='15':\n",
    "        return 'Display'\n",
    "    elif yCod == '16':\n",
    "        return 'Supra Life'\n",
    "\n"
   ]
  },
  {
   "cell_type": "markdown",
   "metadata": {
    "collapsed": true
   },
   "source": [
    "###### Carrega Tabela de Produtos"
   ]
  },
  {
   "cell_type": "code",
   "execution_count": null,
   "metadata": {
    "collapsed": true
   },
   "outputs": [],
   "source": [
    "#df[df['CNPJ',['cliente']]]\n",
    "produtos = df[['cod','']] \n",
    "clientes = clientes.drop_duplicates(subset='CNPJ', keep=\"last\").reset_index(drop=True) #.drop_duplicates()\n",
    "clientes = clientes.sort_values(by=['UF','cidade','bairro'],ascending=True, na_position='first').reset_index(drop=True)\n",
    "clientes.to_csv('C:\\Mettricx\\Projetos\\SupraAlimentos\\PowerBI\\Supra_Clientes.csv',encoding='utf-8', index=False)"
   ]
  },
  {
   "cell_type": "code",
   "execution_count": null,
   "metadata": {
    "collapsed": true
   },
   "outputs": [],
   "source": [
    "nomes = pd.read_csv('C:\\Mettricx\\Projetos\\SupraAlimentos\\PowerBI\\Supra_Produtos.csv', dtype={'cod': object, 'descricao': object}, encoding='latin-1')"
   ]
  },
  {
   "cell_type": "code",
   "execution_count": null,
   "metadata": {
    "collapsed": true
   },
   "outputs": [],
   "source": [
    "# Acrescenta nome da Familia de Produtos\n",
    "nomes['Familia'] = nomes['cod'].apply(famProdutos)"
   ]
  },
  {
   "cell_type": "code",
   "execution_count": null,
   "metadata": {},
   "outputs": [],
   "source": [
    "nomes.head()"
   ]
  },
  {
   "cell_type": "code",
   "execution_count": null,
   "metadata": {
    "collapsed": true
   },
   "outputs": [],
   "source": [
    "# Fazendo um Merge dos DataSets para incluir a descrição correta e a família de Produtos nas NFe\n",
    "notaFiscal = pd.merge(df, nomes, left_on = 'cod', right_on = 'cod')"
   ]
  },
  {
   "cell_type": "code",
   "execution_count": null,
   "metadata": {
    "scrolled": false
   },
   "outputs": [],
   "source": [
    "notaFiscal.tail()"
   ]
  },
  {
   "cell_type": "markdown",
   "metadata": {
    "collapsed": true
   },
   "source": [
    "#### Cria um Novo arquivo CSV de NFs com todas as Descrições corretas"
   ]
  },
  {
   "cell_type": "code",
   "execution_count": null,
   "metadata": {
    "collapsed": true
   },
   "outputs": [],
   "source": [
    "notaFiscal.to_csv('NFe-SupraS.csv',encoding='utf-8', index=False)   # ,encoding='utf-8', index=False Grava CSV sem o Indice"
   ]
  },
  {
   "cell_type": "code",
   "execution_count": null,
   "metadata": {
    "collapsed": true
   },
   "outputs": [],
   "source": [
    "df1 = pd.read_csv('NFe-SupraS.csv', dtype={'cod': object, 'NF': object, 'CNPJ': object})"
   ]
  },
  {
   "cell_type": "code",
   "execution_count": null,
   "metadata": {},
   "outputs": [],
   "source": [
    "df1.head()"
   ]
  },
  {
   "cell_type": "code",
   "execution_count": null,
   "metadata": {
    "collapsed": true
   },
   "outputs": [],
   "source": [
    "# Exclui as famílias abaixo"
   ]
  },
  {
   "cell_type": "code",
   "execution_count": null,
   "metadata": {
    "collapsed": true
   },
   "outputs": [],
   "source": [
    "df2 =  df1[(df1['Familia'] != 'Diversos') & \n",
    "           (df1['Familia'] != 'Manutenção de Ativo') & \n",
    "           (df1['Familia'] != 'Insumos') &\n",
    "           (df1['Familia'] != 'Serviço')]"
   ]
  },
  {
   "cell_type": "code",
   "execution_count": null,
   "metadata": {},
   "outputs": [],
   "source": [
    "df2.tail(100)"
   ]
  },
  {
   "cell_type": "code",
   "execution_count": null,
   "metadata": {
    "collapsed": true
   },
   "outputs": [],
   "source": [
    "#compraDeClientes = df[['CNPJ','preco']].groupby([df['CNPJ']]).sum().reset_index()\n",
    "produtosVendidos = df2[['cod']].groupby([df2['cod']]).size().to_frame('qty').reset_index()\n",
    "#produtosVendidos.sort_values(by=['preco'],ascending=False, na_position='first').reset_index(drop=True)"
   ]
  },
  {
   "cell_type": "code",
   "execution_count": null,
   "metadata": {
    "collapsed": true
   },
   "outputs": [],
   "source": [
    "#produtosVendidos"
   ]
  },
  {
   "cell_type": "code",
   "execution_count": null,
   "metadata": {
    "collapsed": true
   },
   "outputs": [],
   "source": [
    "produtosVendidos=produtosVendidos.sort_values(by=['qty'],ascending=False, na_position='first').reset_index(drop=True)"
   ]
  },
  {
   "cell_type": "code",
   "execution_count": null,
   "metadata": {
    "collapsed": true
   },
   "outputs": [],
   "source": [
    "#produtosVendidos.head(5)"
   ]
  },
  {
   "cell_type": "code",
   "execution_count": null,
   "metadata": {
    "collapsed": true
   },
   "outputs": [],
   "source": [
    "# Faz o MERGE dos dois Datasets\n",
    "s1 = pd.merge(nomes, produtosVendidos, how='inner', on=['cod'])"
   ]
  },
  {
   "cell_type": "code",
   "execution_count": null,
   "metadata": {
    "collapsed": true
   },
   "outputs": [],
   "source": [
    "s1=s1.sort_values(by=['qty'],ascending=True, na_position='first').reset_index(drop=True)"
   ]
  },
  {
   "cell_type": "code",
   "execution_count": null,
   "metadata": {},
   "outputs": [],
   "source": [
    "len(s1)"
   ]
  },
  {
   "cell_type": "code",
   "execution_count": null,
   "metadata": {},
   "outputs": [],
   "source": [
    "# Produtos q venderam mais de 1000 unidades\n",
    "s1.tail(46)"
   ]
  },
  {
   "cell_type": "code",
   "execution_count": null,
   "metadata": {
    "collapsed": true
   },
   "outputs": [],
   "source": [
    "s1.to_csv('Supra_Top_Produtos.csv',encoding='utf-8', index=False) "
   ]
  },
  {
   "cell_type": "code",
   "execution_count": null,
   "metadata": {
    "collapsed": true
   },
   "outputs": [],
   "source": [
    "s2=s1.drop_duplicates(subset='cod', keep=\"last\").reset_index(drop=True) #.drop_duplicates()"
   ]
  },
  {
   "cell_type": "code",
   "execution_count": null,
   "metadata": {},
   "outputs": [],
   "source": [
    "s2.tail()"
   ]
  },
  {
   "cell_type": "markdown",
   "metadata": {
    "collapsed": true
   },
   "source": [
    "# Numero de Clientes comprando por Mês"
   ]
  },
  {
   "cell_type": "code",
   "execution_count": null,
   "metadata": {
    "collapsed": true
   },
   "outputs": [],
   "source": [
    "dados = df.groupby([df['data'].str[0:7],df['cod']]).size()"
   ]
  },
  {
   "cell_type": "code",
   "execution_count": null,
   "metadata": {
    "collapsed": true
   },
   "outputs": [],
   "source": [
    "df[df['cod']==1]  # df[(df['W']>0) & (df['Y'] > 1)]"
   ]
  },
  {
   "cell_type": "code",
   "execution_count": null,
   "metadata": {
    "collapsed": true
   },
   "outputs": [],
   "source": [
    "dados = df.groupby(df['cod']).size()"
   ]
  },
  {
   "cell_type": "code",
   "execution_count": null,
   "metadata": {
    "collapsed": true
   },
   "outputs": [],
   "source": [
    "# Convertendo de Série p/ dataframe\n",
    "d = dados.to_frame().reset_index()\n"
   ]
  },
  {
   "cell_type": "code",
   "execution_count": null,
   "metadata": {
    "collapsed": true
   },
   "outputs": [],
   "source": [
    "e=d.columns"
   ]
  },
  {
   "cell_type": "code",
   "execution_count": null,
   "metadata": {
    "collapsed": true
   },
   "outputs": [],
   "source": [
    "f= d.sort_values(by=[0],ascending=False, na_position='first').reset_index(drop=True)"
   ]
  },
  {
   "cell_type": "code",
   "execution_count": null,
   "metadata": {
    "collapsed": true
   },
   "outputs": [],
   "source": [
    "f"
   ]
  },
  {
   "cell_type": "code",
   "execution_count": null,
   "metadata": {
    "collapsed": true
   },
   "outputs": [],
   "source": [
    "# 160029\n",
    "#f['cod']==30112\n",
    "f[f['cod'] == int(str(160001)[:2])]"
   ]
  },
  {
   "cell_type": "code",
   "execution_count": null,
   "metadata": {
    "collapsed": true
   },
   "outputs": [],
   "source": [
    "g=str(160001)[:2]"
   ]
  },
  {
   "cell_type": "code",
   "execution_count": null,
   "metadata": {
    "collapsed": true
   },
   "outputs": [],
   "source": [
    "g"
   ]
  },
  {
   "cell_type": "code",
   "execution_count": null,
   "metadata": {
    "collapsed": true
   },
   "outputs": [],
   "source": [
    "d"
   ]
  },
  {
   "cell_type": "code",
   "execution_count": null,
   "metadata": {
    "collapsed": true
   },
   "outputs": [],
   "source": [
    "# Número de Clientes por Mês\n",
    "numClientes = d.groupby('data').size()\n",
    "numClientes.head()"
   ]
  },
  {
   "cell_type": "code",
   "execution_count": null,
   "metadata": {
    "collapsed": true
   },
   "outputs": [],
   "source": [
    "# Número médio de Clientes\n",
    "a=(numClientes.mean())"
   ]
  },
  {
   "cell_type": "code",
   "execution_count": null,
   "metadata": {
    "collapsed": true
   },
   "outputs": [],
   "source": [
    "int(a)"
   ]
  },
  {
   "cell_type": "code",
   "execution_count": null,
   "metadata": {
    "collapsed": true
   },
   "outputs": [],
   "source": [
    "numC = numClientes.plot( x=numClientes, stacked=True, kind='bar', figsize=(20,7), rot=90, legend=False, facecolor='#AA0000')\n",
    "\n",
    "numC.set_xlabel('Mês')\n",
    "numC.set_ylabel('Número de Clientes')\n",
    "numC.set_title('Clientes Ativos')\n",
    "numC.axhline( y=a, color='g', linestyle='--', lw=2, label='Valor Médio')"
   ]
  },
  {
   "cell_type": "code",
   "execution_count": null,
   "metadata": {
    "collapsed": true
   },
   "outputs": [],
   "source": []
  }
 ],
 "metadata": {
  "kernelspec": {
   "display_name": "Python 3",
   "language": "python",
   "name": "python3"
  },
  "language_info": {
   "codemirror_mode": {
    "name": "ipython",
    "version": 3
   },
   "file_extension": ".py",
   "mimetype": "text/x-python",
   "name": "python",
   "nbconvert_exporter": "python",
   "pygments_lexer": "ipython3",
   "version": "3.6.2"
  }
 },
 "nbformat": 4,
 "nbformat_minor": 1
}
