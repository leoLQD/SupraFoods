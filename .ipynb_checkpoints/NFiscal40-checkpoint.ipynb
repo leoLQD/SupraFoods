{
 "cells": [
  {
   "cell_type": "code",
   "execution_count": null,
   "metadata": {
    "collapsed": true
   },
   "outputs": [],
   "source": []
  },
  {
   "cell_type": "code",
   "execution_count": null,
   "metadata": {
    "collapsed": true
   },
   "outputs": [],
   "source": [
    "from nfelib.v3_10 import leiauteNFe as leiauteNFe3\n",
    "from pymongo import MongoClient\n",
    "import shutil\n",
    "\n",
    "client = MongoClient('localhost', 27017)\n",
    "db = client.supra\n",
    "collection = db.notafiscal\n",
    "coll = db.nferradas\n",
    "\n",
    "from lxml import etree\n",
    "import tempfile\n",
    "import os, shutil\n",
    "os.chdir('C:\\\\\\\\Mettricx\\\\Projetos\\\\\\\\SupraAlimentos\\\\\\\\bkp_xml')"
   ]
  },
  {
   "cell_type": "code",
   "execution_count": null,
   "metadata": {},
   "outputs": [],
   "source": [
    "k=0\n",
    "gravados=0\n",
    "files = os.listdir()\n",
    "for x in files:\n",
    "    \n",
    "        tree = etree.parse(files[k])\n",
    "        root = tree.getroot()\n",
    "        if  root.tag == '{http://www.portalfiscal.inf.br/nfe}nfeProc': \n",
    "            new_file, filename = tempfile.mkstemp()\n",
    "            subtree = etree.ElementTree(root[0]) \n",
    "            subtree.write(filename, encoding='utf-8')\n",
    "            nota = leiauteNFe3.parse(filename)\n",
    "            print(root.tag)\n",
    "            print(files[k])\n",
    "            if (nota.get_dest().get_xNome() != 'NF-E EMITIDA EM AMBIENTE DE HOMOLOGACAO - SEM VALOR FISCAL'):\n",
    "                # Num e Data da NF\n",
    "                # xNota = nota.get_infNFe()\n",
    "                # nt = xNota.get_ide()\n",
    "                xNum  = nota.get_ide().get_nNF()\n",
    "                xData = nota.get_ide().get_dhEmi()  #nt.get_dhEmi()\n",
    "\n",
    "                destino = nota.get_dest()\n",
    "\n",
    "                destNome = destino.get_xNome()\n",
    "                destCNPJ = destino.CNPJ\n",
    "                destEndereco =destino.get_enderDest()\n",
    "                destCidade=destino.enderDest.get_xMun()\n",
    "                destBairro = destino.enderDest.get_xBairro()\n",
    "                destEstado = destino.enderDest.get_UF()\n",
    "\n",
    "                produtos = nota.get_det()\n",
    "\n",
    "                i=0\n",
    "                item={}\n",
    "                j=1\n",
    "\n",
    "                for l in produtos:\n",
    "                    p = produtos[i]\n",
    "                    xProd = p.get_prod().get_xProd()  # Nome do Produto\n",
    "                    xCod  = p.get_prod().get_cProd()  # Codigo\n",
    "                    xQty  = p.get_prod().get_qCom()   # Quantidade\n",
    "                    xUnid = p.get_prod().get_uCom()   # Unidade\n",
    "                    xPreco= p.get_prod().get_vProd()  # Preco\n",
    "                    item.update( { str(j): {\"codigo\":xCod,\"produto\":xProd,\"qty\":xQty,\"unidade\":xUnid,\"preco\":xPreco}})    \n",
    "                    i += 1\n",
    "                    j += 1\n",
    "                print(i)\n",
    "                #total = nota.get_infNFe()\n",
    "                #valor = total.get_total()\n",
    "                xValor = 100.00 #valor.ICMSTot.get_vProd()\n",
    "                nota_fiscal = {\n",
    "                    \"numNFE\":xNum,\n",
    "                    \"arquivo\":files[k],\n",
    "                    \"data\":xData[:10],\n",
    "                    \"valorTotal\":int(float(xValor)),\n",
    "                    \"Cliente\":destNome,\n",
    "                    \"CNPJ\":destCNPJ,\n",
    "                    \"bairro\":destBairro,\n",
    "                    \"Munucipio\":destCidade,\n",
    "                    \"UF\":destEstado,\n",
    "                    \"item\":item}\n",
    "                collection.insert_one(nota_fiscal)\n",
    "                gravados += 1\n",
    "        else:\n",
    "            nf={\"nota\":files[k],\"tag\":root.tag}\n",
    "            coll.insert_one(nf)\n",
    "            \n",
    "        k += 1\n",
    "        print(root.tag)\n",
    "print('Total Notas : ',k)\n",
    "print('Total Gravados : ', gravados)\n",
    "            \n",
    "     \n"
   ]
  },
  {
   "cell_type": "code",
   "execution_count": null,
   "metadata": {
    "collapsed": true
   },
   "outputs": [],
   "source": [
    "a = nota.get_dest().get_xNome()\n",
    "print(a)"
   ]
  },
  {
   "cell_type": "code",
   "execution_count": null,
   "metadata": {
    "collapsed": true
   },
   "outputs": [],
   "source": [
    "b=(nota.get_ide())\n",
    "print(b.get_dhEmi())"
   ]
  },
  {
   "cell_type": "code",
   "execution_count": null,
   "metadata": {
    "collapsed": true
   },
   "outputs": [],
   "source": []
  },
  {
   "cell_type": "code",
   "execution_count": null,
   "metadata": {
    "collapsed": true
   },
   "outputs": [],
   "source": [
    "print(xNum, xData[:10])"
   ]
  },
  {
   "cell_type": "markdown",
   "metadata": {},
   "source": [
    "# Processa Destinatário"
   ]
  },
  {
   "cell_type": "code",
   "execution_count": null,
   "metadata": {
    "collapsed": true
   },
   "outputs": [],
   "source": []
  },
  {
   "cell_type": "code",
   "execution_count": null,
   "metadata": {
    "collapsed": true
   },
   "outputs": [],
   "source": []
  },
  {
   "cell_type": "markdown",
   "metadata": {},
   "source": [
    "# Processa os itens da NF"
   ]
  },
  {
   "cell_type": "code",
   "execution_count": null,
   "metadata": {
    "collapsed": true
   },
   "outputs": [],
   "source": []
  },
  {
   "cell_type": "code",
   "execution_count": null,
   "metadata": {
    "collapsed": true
   },
   "outputs": [],
   "source": []
  },
  {
   "cell_type": "code",
   "execution_count": null,
   "metadata": {
    "collapsed": true
   },
   "outputs": [],
   "source": []
  },
  {
   "cell_type": "code",
   "execution_count": null,
   "metadata": {
    "collapsed": true
   },
   "outputs": [],
   "source": []
  },
  {
   "cell_type": "code",
   "execution_count": null,
   "metadata": {
    "collapsed": true
   },
   "outputs": [],
   "source": []
  },
  {
   "cell_type": "code",
   "execution_count": null,
   "metadata": {
    "collapsed": true
   },
   "outputs": [],
   "source": []
  },
  {
   "cell_type": "code",
   "execution_count": null,
   "metadata": {
    "collapsed": true
   },
   "outputs": [],
   "source": []
  },
  {
   "cell_type": "code",
   "execution_count": null,
   "metadata": {
    "collapsed": true
   },
   "outputs": [],
   "source": [
    "for k,v in item.items():\n",
    "    print(k,v)"
   ]
  },
  {
   "cell_type": "code",
   "execution_count": null,
   "metadata": {
    "collapsed": true
   },
   "outputs": [],
   "source": [
    "def xMoveNF(src, dst)\n",
    "    shutil.move(src,dst)\n",
    "    return\n"
   ]
  },
  {
   "cell_type": "code",
   "execution_count": null,
   "metadata": {
    "collapsed": true
   },
   "outputs": [],
   "source": [
    "shutil.move('33170717339293000139550010000062941000062947-nfe.xml', 'C:\\\\\\Mettricx\\\\Projetos\\\\\\\\SupraAlimentos\\\\\\\\novo')"
   ]
  },
  {
   "cell_type": "code",
   "execution_count": null,
   "metadata": {
    "collapsed": true
   },
   "outputs": [],
   "source": []
  }
 ],
 "metadata": {
  "kernelspec": {
   "display_name": "Python 3",
   "language": "python",
   "name": "python3"
  },
  "language_info": {
   "codemirror_mode": {
    "name": "ipython",
    "version": 3
   },
   "file_extension": ".py",
   "mimetype": "text/x-python",
   "name": "python",
   "nbconvert_exporter": "python",
   "pygments_lexer": "ipython3",
   "version": "3.6.2"
  }
 },
 "nbformat": 4,
 "nbformat_minor": 2
}
