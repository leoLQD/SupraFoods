{
 "cells": [
  {
   "cell_type": "code",
   "execution_count": null,
   "metadata": {
    "collapsed": true
   },
   "outputs": [],
   "source": []
  },
  {
   "cell_type": "code",
   "execution_count": 1,
   "metadata": {
    "collapsed": true
   },
   "outputs": [],
   "source": [
    "from nfelib.v3_10 import leiauteNFe as leiauteNFe3\n",
    "from pymongo import MongoClient\n",
    "import shutil\n",
    "\n",
    "client = MongoClient('localhost', 27017)\n",
    "db = client.supra\n",
    "collection = db.notafiscal\n",
    "\n",
    "from lxml import etree\n",
    "import tempfile\n",
    "import os, shutil\n",
    "os.chdir('C:\\\\\\\\Mettricx\\\\Projetos\\\\\\\\SupraAlimentos\\\\\\\\bkp_xml')"
   ]
  },
  {
   "cell_type": "code",
   "execution_count": null,
   "metadata": {
    "collapsed": true
   },
   "outputs": [],
   "source": [
    "k=0\n",
    "files = os.listdir()\n",
    "for x in files:\n",
    "    if  root.tag != '{http://www.portalfiscal.inf.br/nfe}NFe':\n",
    "        tree = etree.parse(files[k])\n",
    "        root = tree.getroot()\n",
    "        new_file, filename = tempfile.mkstemp()\n",
    "        subtree = etree.ElementTree(root[0]) \n",
    "        subtree.write(filename, encoding='utf-8')\n",
    "        # Num e Data da NF\n",
    "        xNota = nota.get_infNFe()\n",
    "        nt = xNota.get_ide()\n",
    "        xNum  = nt.get_nNF()\n",
    "        xData = nt.get_dhEmi()\n",
    "        \n",
    "        destino = nota.get_infNFe().get_dest()\n",
    "\n",
    "        destNome = destino.get_xNome()\n",
    "        destCNPJ = destino.CNPJ\n",
    "        destEndereco =destino.get_enderDest()\n",
    "        destCidade=destino.enderDest.get_xMun()\n",
    "        destBairro = destino.enderDest.get_xBairro()\n",
    "        destEstado = destino.enderDest.get_UF()\n",
    "   \n",
    "        produtos = nota.get_infNFe().get_det()\n",
    "    \n",
    "        i=0\n",
    "        item={}\n",
    "        j=1\n",
    "        \n",
    "        for k in produtos:\n",
    "            p = produtos[i]\n",
    "            xProd = p.get_prod().get_xProd()  # Nome do Produto\n",
    "            xCod  = p.get_prod().get_cProd()  # Codigo\n",
    "            xQty  = p.get_prod().get_qCom()   # Quantidade\n",
    "            xUnid = p.get_prod().get_uCom()   # Unidade\n",
    "            xPreco= p.get_prod().get_vProd()  # Preco\n",
    "            item.update( { str(j): {\"codigo\":xCod,\"produto\":xProd,\"qty\":xQty,\"unidade\":xUnid,\"preco\":xPreco}})    \n",
    "            i += 1\n",
    "            j += 1\n",
    "        print(i)\n",
    "        total = nota.get_infNFe()\n",
    "        valor = total.get_total()\n",
    "        xValor = valor.ICMSTot.get_vProd()\n",
    "        nota_fiscal = {\n",
    "            \"numNFE\":xNum,\n",
    "            \"data\":xData[:10],\n",
    "            \"valorTotal\":int(float(xValor)),\n",
    "            \"Cliente\":destNome,\n",
    "            \"CNPJ\":destCNPJ,\n",
    "            \"bairro\":destBairro,\n",
    "            \"Munucipio\":destCidade,\n",
    "            \"UF\":destEstado,\n",
    "            \"item\":item}\n",
    "        collection.insert_one(nota_fiscal)\n",
    "     \n"
   ]
  },
  {
   "cell_type": "code",
   "execution_count": 6,
   "metadata": {
    "collapsed": true
   },
   "outputs": [],
   "source": []
  },
  {
   "cell_type": "code",
   "execution_count": 7,
   "metadata": {
    "collapsed": true
   },
   "outputs": [],
   "source": []
  },
  {
   "cell_type": "code",
   "execution_count": 8,
   "metadata": {
    "collapsed": true
   },
   "outputs": [],
   "source": []
  },
  {
   "cell_type": "code",
   "execution_count": 9,
   "metadata": {},
   "outputs": [
    {
     "name": "stdout",
     "output_type": "stream",
     "text": [
      "6294 2017-07-17\n"
     ]
    }
   ],
   "source": [
    "print(xNum, xData[:10])"
   ]
  },
  {
   "cell_type": "markdown",
   "metadata": {},
   "source": [
    "# Processa Destinatário"
   ]
  },
  {
   "cell_type": "code",
   "execution_count": 10,
   "metadata": {
    "collapsed": true
   },
   "outputs": [],
   "source": []
  },
  {
   "cell_type": "code",
   "execution_count": 11,
   "metadata": {},
   "outputs": [
    {
     "name": "stdout",
     "output_type": "stream",
     "text": [
      "SUPERMERCADO CALIL DE CONCEICAO DE MACABU LTDA.\n",
      "01190829000167\n",
      "RUA BENTO DE ANDRADE LEMOS\n",
      "CONCEICAO DE MACABU\n",
      "PARAISO\n",
      "RJ\n"
     ]
    }
   ],
   "source": []
  },
  {
   "cell_type": "markdown",
   "metadata": {},
   "source": [
    "# Processa os itens da NF"
   ]
  },
  {
   "cell_type": "code",
   "execution_count": 12,
   "metadata": {
    "collapsed": true
   },
   "outputs": [],
   "source": []
  },
  {
   "cell_type": "code",
   "execution_count": 13,
   "metadata": {},
   "outputs": [
    {
     "data": {
      "text/plain": [
       "38"
      ]
     },
     "execution_count": 13,
     "metadata": {},
     "output_type": "execute_result"
    }
   ],
   "source": [
    "# Num. de itens\n",
    "len(produtos)"
   ]
  },
  {
   "cell_type": "code",
   "execution_count": 14,
   "metadata": {},
   "outputs": [
    {
     "name": "stdout",
     "output_type": "stream",
     "text": [
      "38\n"
     ]
    }
   ],
   "source": []
  },
  {
   "cell_type": "code",
   "execution_count": 15,
   "metadata": {
    "collapsed": true
   },
   "outputs": [],
   "source": []
  },
  {
   "cell_type": "code",
   "execution_count": 16,
   "metadata": {
    "collapsed": true
   },
   "outputs": [],
   "source": []
  },
  {
   "cell_type": "code",
   "execution_count": 17,
   "metadata": {},
   "outputs": [
    {
     "name": "stdout",
     "output_type": "stream",
     "text": [
      "4537.15\n"
     ]
    }
   ],
   "source": []
  },
  {
   "cell_type": "code",
   "execution_count": 19,
   "metadata": {
    "collapsed": true
   },
   "outputs": [],
   "source": []
  },
  {
   "cell_type": "code",
   "execution_count": 20,
   "metadata": {},
   "outputs": [
    {
     "data": {
      "text/plain": [
       "<pymongo.results.InsertOneResult at 0x29ff86a7d48>"
      ]
     },
     "execution_count": 20,
     "metadata": {},
     "output_type": "execute_result"
    }
   ],
   "source": []
  },
  {
   "cell_type": "code",
   "execution_count": null,
   "metadata": {
    "collapsed": true
   },
   "outputs": [],
   "source": [
    "for k,v in item.items():\n",
    "    print(k,v)"
   ]
  },
  {
   "cell_type": "code",
   "execution_count": null,
   "metadata": {
    "collapsed": true
   },
   "outputs": [],
   "source": [
    "\n",
    "\n",
    "            vet = xIde.get_det.get_det()\n",
    "            k=0\n",
    "            for m in vet:\n",
    "                prod = vet[k]\n",
    "                xProd = prod.get_prod()\n",
    "                \n",
    "                # Produto\n",
    "                prod = xProd.get_xProd() \n",
    "                \n",
    "                # Preço do Produto\n",
    "                preco =  xProd.get_vProd() \n",
    "                \n",
    "                # Codigo do Produto\n",
    "                xCod = xProd.get_cProd()\n",
    "                               \n",
    "                #Valor total da Nota Fiscal\n",
    "                valor = xIde.get_total().ICMSTot.get_vNF()\n",
    "                                \n",
    "                # Quantidade de Produto\n",
    "                qty = xProd.get_qCom()\n",
    "            \n",
    "                item[k] = {\"produto\":prod,\n",
    "                           \"qty\":qty,\n",
    "                           \"codigo\":xCod,\n",
    "                           \"preco\":preco }              \n",
    "            \n",
    "            nota_fiscal = {\n",
    "            \"numNFE\":xIde,\n",
    "            \"destino\":leiauteNFe3.parse(filename).get_infNFe().get_dest(),\n",
    "            \"valorTotal\":valor,\n",
    "            \"Cliente\":destino.xNome,\n",
    "            \"CNPJ\":destino.CNPJ,\n",
    "            \"cpf\":destino.CPF,\n",
    "            \"endereco\":destino.enderDest.xLgr,\n",
    "            \"nro\":destino.enderDest.nro,\n",
    "            \"cep\":destino.enderDest.xCpl,\n",
    "            \"bairro\":destino.enderDest.xBairro,\n",
    "            \"Munucipio\":destino.enderDest.xMun,\n",
    "            \"UF\":destino.enderDest.UF,\n",
    "            \"item\":item}\n",
    "          \n",
    "            \n",
    "\n",
    "       else:\n",
    "            #print(files[k],k)\n",
    "            #print( root.tag)\n",
    "            print(\"Tag :\",root.tag)\n",
    "            new_file, filename = tempfile.mkstemp()\n",
    "            subtree = etree.ElementTree(root[0]) # exportamentos apenas o primeiro filho\n",
    "            subtree.write(filename, encoding='utf-8')\n",
    "            nota = leiauteNFe3.parse(filename)\n",
    "\n",
    "            xIde = (leiauteNFe3.infNFeType)\n",
    "            destino=leiauteNFe3.parse(filename).get_infNFe().get_dest()\n",
    "    except etree.XMLSyntaxError:\n",
    "            bad.append(files[k])\n",
    "    except AttributeError:\n",
    "            erroAtrib.append(files[k])\n",
    "    k +=1\n",
    "\n",
    "print(k)\n"
   ]
  },
  {
   "cell_type": "code",
   "execution_count": 3,
   "metadata": {
    "collapsed": true
   },
   "outputs": [],
   "source": [
    "def xMoveNF(src, dst)\n",
    "    shutil.move(src,dst)\n",
    "    return\n"
   ]
  },
  {
   "cell_type": "code",
   "execution_count": 6,
   "metadata": {},
   "outputs": [
    {
     "data": {
      "text/plain": [
       "'C:\\\\\\\\Mettricx\\\\Projetos\\\\\\\\SupraAlimentos\\\\\\\\novo\\\\33170717339293000139550010000062941000062947-nfe.xml'"
      ]
     },
     "execution_count": 6,
     "metadata": {},
     "output_type": "execute_result"
    }
   ],
   "source": [
    "shutil.move('33170717339293000139550010000062941000062947-nfe.xml', 'C:\\\\\\Mettricx\\\\Projetos\\\\\\\\SupraAlimentos\\\\\\\\novo')"
   ]
  },
  {
   "cell_type": "code",
   "execution_count": null,
   "metadata": {
    "collapsed": true
   },
   "outputs": [],
   "source": []
  }
 ],
 "metadata": {
  "kernelspec": {
   "display_name": "Python 3",
   "language": "python",
   "name": "python3"
  },
  "language_info": {
   "codemirror_mode": {
    "name": "ipython",
    "version": 3
   },
   "file_extension": ".py",
   "mimetype": "text/x-python",
   "name": "python",
   "nbconvert_exporter": "python",
   "pygments_lexer": "ipython3",
   "version": "3.6.2"
  }
 },
 "nbformat": 4,
 "nbformat_minor": 2
}
