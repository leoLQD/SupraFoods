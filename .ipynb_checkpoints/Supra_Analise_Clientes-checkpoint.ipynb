{
 "cells": [
  {
   "cell_type": "markdown",
   "metadata": {},
   "source": [
    "Definir:\n",
    "1 - Evolução quantitativa de clientes ativos por mês\n",
    "2 - Classificar os clientes por volume e frequencia de compra.\n",
    "3 - O que cada cliente compra e com que frequência.\n",
    "4 - Evolução dos produtos Oferecidos\n",
    "5 - Classificar produtos por tipo.Varios produtos identicos com códigos diferentes em função da embalagem\n",
    "6 - Análise geográfica x volume x produto"
   ]
  },
  {
   "cell_type": "code",
   "execution_count": 1,
   "metadata": {},
   "outputs": [
    {
     "data": {
      "text/plain": [
       "'Portuguese_Brazil.1252'"
      ]
     },
     "execution_count": 1,
     "metadata": {},
     "output_type": "execute_result"
    }
   ],
   "source": [
    "import pandas as pd\n",
    "import numpy as np\n",
    "import locale\n",
    "import matplotlib.pyplot as plt\n",
    "import seaborn as sns\n",
    "%matplotlib inline\n",
    "\n",
    "# Define Moeda Brasileira numeros R$ 1.000,00\n",
    "locale.setlocale( locale.LC_ALL, '' )\n",
    "#locale.currency( g, grouping = True )"
   ]
  },
  {
   "cell_type": "code",
   "execution_count": 2,
   "metadata": {
    "collapsed": true
   },
   "outputs": [],
   "source": [
    "#locale.currency( g, grouping = True )"
   ]
  },
  {
   "cell_type": "code",
   "execution_count": 3,
   "metadata": {
    "collapsed": true
   },
   "outputs": [],
   "source": [
    "from numpy.random import randn\n",
    "#np.random.seed(101)"
   ]
  },
  {
   "cell_type": "code",
   "execution_count": 4,
   "metadata": {
    "collapsed": true
   },
   "outputs": [],
   "source": [
    "#pd.options.display.float_format = 'R${:,.2f}'.format"
   ]
  },
  {
   "cell_type": "code",
   "execution_count": 5,
   "metadata": {
    "collapsed": true
   },
   "outputs": [],
   "source": [
    "# Abre o dataset\n",
    "df = pd.read_csv('NFe-SupraAlimentos.csv')\n"
   ]
  },
  {
   "cell_type": "markdown",
   "metadata": {
    "collapsed": true
   },
   "source": [
    "#### Exclui a primeira coluna\n",
    "#df.drop('xml',axis=1,inplace=True)"
   ]
  },
  {
   "cell_type": "code",
   "execution_count": 7,
   "metadata": {},
   "outputs": [
    {
     "data": {
      "text/html": [
       "<div>\n",
       "<style scoped>\n",
       "    .dataframe tbody tr th:only-of-type {\n",
       "        vertical-align: middle;\n",
       "    }\n",
       "\n",
       "    .dataframe tbody tr th {\n",
       "        vertical-align: top;\n",
       "    }\n",
       "\n",
       "    .dataframe thead th {\n",
       "        text-align: right;\n",
       "    }\n",
       "</style>\n",
       "<table border=\"1\" class=\"dataframe\">\n",
       "  <thead>\n",
       "    <tr style=\"text-align: right;\">\n",
       "      <th></th>\n",
       "      <th>cliente</th>\n",
       "      <th>NF</th>\n",
       "      <th>data</th>\n",
       "      <th>CNPJ</th>\n",
       "      <th>cidade</th>\n",
       "      <th>bairro</th>\n",
       "      <th>UF</th>\n",
       "      <th>cod</th>\n",
       "      <th>descricao</th>\n",
       "      <th>QTY</th>\n",
       "      <th>unidade</th>\n",
       "      <th>preco</th>\n",
       "    </tr>\n",
       "  </thead>\n",
       "  <tbody>\n",
       "    <tr>\n",
       "      <th>0</th>\n",
       "      <td>NF-E EMITIDA EM AMBIENTE DE HOMOLOGACAO - SEM ...</td>\n",
       "      <td>4</td>\n",
       "      <td>2014-08-29</td>\n",
       "      <td>27833615002018</td>\n",
       "      <td>RIO DE JANEIRO</td>\n",
       "      <td>CASIMIRO DE ABREU</td>\n",
       "      <td>RJ</td>\n",
       "      <td>20002</td>\n",
       "      <td>ALHO CEBOLA PICADINHO S/SAL 180GR</td>\n",
       "      <td>1</td>\n",
       "      <td>UN</td>\n",
       "      <td>2.77</td>\n",
       "    </tr>\n",
       "    <tr>\n",
       "      <th>1</th>\n",
       "      <td>NF-E EMITIDA EM AMBIENTE DE HOMOLOGACAO - SEM ...</td>\n",
       "      <td>5</td>\n",
       "      <td>2014-08-29</td>\n",
       "      <td>9309021000168</td>\n",
       "      <td>RIO DE JANEIRO</td>\n",
       "      <td>VILA NOVA DE CAMPOS</td>\n",
       "      <td>RJ</td>\n",
       "      <td>10002</td>\n",
       "      <td>ALECRIM 15GR</td>\n",
       "      <td>1</td>\n",
       "      <td>UN</td>\n",
       "      <td>1.11</td>\n",
       "    </tr>\n",
       "    <tr>\n",
       "      <th>2</th>\n",
       "      <td>NF-E EMITIDA EM AMBIENTE DE HOMOLOGACAO - SEM ...</td>\n",
       "      <td>6</td>\n",
       "      <td>2014-08-29</td>\n",
       "      <td>9309021000168</td>\n",
       "      <td>ANGRA DOS REIS</td>\n",
       "      <td>VILA NOVA DE CAMPOS</td>\n",
       "      <td>RJ</td>\n",
       "      <td>10001</td>\n",
       "      <td>ACAFRAO 15GR</td>\n",
       "      <td>12</td>\n",
       "      <td>UN</td>\n",
       "      <td>9.72</td>\n",
       "    </tr>\n",
       "    <tr>\n",
       "      <th>3</th>\n",
       "      <td>NF-E EMITIDA EM AMBIENTE DE HOMOLOGACAO - SEM ...</td>\n",
       "      <td>6</td>\n",
       "      <td>2014-08-29</td>\n",
       "      <td>9309021000168</td>\n",
       "      <td>ANGRA DOS REIS</td>\n",
       "      <td>VILA NOVA DE CAMPOS</td>\n",
       "      <td>RJ</td>\n",
       "      <td>10002</td>\n",
       "      <td>ALECRIM 15GR</td>\n",
       "      <td>1</td>\n",
       "      <td>UN</td>\n",
       "      <td>1.11</td>\n",
       "    </tr>\n",
       "    <tr>\n",
       "      <th>4</th>\n",
       "      <td>NF-E EMITIDA EM AMBIENTE DE HOMOLOGACAO - SEM ...</td>\n",
       "      <td>6</td>\n",
       "      <td>2014-08-29</td>\n",
       "      <td>9309021000168</td>\n",
       "      <td>ANGRA DOS REIS</td>\n",
       "      <td>VILA NOVA DE CAMPOS</td>\n",
       "      <td>RJ</td>\n",
       "      <td>10009</td>\n",
       "      <td>CALDO DE CARNE COM ERVAS FINAS 60GR</td>\n",
       "      <td>1</td>\n",
       "      <td>UN</td>\n",
       "      <td>1.43</td>\n",
       "    </tr>\n",
       "  </tbody>\n",
       "</table>\n",
       "</div>"
      ],
      "text/plain": [
       "                                             cliente  NF        data  \\\n",
       "0  NF-E EMITIDA EM AMBIENTE DE HOMOLOGACAO - SEM ...   4  2014-08-29   \n",
       "1  NF-E EMITIDA EM AMBIENTE DE HOMOLOGACAO - SEM ...   5  2014-08-29   \n",
       "2  NF-E EMITIDA EM AMBIENTE DE HOMOLOGACAO - SEM ...   6  2014-08-29   \n",
       "3  NF-E EMITIDA EM AMBIENTE DE HOMOLOGACAO - SEM ...   6  2014-08-29   \n",
       "4  NF-E EMITIDA EM AMBIENTE DE HOMOLOGACAO - SEM ...   6  2014-08-29   \n",
       "\n",
       "             CNPJ          cidade               bairro  UF    cod  \\\n",
       "0  27833615002018  RIO DE JANEIRO    CASIMIRO DE ABREU  RJ  20002   \n",
       "1   9309021000168  RIO DE JANEIRO  VILA NOVA DE CAMPOS  RJ  10002   \n",
       "2   9309021000168  ANGRA DOS REIS  VILA NOVA DE CAMPOS  RJ  10001   \n",
       "3   9309021000168  ANGRA DOS REIS  VILA NOVA DE CAMPOS  RJ  10002   \n",
       "4   9309021000168  ANGRA DOS REIS  VILA NOVA DE CAMPOS  RJ  10009   \n",
       "\n",
       "                             descricao  QTY unidade  preco  \n",
       "0    ALHO CEBOLA PICADINHO S/SAL 180GR    1      UN   2.77  \n",
       "1                         ALECRIM 15GR    1      UN   1.11  \n",
       "2                         ACAFRAO 15GR   12      UN   9.72  \n",
       "3                         ALECRIM 15GR    1      UN   1.11  \n",
       "4  CALDO DE CARNE COM ERVAS FINAS 60GR    1      UN   1.43  "
      ]
     },
     "execution_count": 7,
     "metadata": {},
     "output_type": "execute_result"
    }
   ],
   "source": [
    "df.head()"
   ]
  },
  {
   "cell_type": "markdown",
   "metadata": {},
   "source": [
    "#### Faturamento Total\n"
   ]
  },
  {
   "cell_type": "code",
   "execution_count": 10,
   "metadata": {},
   "outputs": [
    {
     "data": {
      "text/plain": [
       "'R$11.677.734,97'"
      ]
     },
     "execution_count": 10,
     "metadata": {},
     "output_type": "execute_result"
    }
   ],
   "source": [
    "g = float(\"{0:.2f}\".format(df['preco'].sum())) \n",
    "FaturamentoTotal = locale.currency( g, grouping = True ) \n",
    "FaturamentoTotal\n"
   ]
  },
  {
   "cell_type": "code",
   "execution_count": null,
   "metadata": {
    "collapsed": true
   },
   "outputs": [],
   "source": [
    "# Total de NF"
   ]
  },
  {
   "cell_type": "code",
   "execution_count": 13,
   "metadata": {
    "collapsed": true
   },
   "outputs": [],
   "source": [
    "NotasFiscais = df['NF']"
   ]
  },
  {
   "cell_type": "code",
   "execution_count": 15,
   "metadata": {},
   "outputs": [],
   "source": [
    "NotasFiscais = NotasFiscais.drop_duplicates()"
   ]
  },
  {
   "cell_type": "code",
   "execution_count": 18,
   "metadata": {},
   "outputs": [
    {
     "data": {
      "text/plain": [
       "6627"
      ]
     },
     "execution_count": 18,
     "metadata": {},
     "output_type": "execute_result"
    }
   ],
   "source": [
    "len(NotasFiscais)"
   ]
  },
  {
   "cell_type": "markdown",
   "metadata": {},
   "source": [
    "#### Vendas Mensais"
   ]
  },
  {
   "cell_type": "code",
   "execution_count": 23,
   "metadata": {},
   "outputs": [],
   "source": [
    "Vendas = df[['data','preco']].groupby(df['data'].str[0:7]).sum().reset_index()"
   ]
  },
  {
   "cell_type": "code",
   "execution_count": 20,
   "metadata": {
    "collapsed": true
   },
   "outputs": [],
   "source": [
    "Vendas_2018 = Vendas[(Vendas['data'].str[0:4]=='2018')]"
   ]
  },
  {
   "cell_type": "code",
   "execution_count": 21,
   "metadata": {},
   "outputs": [
    {
     "data": {
      "text/html": [
       "<div>\n",
       "<style scoped>\n",
       "    .dataframe tbody tr th:only-of-type {\n",
       "        vertical-align: middle;\n",
       "    }\n",
       "\n",
       "    .dataframe tbody tr th {\n",
       "        vertical-align: top;\n",
       "    }\n",
       "\n",
       "    .dataframe thead th {\n",
       "        text-align: right;\n",
       "    }\n",
       "</style>\n",
       "<table border=\"1\" class=\"dataframe\">\n",
       "  <thead>\n",
       "    <tr style=\"text-align: right;\">\n",
       "      <th></th>\n",
       "      <th>data</th>\n",
       "      <th>preco</th>\n",
       "    </tr>\n",
       "  </thead>\n",
       "  <tbody>\n",
       "    <tr>\n",
       "      <th>41</th>\n",
       "      <td>2018-01</td>\n",
       "      <td>440912.50</td>\n",
       "    </tr>\n",
       "    <tr>\n",
       "      <th>42</th>\n",
       "      <td>2018-02</td>\n",
       "      <td>243182.04</td>\n",
       "    </tr>\n",
       "  </tbody>\n",
       "</table>\n",
       "</div>"
      ],
      "text/plain": [
       "       data      preco\n",
       "41  2018-01  440912.50\n",
       "42  2018-02  243182.04"
      ]
     },
     "execution_count": 21,
     "metadata": {},
     "output_type": "execute_result"
    }
   ],
   "source": [
    "Vendas_2018.tail(20)"
   ]
  },
  {
   "cell_type": "code",
   "execution_count": null,
   "metadata": {
    "collapsed": true
   },
   "outputs": [],
   "source": [
    "dados2018 = dados[(dados['data'].str[0:4]=='2018')]"
   ]
  },
  {
   "cell_type": "markdown",
   "metadata": {},
   "source": [
    "# Cria arquivo de Clientes"
   ]
  },
  {
   "cell_type": "code",
   "execution_count": 17,
   "metadata": {
    "collapsed": true
   },
   "outputs": [],
   "source": [
    "clientes = df[['CNPJ','cliente','cidade','bairro','UF']].drop_duplicates().reset_index(drop=True)"
   ]
  },
  {
   "cell_type": "code",
   "execution_count": 18,
   "metadata": {},
   "outputs": [
    {
     "data": {
      "text/html": [
       "<div>\n",
       "<style scoped>\n",
       "    .dataframe tbody tr th:only-of-type {\n",
       "        vertical-align: middle;\n",
       "    }\n",
       "\n",
       "    .dataframe tbody tr th {\n",
       "        vertical-align: top;\n",
       "    }\n",
       "\n",
       "    .dataframe thead th {\n",
       "        text-align: right;\n",
       "    }\n",
       "</style>\n",
       "<table border=\"1\" class=\"dataframe\">\n",
       "  <thead>\n",
       "    <tr style=\"text-align: right;\">\n",
       "      <th></th>\n",
       "      <th>CNPJ</th>\n",
       "      <th>cliente</th>\n",
       "      <th>cidade</th>\n",
       "      <th>bairro</th>\n",
       "      <th>UF</th>\n",
       "    </tr>\n",
       "  </thead>\n",
       "  <tbody>\n",
       "    <tr>\n",
       "      <th>838</th>\n",
       "      <td>26421190000295</td>\n",
       "      <td>LMP ATACAREJO - EIRELI.</td>\n",
       "      <td>MARICA</td>\n",
       "      <td>INOA</td>\n",
       "      <td>RJ</td>\n",
       "    </tr>\n",
       "    <tr>\n",
       "      <th>839</th>\n",
       "      <td>26425468000200</td>\n",
       "      <td>MGF ATACAREJO LTDA.</td>\n",
       "      <td>RIO BONITO</td>\n",
       "      <td>CENTRO</td>\n",
       "      <td>RJ</td>\n",
       "    </tr>\n",
       "    <tr>\n",
       "      <th>840</th>\n",
       "      <td>29080813000110</td>\n",
       "      <td>MERCADO ADONAI DO ENCANAMENTO LTDA</td>\n",
       "      <td>RIO DE JANEIRO</td>\n",
       "      <td>COSMOS</td>\n",
       "      <td>RJ</td>\n",
       "    </tr>\n",
       "    <tr>\n",
       "      <th>841</th>\n",
       "      <td>29080946000197</td>\n",
       "      <td>MERCADO ADONAI DE INHOAIBA LTDA</td>\n",
       "      <td>RIO DE JANEIRO</td>\n",
       "      <td>INHOAIBA</td>\n",
       "      <td>RJ</td>\n",
       "    </tr>\n",
       "    <tr>\n",
       "      <th>842</th>\n",
       "      <td>29081029000127</td>\n",
       "      <td>MERCADO ADONAI DO KM 32 LTDA</td>\n",
       "      <td>NOVA IGUACU</td>\n",
       "      <td>KM 32</td>\n",
       "      <td>RJ</td>\n",
       "    </tr>\n",
       "  </tbody>\n",
       "</table>\n",
       "</div>"
      ],
      "text/plain": [
       "               CNPJ                             cliente          cidade  \\\n",
       "838  26421190000295             LMP ATACAREJO - EIRELI.          MARICA   \n",
       "839  26425468000200                 MGF ATACAREJO LTDA.      RIO BONITO   \n",
       "840  29080813000110  MERCADO ADONAI DO ENCANAMENTO LTDA  RIO DE JANEIRO   \n",
       "841  29080946000197     MERCADO ADONAI DE INHOAIBA LTDA  RIO DE JANEIRO   \n",
       "842  29081029000127        MERCADO ADONAI DO KM 32 LTDA     NOVA IGUACU   \n",
       "\n",
       "       bairro  UF  \n",
       "838      INOA  RJ  \n",
       "839    CENTRO  RJ  \n",
       "840    COSMOS  RJ  \n",
       "841  INHOAIBA  RJ  \n",
       "842     KM 32  RJ  "
      ]
     },
     "execution_count": 18,
     "metadata": {},
     "output_type": "execute_result"
    }
   ],
   "source": [
    "clientes.tail()"
   ]
  },
  {
   "cell_type": "code",
   "execution_count": 19,
   "metadata": {
    "collapsed": true
   },
   "outputs": [],
   "source": [
    "clientes.to_csv('clientes.csv')"
   ]
  },
  {
   "cell_type": "markdown",
   "metadata": {},
   "source": [
    "# Total de Clientes por Mês"
   ]
  },
  {
   "cell_type": "code",
   "execution_count": 68,
   "metadata": {},
   "outputs": [
    {
     "data": {
      "text/html": [
       "<div>\n",
       "<style scoped>\n",
       "    .dataframe tbody tr th:only-of-type {\n",
       "        vertical-align: middle;\n",
       "    }\n",
       "\n",
       "    .dataframe tbody tr th {\n",
       "        vertical-align: top;\n",
       "    }\n",
       "\n",
       "    .dataframe thead th {\n",
       "        text-align: right;\n",
       "    }\n",
       "</style>\n",
       "<table border=\"1\" class=\"dataframe\">\n",
       "  <thead>\n",
       "    <tr style=\"text-align: right;\">\n",
       "      <th></th>\n",
       "      <th>data</th>\n",
       "      <th>CNPJ</th>\n",
       "      <th>NF</th>\n",
       "    </tr>\n",
       "  </thead>\n",
       "  <tbody>\n",
       "    <tr>\n",
       "      <th>0</th>\n",
       "      <td>2014-08-29</td>\n",
       "      <td>27833615002018</td>\n",
       "      <td>4</td>\n",
       "    </tr>\n",
       "    <tr>\n",
       "      <th>1</th>\n",
       "      <td>2014-08-29</td>\n",
       "      <td>9309021000168</td>\n",
       "      <td>5</td>\n",
       "    </tr>\n",
       "    <tr>\n",
       "      <th>2</th>\n",
       "      <td>2014-08-29</td>\n",
       "      <td>9309021000168</td>\n",
       "      <td>6</td>\n",
       "    </tr>\n",
       "    <tr>\n",
       "      <th>3</th>\n",
       "      <td>2014-08-29</td>\n",
       "      <td>9309021000168</td>\n",
       "      <td>7</td>\n",
       "    </tr>\n",
       "    <tr>\n",
       "      <th>4</th>\n",
       "      <td>2014-08-29</td>\n",
       "      <td>9309021000168</td>\n",
       "      <td>8</td>\n",
       "    </tr>\n",
       "    <tr>\n",
       "      <th>5</th>\n",
       "      <td>2014-08-29</td>\n",
       "      <td>9309021000168</td>\n",
       "      <td>9</td>\n",
       "    </tr>\n",
       "    <tr>\n",
       "      <th>6</th>\n",
       "      <td>2014-08-29</td>\n",
       "      <td>9309021000168</td>\n",
       "      <td>10</td>\n",
       "    </tr>\n",
       "    <tr>\n",
       "      <th>7</th>\n",
       "      <td>2014-09-09</td>\n",
       "      <td>8878246000172</td>\n",
       "      <td>12</td>\n",
       "    </tr>\n",
       "    <tr>\n",
       "      <th>8</th>\n",
       "      <td>2014-09-09</td>\n",
       "      <td>8878246000172</td>\n",
       "      <td>14</td>\n",
       "    </tr>\n",
       "    <tr>\n",
       "      <th>9</th>\n",
       "      <td>2014-09-09</td>\n",
       "      <td>8878246000172</td>\n",
       "      <td>15</td>\n",
       "    </tr>\n",
       "    <tr>\n",
       "      <th>10</th>\n",
       "      <td>2014-09-09</td>\n",
       "      <td>9309021000168</td>\n",
       "      <td>16</td>\n",
       "    </tr>\n",
       "    <tr>\n",
       "      <th>11</th>\n",
       "      <td>2014-09-09</td>\n",
       "      <td>8878246000172</td>\n",
       "      <td>17</td>\n",
       "    </tr>\n",
       "    <tr>\n",
       "      <th>12</th>\n",
       "      <td>2014-09-09</td>\n",
       "      <td>14326580000116</td>\n",
       "      <td>18</td>\n",
       "    </tr>\n",
       "    <tr>\n",
       "      <th>13</th>\n",
       "      <td>2014-09-09</td>\n",
       "      <td>14326580000116</td>\n",
       "      <td>19</td>\n",
       "    </tr>\n",
       "    <tr>\n",
       "      <th>14</th>\n",
       "      <td>2014-09-09</td>\n",
       "      <td>3182724000191</td>\n",
       "      <td>20</td>\n",
       "    </tr>\n",
       "    <tr>\n",
       "      <th>15</th>\n",
       "      <td>2014-09-25</td>\n",
       "      <td>11699310000162</td>\n",
       "      <td>1241</td>\n",
       "    </tr>\n",
       "    <tr>\n",
       "      <th>16</th>\n",
       "      <td>2014-09-25</td>\n",
       "      <td>10578244000371</td>\n",
       "      <td>1242</td>\n",
       "    </tr>\n",
       "    <tr>\n",
       "      <th>17</th>\n",
       "      <td>2014-09-25</td>\n",
       "      <td>8995681000187</td>\n",
       "      <td>1243</td>\n",
       "    </tr>\n",
       "    <tr>\n",
       "      <th>18</th>\n",
       "      <td>2014-09-25</td>\n",
       "      <td>8995681000187</td>\n",
       "      <td>1244</td>\n",
       "    </tr>\n",
       "    <tr>\n",
       "      <th>19</th>\n",
       "      <td>2014-09-25</td>\n",
       "      <td>12968606000102</td>\n",
       "      <td>1245</td>\n",
       "    </tr>\n",
       "  </tbody>\n",
       "</table>\n",
       "</div>"
      ],
      "text/plain": [
       "          data            CNPJ    NF\n",
       "0   2014-08-29  27833615002018     4\n",
       "1   2014-08-29   9309021000168     5\n",
       "2   2014-08-29   9309021000168     6\n",
       "3   2014-08-29   9309021000168     7\n",
       "4   2014-08-29   9309021000168     8\n",
       "5   2014-08-29   9309021000168     9\n",
       "6   2014-08-29   9309021000168    10\n",
       "7   2014-09-09   8878246000172    12\n",
       "8   2014-09-09   8878246000172    14\n",
       "9   2014-09-09   8878246000172    15\n",
       "10  2014-09-09   9309021000168    16\n",
       "11  2014-09-09   8878246000172    17\n",
       "12  2014-09-09  14326580000116    18\n",
       "13  2014-09-09  14326580000116    19\n",
       "14  2014-09-09   3182724000191    20\n",
       "15  2014-09-25  11699310000162  1241\n",
       "16  2014-09-25  10578244000371  1242\n",
       "17  2014-09-25   8995681000187  1243\n",
       "18  2014-09-25   8995681000187  1244\n",
       "19  2014-09-25  12968606000102  1245"
      ]
     },
     "execution_count": 68,
     "metadata": {},
     "output_type": "execute_result"
    }
   ],
   "source": [
    "#dados =  df['data','CNPJ','NF']       \n",
    "#dados = df['data','CNPJ']\n",
    "#df.groupby(['CNPJ','preco'])['prNFcidade']]\n",
    "lista = df[['data','CNPJ','NF']].drop_duplicates().reset_index(drop=True)\n",
    "lista.head(20)"
   ]
  },
  {
   "cell_type": "code",
   "execution_count": 38,
   "metadata": {},
   "outputs": [
    {
     "data": {
      "text/plain": [
       "data     CNPJ          \n",
       "2014-08  9309021000168     10\n",
       "         27833615002018     1\n",
       "2014-09  803210000118      12\n",
       "         3182724000191     12\n",
       "         3494756000122      4\n",
       "         4974643000197     12\n",
       "         6790215000130     17\n",
       "         8109307000137     39\n",
       "         8878246000172     41\n",
       "         8995681000187     19\n",
       "         9309021000168      1\n",
       "         10578244000371    40\n",
       "         11699310000162    23\n",
       "         12968606000102    19\n",
       "         14326580000116    30\n",
       "         27654565000149    41\n",
       "         27833615001208    29\n",
       "         27833615002107    20\n",
       "         27833615002522    42\n",
       "         32018491000194     6\n",
       "2014-10  1829249000177     15\n",
       "         4129887000173     24\n",
       "         4904985000130     27\n",
       "         5054332000172     52\n",
       "         5256321000175     40\n",
       "         5565335000170     51\n",
       "         5787892000136     40\n",
       "         7414757000170     36\n",
       "         7532975000100     15\n",
       "         7577743000178     43\n",
       "                           ..\n",
       "2018-02  27456707000163    59\n",
       "         27603931000130     7\n",
       "         27833615001208    30\n",
       "         27833615001550     6\n",
       "         27833615001631     7\n",
       "         27833615001712    21\n",
       "         27833615001801    49\n",
       "         27833615001984    27\n",
       "         27833615002018    30\n",
       "         27833615002603    52\n",
       "         27833615002875    12\n",
       "         27833615003251    31\n",
       "         27849764000102    40\n",
       "         28076453000110    41\n",
       "         28452026000190    30\n",
       "         28504271000101     4\n",
       "         28514600000197    13\n",
       "         28581627000100     5\n",
       "         29080813000110     3\n",
       "         29080946000197     4\n",
       "         29081029000127     4\n",
       "         29618089000306     2\n",
       "         31503576000103    65\n",
       "         32120263000120    49\n",
       "         32336794000317    32\n",
       "         36398790000152    14\n",
       "         36472215000152    12\n",
       "         39508023000228    45\n",
       "         40169278000101    63\n",
       "         68726017000164     4\n",
       "Name: CNPJ, Length: 5049, dtype: int64"
      ]
     },
     "execution_count": 38,
     "metadata": {},
     "output_type": "execute_result"
    }
   ],
   "source": [
    "#dados = df['CNPJ'].size() df['data'].str[0:7]\n",
    "dados = df.groupby([df['data'].str[0:7], 'CNPJ']).CNPJ.count()\n",
    "dados"
   ]
  },
  {
   "cell_type": "code",
   "execution_count": 34,
   "metadata": {},
   "outputs": [
    {
     "data": {
      "text/plain": [
       "CNPJ\n",
       "175479000105       394\n",
       "334392000206         9\n",
       "381613000116        86\n",
       "803210000118       171\n",
       "814123000166        56\n",
       "834279000109       114\n",
       "834279000290       118\n",
       "1006952000185       52\n",
       "1015564000160       57\n",
       "1023162000108        4\n",
       "1190829000167      485\n",
       "1190829000248       13\n",
       "1235391000196       33\n",
       "1254351000272       53\n",
       "1257874000191        9\n",
       "1442299000105       48\n",
       "1446960000142     1423\n",
       "1448324000150      154\n",
       "1466610000148       19\n",
       "1704374000150       10\n",
       "1829249000177       51\n",
       "1841072000124       53\n",
       "1848448000122        6\n",
       "1872160000193        8\n",
       "2068929000188      571\n",
       "2075715000139        4\n",
       "2084223000100       76\n",
       "2101672000119        1\n",
       "2165530000115       31\n",
       "2275470000193        2\n",
       "                  ... \n",
       "39281142000100       5\n",
       "39345244000141       4\n",
       "39361142000110       8\n",
       "39379011000160       9\n",
       "39508023000228    2132\n",
       "39508023000813       4\n",
       "39621479000208     137\n",
       "39638580000182      11\n",
       "39690284000120      99\n",
       "39703863000403     418\n",
       "39707427000160     854\n",
       "39790191000259       6\n",
       "39792205000192       2\n",
       "39818919000122      52\n",
       "40169278000101    2043\n",
       "40404683000167     117\n",
       "42294744000106       1\n",
       "42379339000190       4\n",
       "62379037000391       1\n",
       "66212721000173      19\n",
       "68641935000190      23\n",
       "68726017000164      20\n",
       "69018190000170       1\n",
       "72155534000106       5\n",
       "72392434000195    1240\n",
       "73237570000173     140\n",
       "73915597000178     287\n",
       "73915597000259    1015\n",
       "74048224000100      84\n",
       "74126707000185      30\n",
       "Name: data, Length: 674, dtype: int64"
      ]
     },
     "execution_count": 34,
     "metadata": {},
     "output_type": "execute_result"
    }
   ],
   "source": [
    "dados"
   ]
  },
  {
   "cell_type": "markdown",
   "metadata": {},
   "source": [
    "# Total de compras por Cliente"
   ]
  },
  {
   "cell_type": "code",
   "execution_count": null,
   "metadata": {
    "collapsed": true
   },
   "outputs": [],
   "source": [
    "#compraDeClientes = df[['CNPJ','preco']].groupby([df['CNPJ']]).sum().reset_index()\n",
    "compraDeClientes = df[['preco']].groupby([df['CNPJ']]).sum()\n",
    "compraDeClientes.head()"
   ]
  },
  {
   "cell_type": "code",
   "execution_count": null,
   "metadata": {
    "collapsed": true
   },
   "outputs": [],
   "source": [
    "compras = compraDeClientes.reset_index(drop=False)\n"
   ]
  },
  {
   "cell_type": "code",
   "execution_count": null,
   "metadata": {
    "collapsed": true
   },
   "outputs": [],
   "source": [
    "compras = compras.rename(index=str, columns={\"CNPJ\": \"CNPJ\", \"preco\": \"Valor\"})"
   ]
  },
  {
   "cell_type": "code",
   "execution_count": null,
   "metadata": {
    "collapsed": true
   },
   "outputs": [],
   "source": [
    "compras.head()"
   ]
  },
  {
   "cell_type": "code",
   "execution_count": null,
   "metadata": {
    "collapsed": true
   },
   "outputs": [],
   "source": [
    "compras = compras.sort_values(by=['Valor'],ascending=False, na_position='first').reset_index(drop=True)"
   ]
  },
  {
   "cell_type": "code",
   "execution_count": null,
   "metadata": {
    "collapsed": true
   },
   "outputs": [],
   "source": [
    "compras.head()"
   ]
  },
  {
   "cell_type": "code",
   "execution_count": null,
   "metadata": {
    "collapsed": true
   },
   "outputs": [],
   "source": [
    "x= 474946/Faturamento"
   ]
  },
  {
   "cell_type": "code",
   "execution_count": null,
   "metadata": {
    "collapsed": true
   },
   "outputs": [],
   "source": [
    "compras.drop('xCompras')"
   ]
  },
  {
   "cell_type": "code",
   "execution_count": null,
   "metadata": {
    "collapsed": true
   },
   "outputs": [],
   "source": [
    "compras['% Total']=(compras['Valor']/Faturamento)*100"
   ]
  },
  {
   "cell_type": "code",
   "execution_count": null,
   "metadata": {
    "collapsed": true
   },
   "outputs": [],
   "source": [
    "compras.head()"
   ]
  },
  {
   "cell_type": "code",
   "execution_count": null,
   "metadata": {
    "collapsed": true
   },
   "outputs": [],
   "source": [
    "t = df.groupby('NF')[\"preco\"].sum().rename(\"Total_NF\").reset_index()"
   ]
  },
  {
   "cell_type": "code",
   "execution_count": null,
   "metadata": {
    "collapsed": true
   },
   "outputs": [],
   "source": [
    "tnf= len(t)"
   ]
  },
  {
   "cell_type": "code",
   "execution_count": null,
   "metadata": {
    "collapsed": true
   },
   "outputs": [],
   "source": [
    "tnf"
   ]
  },
  {
   "cell_type": "code",
   "execution_count": null,
   "metadata": {
    "collapsed": true
   },
   "outputs": [],
   "source": [
    "# Quantidade de Compras\n",
    "qtyDeCompras = df[['NF']].groupby([df['CNPJ']]).size().rename('total').reset_index()"
   ]
  },
  {
   "cell_type": "code",
   "execution_count": null,
   "metadata": {
    "collapsed": true
   },
   "outputs": [],
   "source": [
    "qtyDeCompras.head()"
   ]
  },
  {
   "cell_type": "code",
   "execution_count": null,
   "metadata": {
    "collapsed": true
   },
   "outputs": [],
   "source": [
    "qtyDeCompras['frequencia']=(qtyDeCompras['total']/tnf)*100"
   ]
  },
  {
   "cell_type": "code",
   "execution_count": null,
   "metadata": {
    "collapsed": true
   },
   "outputs": [],
   "source": [
    "qtyDeCompras = qtyDeCompras.sort_values(by=['frequencia'],ascending=False, na_position='first').reset_index(drop=True)"
   ]
  },
  {
   "cell_type": "code",
   "execution_count": null,
   "metadata": {
    "collapsed": true
   },
   "outputs": [],
   "source": [
    "qtyDeCompras.head()"
   ]
  },
  {
   "cell_type": "code",
   "execution_count": null,
   "metadata": {
    "collapsed": true
   },
   "outputs": [],
   "source": [
    "# Convertendo de Série p/ dataframe\n",
    "#yCompras = qtyDeCompras.to_frame().reset_index()"
   ]
  },
  {
   "cell_type": "code",
   "execution_count": null,
   "metadata": {
    "collapsed": true
   },
   "outputs": [],
   "source": [
    "# Faz o MERGE dos dois Datasets\n",
    "s1 = pd.merge(compras, qtyDeCompras, how='inner', on=['CNPJ'])"
   ]
  },
  {
   "cell_type": "code",
   "execution_count": null,
   "metadata": {
    "collapsed": true
   },
   "outputs": [],
   "source": [
    "s1.head()"
   ]
  },
  {
   "cell_type": "code",
   "execution_count": null,
   "metadata": {
    "collapsed": true
   },
   "outputs": [],
   "source": [
    "\n",
    "type(s1.xCompras)"
   ]
  },
  {
   "cell_type": "code",
   "execution_count": null,
   "metadata": {
    "collapsed": true
   },
   "outputs": [],
   "source": [
    "import matplotlib.pyplot as plt\n",
    "plt.plot(s1.xCompras, s1.frequencia, 'ro')\n",
    "#plt.axis([0, 6, 0, 20])\n",
    "plt.show()"
   ]
  },
  {
   "cell_type": "markdown",
   "metadata": {
    "collapsed": true
   },
   "source": [
    "# Numero de Clientes comprando por Mês"
   ]
  },
  {
   "cell_type": "code",
   "execution_count": null,
   "metadata": {
    "collapsed": true
   },
   "outputs": [],
   "source": [
    "dados = df.groupby([df['data'].str[0:7],df['CNPJ']]).size()"
   ]
  },
  {
   "cell_type": "code",
   "execution_count": null,
   "metadata": {
    "collapsed": true
   },
   "outputs": [],
   "source": [
    "dados.head()"
   ]
  },
  {
   "cell_type": "code",
   "execution_count": null,
   "metadata": {
    "collapsed": true
   },
   "outputs": [],
   "source": [
    "# Convertendo de Série p/ dataframe\n",
    "d = dados.to_frame().reset_index()\n"
   ]
  },
  {
   "cell_type": "code",
   "execution_count": null,
   "metadata": {
    "collapsed": true
   },
   "outputs": [],
   "source": [
    "# Número de Clientes por Mês\n",
    "numClientes = d.groupby('data').size()\n",
    "numClientes.head()"
   ]
  },
  {
   "cell_type": "code",
   "execution_count": null,
   "metadata": {
    "collapsed": true
   },
   "outputs": [],
   "source": [
    "# Número médio de Clientes\n",
    "a=(numClientes.mean())"
   ]
  },
  {
   "cell_type": "code",
   "execution_count": null,
   "metadata": {
    "collapsed": true
   },
   "outputs": [],
   "source": [
    "int(a)"
   ]
  },
  {
   "cell_type": "code",
   "execution_count": null,
   "metadata": {
    "collapsed": true
   },
   "outputs": [],
   "source": [
    "numC = numClientes.plot( x=numClientes, stacked=True, kind='bar', figsize=(20,7), rot=90, legend=False, facecolor='#AA0000')\n",
    "\n",
    "numC.set_xlabel('Mês')\n",
    "numC.set_ylabel('Número de Clientes')\n",
    "numC.set_title('Clientes Ativos')\n",
    "numC.axhline( y=a, color='g', linestyle='--', lw=2, label='Valor Médio')"
   ]
  },
  {
   "cell_type": "code",
   "execution_count": null,
   "metadata": {
    "collapsed": true
   },
   "outputs": [],
   "source": []
  }
 ],
 "metadata": {
  "kernelspec": {
   "display_name": "Python 3",
   "language": "python",
   "name": "python3"
  },
  "language_info": {
   "codemirror_mode": {
    "name": "ipython",
    "version": 3
   },
   "file_extension": ".py",
   "mimetype": "text/x-python",
   "name": "python",
   "nbconvert_exporter": "python",
   "pygments_lexer": "ipython3",
   "version": "3.6.2"
  }
 },
 "nbformat": 4,
 "nbformat_minor": 1
}
