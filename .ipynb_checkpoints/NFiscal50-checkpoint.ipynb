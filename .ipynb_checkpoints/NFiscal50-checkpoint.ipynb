{
 "cells": [
  {
   "cell_type": "code",
   "execution_count": null,
   "metadata": {
    "collapsed": true
   },
   "outputs": [],
   "source": []
  },
  {
   "cell_type": "code",
   "execution_count": 22,
   "metadata": {
    "collapsed": true
   },
   "outputs": [],
   "source": [
    "from nfelib.v3_10 import leiauteNFe as leiauteNFe3\n",
    "from pymongo import MongoClient\n",
    "import shutil\n",
    "\n",
    "client = MongoClient('localhost', 27017)\n",
    "db = client.supra\n",
    "collection = db.notafiscal\n",
    "coll = db.nferradas\n",
    "\n",
    "from lxml import etree\n",
    "import tempfile\n",
    "import os, shutil\n",
    "os.chdir('C:\\\\\\\\Mettricx\\\\Projetos\\\\\\\\SupraAlimentos\\\\\\\\bkp_xml')"
   ]
  },
  {
   "cell_type": "code",
   "execution_count": null,
   "metadata": {
    "collapsed": true
   },
   "outputs": [],
   "source": [
    "k=0\n",
    "gravados=0\n",
    "files = os.listdir()\n",
    "for x in files:\n",
    "    "
   ]
  },
  {
   "cell_type": "code",
   "execution_count": 23,
   "metadata": {
    "collapsed": true
   },
   "outputs": [],
   "source": [
    "tree = etree.parse(\"33140817339293000139550010000000041000000049-NFe.xml\")\n",
    "root = tree.getroot()"
   ]
  },
  {
   "cell_type": "code",
   "execution_count": 24,
   "metadata": {},
   "outputs": [
    {
     "data": {
      "text/plain": [
       "'{http://www.portalfiscal.inf.br/nfe}nfeProc'"
      ]
     },
     "execution_count": 24,
     "metadata": {},
     "output_type": "execute_result"
    }
   ],
   "source": [
    "root.tag\n",
    "#files=\"33170917339293000139550010000068501000068509-nfe.xml\""
   ]
  },
  {
   "cell_type": "code",
   "execution_count": 25,
   "metadata": {
    "collapsed": true
   },
   "outputs": [],
   "source": [
    "# Le a Nota Fiscal\n",
    "new_file, filename = tempfile.mkstemp()\n",
    "subtree = etree.ElementTree(root[0]) \n",
    "subtree.write(filename, encoding='utf-8')"
   ]
  },
  {
   "cell_type": "code",
   "execution_count": 26,
   "metadata": {},
   "outputs": [
    {
     "name": "stdout",
     "output_type": "stream",
     "text": [
      "<?xml version=\"1.0\" ?>\n",
      "<NFe>\n",
      "    <infNFe versao=\"3.10\" Id=\"NFe33140817339293000139550010000000041000000049\">\n",
      "        <ide>\n",
      "            <cUF>33</cUF>\n",
      "            <cNF>00000004</cNF>\n",
      "            <natOp>VENDA PROD EST OP PROD SUB TRIB CONT</natOp>\n",
      "            <indPag>0</indPag>\n",
      "            <mod>55</mod>\n",
      "            <serie>1</serie>\n",
      "            <nNF>4</nNF>\n",
      "            <dhEmi>2014-08-29T00:00:00-03:00</dhEmi>\n",
      "            <dhSaiEnt>2014-08-30T00:00:00-03:00</dhSaiEnt>\n",
      "            <tpNF>1</tpNF>\n",
      "            <idDest>1</idDest>\n",
      "            <cMunFG>3305505</cMunFG>\n",
      "            <tpImp>1</tpImp>\n",
      "            <tpEmis>1</tpEmis>\n",
      "            <cDV>9</cDV>\n",
      "            <tpAmb>2</tpAmb>\n",
      "            <finNFe>1</finNFe>\n",
      "            <indFinal>0</indFinal>\n",
      "            <indPres>0</indPres>\n",
      "            <procEmi>0</procEmi>\n",
      "            <verProc>3.1.30.9</verProc>\n",
      "        </ide>\n",
      "        <emit>\n",
      "            <CNPJ>17339293000139</CNPJ>\n",
      "            <xNome>ATRIOS ALIMENTOS LTDA EPP</xNome>\n",
      "            <xFant>SUPRA ALIMENTOS</xFant>\n",
      "            <enderEmit>\n",
      "                <xLgr>ROD AMARAL PEIXOTO</xLgr>\n",
      "                <nro>S/N</nro>\n",
      "                <xCpl>KM79</xCpl>\n",
      "                <xBairro>BONSUCESSO</xBairro>\n",
      "                <cMun>3305505</cMun>\n",
      "                <xMun>SAQUAREMA</xMun>\n",
      "                <UF>RJ</UF>\n",
      "                <CEP>28990000</CEP>\n",
      "                <cPais>1058</cPais>\n",
      "                <xPais>BRASIL</xPais>\n",
      "            </enderEmit>\n",
      "            <IE>79829013</IE>\n",
      "            <CRT>3</CRT>\n",
      "        </emit>\n",
      "        <dest>\n",
      "            <CNPJ>27833615002018</CNPJ>\n",
      "            <xNome>NF-E EMITIDA EM AMBIENTE DE HOMOLOGACAO - SEM VALOR FISCAL</xNome>\n",
      "            <enderDest>\n",
      "                <xLgr>RODOVIA AMARAL PEIXOTO</xLgr>\n",
      "                <nro>903</nro>\n",
      "                <xCpl>911</xCpl>\n",
      "                <xBairro>CASIMIRO DE ABREU</xBairro>\n",
      "                <cMun>3304557</cMun>\n",
      "                <xMun>RIO DE JANEIRO</xMun>\n",
      "                <UF>RJ</UF>\n",
      "                <CEP>28860000</CEP>\n",
      "                <cPais>1058</cPais>\n",
      "                <xPais>BRASIL</xPais>\n",
      "                <fone>2227745179</fone>\n",
      "            </enderDest>\n",
      "            <indIEDest>1</indIEDest>\n",
      "            <IE>77849629</IE>\n",
      "        </dest>\n",
      "        <det nItem=\"1\">\n",
      "            <prod>\n",
      "                <cProd>02.0002</cProd>\n",
      "                <cEAN></cEAN>\n",
      "                <xProd>ALHO CEBOLA PICADINHO S/SAL 180GR</xProd>\n",
      "                <NCM>07129090</NCM>\n",
      "                <CFOP>5401</CFOP>\n",
      "                <uCom>UN</uCom>\n",
      "                <qCom>1.0000</qCom>\n",
      "                <vUnCom>2.7700000000</vUnCom>\n",
      "                <vProd>2.77</vProd>\n",
      "                <cEANTrib></cEANTrib>\n",
      "                <uTrib>UN</uTrib>\n",
      "                <qTrib>1.0000</qTrib>\n",
      "                <vUnTrib>2.7700000000</vUnTrib>\n",
      "                <indTot>1</indTot>\n",
      "            </prod>\n",
      "            <imposto>\n",
      "                <ICMS>\n",
      "                    <ICMS00>\n",
      "                        <orig>0</orig>\n",
      "                        <CST>00</CST>\n",
      "                        <modBC>0</modBC>\n",
      "                        <vBC>0.00</vBC>\n",
      "                        <pICMS>0.0000</pICMS>\n",
      "                        <vICMS>0.00</vICMS>\n",
      "                    </ICMS00>\n",
      "                </ICMS>\n",
      "                <PIS>\n",
      "                    <PISAliq>\n",
      "                        <CST>01</CST>\n",
      "                        <vBC>0.00</vBC>\n",
      "                        <pPIS>0.6500</pPIS>\n",
      "                        <vPIS>0.02</vPIS>\n",
      "                    </PISAliq>\n",
      "                </PIS>\n",
      "                <COFINS>\n",
      "                    <COFINSAliq>\n",
      "                        <CST>02</CST>\n",
      "                        <vBC>0.00</vBC>\n",
      "                        <pCOFINS>3.0000</pCOFINS>\n",
      "                        <vCOFINS>0.08</vCOFINS>\n",
      "                    </COFINSAliq>\n",
      "                </COFINS>\n",
      "            </imposto>\n",
      "        </det>\n",
      "        <total>\n",
      "            <ICMSTot>\n",
      "                <vBC>0.00</vBC>\n",
      "                <vICMS>0.00</vICMS>\n",
      "                <vICMSDeson>0.00</vICMSDeson>\n",
      "                <vBCST>0.00</vBCST>\n",
      "                <vST>0.00</vST>\n",
      "                <vProd>2.77</vProd>\n",
      "                <vFrete>0.00</vFrete>\n",
      "                <vSeg>0.00</vSeg>\n",
      "                <vDesc>0.00</vDesc>\n",
      "                <vII>0.00</vII>\n",
      "                <vIPI>0.00</vIPI>\n",
      "                <vPIS>0.02</vPIS>\n",
      "                <vCOFINS>0.08</vCOFINS>\n",
      "                <vOutro>0.00</vOutro>\n",
      "                <vNF>2.77</vNF>\n",
      "            </ICMSTot>\n",
      "        </total>\n",
      "        <transp>\n",
      "            <modFrete>0</modFrete>\n",
      "            <vol>\n",
      "                <qVol>1</qVol>\n",
      "                <pesoL>0.180</pesoL>\n",
      "                <pesoB>0.190</pesoB>\n",
      "            </vol>\n",
      "        </transp>\n",
      "        <infAdic>\n",
      "            <infCpl>Valor aproximado tributos R$0,00 (0,00 %) Fonte: IBPT</infCpl>\n",
      "        </infAdic>\n",
      "    </infNFe>\n",
      "    <ds:Signature  xmlns:ds=\"http://www.w3.org/2000/09/xmldsig#\" >\n",
      "        <SignedInfo  xmlns:ds=\"http://www.w3.org/2000/09/xmldsig#\" >\n",
      "            <CanonicalizationMethod Algorithm=\"http://www.w3.org/TR/2001/REC-xml-c14n-20010315\"/>\n",
      "            <SignatureMethod Algorithm=\"http://www.w3.org/2000/09/xmldsig#rsa-sha1\"/>\n",
      "            <Reference  xmlns:ds=\"http://www.w3.org/2000/09/xmldsig#\"  URI=\"#NFe33140817339293000139550010000000041000000049\">\n",
      "                <Transforms  xmlns:ds=\"http://www.w3.org/2000/09/xmldsig#\" >\n",
      "                    <Transform Algorithm=\"http://www.w3.org/2000/09/xmldsig#enveloped-signature\"/>\n",
      "                    <Transform Algorithm=\"http://www.w3.org/TR/2001/REC-xml-c14n-20010315\"/>\n",
      "                </Transforms>\n",
      "                <DigestMethod Algorithm=\"http://www.w3.org/2000/09/xmldsig#sha1\"/>\n",
      "                <DigestValue>b'v7L1nUmgqtpH9g3BM27dtVvMpUU='</DigestValue>\n",
      "            </Reference>\n",
      "        </SignedInfo>\n",
      "        <SignatureValue>YWd9zE6ph17YsZKKltOQYVoLfiTO2EvHfIF2gTcATEcFnEVYGDn/+YrNYu7gq90oaz2VQPU0WKJEGP5279Y+gVNaaHF+4kwIbO87009dz2iTYx3iYeUS+Tk+sTeHY84gcWoxN+0VCfTmuFx3KXQtg4QyYZFU63elVNZOr0ZqdLn103QbkJvbX5xwsspekY9Xm7FVt8m0SSDX7t91EEDlxVwLjpghjcrD2YglVRwmcYjZpBvLFgtkIDeEF7mLHVRm4rkEhf4KSSsy6xgw+TLlZhfpOnYigZOr2iJhZnE0Co5ugagupJfXSpiLpc4EeIsVGdR+mEU2vZZfwNoAzAHOpw==</SignatureValue>\n",
      "        <KeyInfo  xmlns:ds=\"http://www.w3.org/2000/09/xmldsig#\" >\n",
      "            <X509Data>\n",
      "                <X509Certificate>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</X509Certificate>\n",
      "            </X509Data>\n",
      "        </KeyInfo>\n",
      "    </ds:Signature>\n",
      "</NFe>\n"
     ]
    },
    {
     "name": "stderr",
     "output_type": "stream",
     "text": [
      "C:\\Users\\leona\\Anaconda3\\lib\\site-packages\\nfelib\\v3_10\\leiauteNFe.py:7088: UserWarning: Value \"b'2014-08-29T00:00:00-03:00'\" does not match xsd pattern restrictions: [['^(((20(([02468][048])$|^([13579][26]))-02-29))$|^(20[0-9][0-9])-((((0[1-9])$|^(1[0-2]))-((0[1-9])$|^(1\\\\d)$|^(2[0-8])))$|^((((0[13578])$|^(1[02]))-31)$|^(((0[1,3-9])$|^(1[0-2]))-(29$|^30)))))T(20$|^21$|^22$|^23$|^[0-1]\\\\d):[0-5]\\\\d:[0-5]\\\\d([\\\\-,\\\\+](0[0-9]$|^10$|^11):00$|^([\\\\+](12):00))$']]\n",
      "  (value.encode('utf-8'), self.validate_TDateTimeUTC_patterns_, ))\n",
      "C:\\Users\\leona\\Anaconda3\\lib\\site-packages\\nfelib\\v3_10\\leiauteNFe.py:7088: UserWarning: Value \"b'2014-08-30T00:00:00-03:00'\" does not match xsd pattern restrictions: [['^(((20(([02468][048])$|^([13579][26]))-02-29))$|^(20[0-9][0-9])-((((0[1-9])$|^(1[0-2]))-((0[1-9])$|^(1\\\\d)$|^(2[0-8])))$|^((((0[13578])$|^(1[02]))-31)$|^(((0[1,3-9])$|^(1[0-2]))-(29$|^30)))))T(20$|^21$|^22$|^23$|^[0-1]\\\\d):[0-5]\\\\d:[0-5]\\\\d([\\\\-,\\\\+](0[0-9]$|^10$|^11):00$|^([\\\\+](12):00))$']]\n",
      "  (value.encode('utf-8'), self.validate_TDateTimeUTC_patterns_, ))\n"
     ]
    }
   ],
   "source": [
    "   \n",
    "if  root.tag != '{http://www.portalfiscal.inf.br/nfe}NFe':\n",
    "            #natOper  = root.find('{http://www.portalfiscal.inf.br/nfe}nfeProc/{http://www.portalfiscal.inf.br/nfe}infNFe/{http://www.portalfiscal.inf.br/nfe}ide/{http://www.portalfiscal.inf.br/nfe}natOp')\n",
    "            #print(files[k],k)\n",
    "            #print(\\\"Tag NFe:\\\",root.tag)\n",
    "            #NFe.append(files[k])\n",
    "            new_file, filename = tempfile.mkstemp()\n",
    "            subtree = etree.ElementTree(root[0]) \n",
    "            subtree.write(filename, encoding='utf-8')\n",
    "            nota = leiauteNFe3.parse(filename)\n"
   ]
  },
  {
   "cell_type": "code",
   "execution_count": 27,
   "metadata": {},
   "outputs": [
    {
     "name": "stdout",
     "output_type": "stream",
     "text": [
      "VENDA PROD EST OP PROD SUB TRIB CONT\n"
     ]
    }
   ],
   "source": [
    "xNota = nota.get_infNFe()\n",
    "x=xNota.get_ide()\n",
    "print(x.get_natOp())"
   ]
  },
  {
   "cell_type": "code",
   "execution_count": 28,
   "metadata": {
    "collapsed": true
   },
   "outputs": [],
   "source": [
    "nt = xNota.get_ide()"
   ]
  },
  {
   "cell_type": "code",
   "execution_count": 29,
   "metadata": {
    "collapsed": true
   },
   "outputs": [],
   "source": [
    "xNum  = nt.get_nNF()\n",
    "xData = nt.get_dhEmi()"
   ]
  },
  {
   "cell_type": "code",
   "execution_count": 30,
   "metadata": {},
   "outputs": [
    {
     "name": "stdout",
     "output_type": "stream",
     "text": [
      "4 2014-08-29\n"
     ]
    }
   ],
   "source": [
    "print(xNum, xData[:10])"
   ]
  },
  {
   "cell_type": "markdown",
   "metadata": {},
   "source": [
    "# Processa Destinatário"
   ]
  },
  {
   "cell_type": "code",
   "execution_count": 31,
   "metadata": {
    "collapsed": true
   },
   "outputs": [],
   "source": [
    "destino = nota.get_infNFe().get_dest()"
   ]
  },
  {
   "cell_type": "code",
   "execution_count": 32,
   "metadata": {},
   "outputs": [
    {
     "name": "stdout",
     "output_type": "stream",
     "text": [
      "NF-E EMITIDA EM AMBIENTE DE HOMOLOGACAO - SEM VALOR FISCAL\n",
      "27833615002018\n",
      "RODOVIA AMARAL PEIXOTO\n",
      "RIO DE JANEIRO\n",
      "CASIMIRO DE ABREU\n",
      "RJ\n"
     ]
    }
   ],
   "source": [
    "destNome = destino.get_xNome()\n",
    "print(destNome)\n",
    "\n",
    "destCNPJ = destino.CNPJ\n",
    "print(destCNPJ)\n",
    "\n",
    "destEndereco =destino.get_enderDest()\n",
    "print(destEndereco.xLgr)\n",
    "\n",
    "destCidade=destino.enderDest.get_xMun()\n",
    "print(destCidade)\n",
    "\n",
    "destBairro = destino.enderDest.get_xBairro()\n",
    "print(destBairro)\n",
    "\n",
    "destEstado = destino.enderDest.get_UF()\n",
    "print(destEstado)"
   ]
  },
  {
   "cell_type": "markdown",
   "metadata": {},
   "source": [
    "# Processa os itens da NF"
   ]
  },
  {
   "cell_type": "code",
   "execution_count": 33,
   "metadata": {
    "collapsed": true
   },
   "outputs": [],
   "source": [
    "produtos = nota.get_infNFe().get_det()"
   ]
  },
  {
   "cell_type": "code",
   "execution_count": 34,
   "metadata": {},
   "outputs": [
    {
     "data": {
      "text/plain": [
       "1"
      ]
     },
     "execution_count": 34,
     "metadata": {},
     "output_type": "execute_result"
    }
   ],
   "source": [
    "# Num. de itens\n",
    "len(produtos)"
   ]
  },
  {
   "cell_type": "code",
   "execution_count": 35,
   "metadata": {},
   "outputs": [
    {
     "name": "stdout",
     "output_type": "stream",
     "text": [
      "1\n"
     ]
    }
   ],
   "source": [
    "i=0\n",
    "item={}\n",
    "j=1\n",
    "for k in produtos:\n",
    "    \n",
    "    p = produtos[i]\n",
    "    xProd = p.get_prod().get_xProd()  # Nome do Produto\n",
    "    xCod  = p.get_prod().get_cProd()  # Codigo\n",
    "    xQty  = p.get_prod().get_qCom()   # Quantidade\n",
    "    xUnid = p.get_prod().get_uCom()   # Unidade\n",
    "    xPreco= p.get_prod().get_vProd()  # Preco\n",
    "    item.update( { str(j): {\"codigo\":xCod,\"produto\":xProd,\"qty\":xQty,\"unidade\":xUnid,\"preco\":xPreco}})    \n",
    "    i += 1\n",
    "    j += 1\n",
    "print(i)"
   ]
  },
  {
   "cell_type": "code",
   "execution_count": 36,
   "metadata": {
    "collapsed": true
   },
   "outputs": [],
   "source": [
    "total = nota.get_infNFe()"
   ]
  },
  {
   "cell_type": "code",
   "execution_count": 37,
   "metadata": {
    "collapsed": true
   },
   "outputs": [],
   "source": [
    "valor = total.get_total()"
   ]
  },
  {
   "cell_type": "code",
   "execution_count": 38,
   "metadata": {},
   "outputs": [
    {
     "name": "stdout",
     "output_type": "stream",
     "text": [
      "2.77\n"
     ]
    }
   ],
   "source": [
    "xValor = valor.ICMSTot.get_vProd()\n",
    "print(xValor)"
   ]
  },
  {
   "cell_type": "code",
   "execution_count": 39,
   "metadata": {
    "collapsed": true
   },
   "outputs": [],
   "source": [
    "nota_fiscal = {\n",
    "            \"numNFE\":xNum,\n",
    "            \"data\":xData[:10],\n",
    "            \"valorTotal\":int(float(xValor)),\n",
    "            \"Cliente\":destNome,\n",
    "            \"CNPJ\":destCNPJ,\n",
    "            \"bairro\":destBairro,\n",
    "            \"Munucipio\":destCidade,\n",
    "            \"UF\":destEstado,\n",
    "            \"item\":item}"
   ]
  },
  {
   "cell_type": "code",
   "execution_count": 40,
   "metadata": {},
   "outputs": [
    {
     "data": {
      "text/plain": [
       "<pymongo.results.InsertOneResult at 0x215962f2e08>"
      ]
     },
     "execution_count": 40,
     "metadata": {},
     "output_type": "execute_result"
    }
   ],
   "source": [
    "collection.insert_one(nota_fiscal)"
   ]
  },
  {
   "cell_type": "code",
   "execution_count": 21,
   "metadata": {},
   "outputs": [
    {
     "name": "stdout",
     "output_type": "stream",
     "text": [
      "1 {'codigo': '01.0009', 'produto': 'CALDO DE CARNE COM ERVAS FINAS 60GR', 'qty': '12.0000', 'unidade': 'UN', 'preco': '16.57'}\n",
      "2 {'codigo': '01.0011', 'produto': 'CALDO DE PEIXE COM ERVAS FINAS 60GR', 'qty': '12.0000', 'unidade': 'UN', 'preco': '17.99'}\n",
      "3 {'codigo': '01.0010', 'produto': 'CALDO DE GALINHA COM ERVAS FINAS 60GR', 'qty': '12.0000', 'unidade': 'UN', 'preco': '16.57'}\n",
      "4 {'codigo': '01.0008', 'produto': 'CALDO DE CAMARAO COM ERVAS FINAS 60GR', 'qty': '12.0000', 'unidade': 'UN', 'preco': '17.99'}\n",
      "5 {'codigo': '01.0005', 'produto': 'BICABORNATO DE SODIO 30GR', 'qty': '12.0000', 'unidade': 'UN', 'preco': '9.24'}\n",
      "6 {'codigo': '01.0004', 'produto': 'ALHO FRITO 30GR', 'qty': '12.0000', 'unidade': 'UN', 'preco': '24.24'}\n",
      "7 {'codigo': '01.0037', 'produto': 'SALSA DESIDRATADA 20GR', 'qty': '12.0000', 'unidade': 'UN', 'preco': '21.72'}\n",
      "8 {'codigo': '01.0038', 'produto': 'TEMPERO COMPLETO COM ERVAS FINAS 60GR', 'qty': '12.0000', 'unidade': 'UN', 'preco': '17.33'}\n",
      "9 {'codigo': '01.0039', 'produto': 'TEMPERO BAIANO 20GR', 'qty': '12.0000', 'unidade': 'UN', 'preco': '16.44'}\n",
      "10 {'codigo': '01.0030', 'produto': 'OREGANO 5GR', 'qty': '36.0000', 'unidade': 'UN', 'preco': '28.44'}\n",
      "11 {'codigo': '01.0026', 'produto': 'LEMON PEPPER 20GR', 'qty': '12.0000', 'unidade': 'UN', 'preco': '17.40'}\n",
      "12 {'codigo': '01.0031', 'produto': 'OREGANO 20GR', 'qty': '36.0000', 'unidade': 'UN', 'preco': '69.12'}\n",
      "13 {'codigo': '01.0092', 'produto': 'COLORIFICO EXTRA 100GR FD 100 UNID', 'qty': '1.0000', 'unidade': 'FD', 'preco': '111.94'}\n",
      "14 {'codigo': '02.0048', 'produto': 'COLORIFICO EXTRA S/SAL 500GR FD 30 UNID', 'qty': '1.0000', 'unidade': 'FD', 'preco': '113.74'}\n",
      "15 {'codigo': '02.0044', 'produto': 'ALHO PICADINHO S/SAL 180GR CX 36 UNID', 'qty': '2.0000', 'unidade': 'CX', 'preco': '211.68'}\n",
      "16 {'codigo': '02.0034', 'produto': 'TEMPERO COMPLETO P/ CHURRASCO 500GR', 'qty': '12.0000', 'unidade': 'UN', 'preco': '25.24'}\n",
      "17 {'codigo': '02.0030', 'produto': 'REFOGA (SALSA/CEBOLINHA) 380GR', 'qty': '12.0000', 'unidade': 'UN', 'preco': '49.72'}\n",
      "18 {'codigo': '02.0028', 'produto': 'PASTA DE ALHO C/SAL 380GR', 'qty': '12.0000', 'unidade': 'UN', 'preco': '49.72'}\n",
      "19 {'codigo': '02.0001', 'produto': 'ALHO FRITO 100GR', 'qty': '12.0000', 'unidade': 'UN', 'preco': '53.52'}\n",
      "20 {'codigo': '02.0012', 'produto': 'EMPANA PRATICO CARNE 250GR', 'qty': '12.0000', 'unidade': 'UN', 'preco': '31.92'}\n",
      "21 {'codigo': '02.0013', 'produto': 'EMPANA PRATICO FRANGO 250GR', 'qty': '12.0000', 'unidade': 'UN', 'preco': '31.92'}\n",
      "22 {'codigo': '02.0014', 'produto': 'EMPANA PRATICO PEIXE 250GR', 'qty': '12.0000', 'unidade': 'UN', 'preco': '31.92'}\n",
      "23 {'codigo': '02.0019', 'produto': 'OREGANO 100GR', 'qty': '60.0000', 'unidade': 'UN', 'preco': '261.00'}\n",
      "24 {'codigo': '02.0021', 'produto': 'TEMPERO COMPLETO BACON C/PIMENTA 300GR', 'qty': '12.0000', 'unidade': 'UN', 'preco': '21.67'}\n",
      "25 {'codigo': '02.0031', 'produto': 'TEMPERO COMPLETO C/PASTA DE ALHO 380GR', 'qty': '12.0000', 'unidade': 'UN', 'preco': '49.72'}\n",
      "26 {'codigo': '02.0032', 'produto': 'SAL GROSSO C/ALHO 500GR', 'qty': '12.0000', 'unidade': 'UN', 'preco': '25.24'}\n",
      "27 {'codigo': '03.0050', 'produto': 'MOLHO DE INGLES 150ML CX 24 UNID', 'qty': '1.0000', 'unidade': 'CX', 'preco': '35.74'}\n",
      "28 {'codigo': '03.0001', 'produto': 'MOLHO DE ALHO C/ ERVAS FINAS 150ML', 'qty': '6.0000', 'unidade': 'UN', 'preco': '10.24'}\n",
      "29 {'codigo': '03.0007', 'produto': 'MOLHO DE PIMENTA 150ML', 'qty': '6.0000', 'unidade': 'UN', 'preco': '10.24'}\n",
      "30 {'codigo': '03.0006', 'produto': 'MOLHO DE PIMENTA CALABRESA 150ML', 'qty': '6.0000', 'unidade': 'UN', 'preco': '10.24'}\n",
      "31 {'codigo': '03.0004', 'produto': 'MOLHO DE ALHO 150ML', 'qty': '6.0000', 'unidade': 'UN', 'preco': '8.94'}\n",
      "32 {'codigo': '03.0002', 'produto': 'MOLHO ALHO C/PIMENTA 150ML', 'qty': '6.0000', 'unidade': 'UN', 'preco': '10.24'}\n",
      "33 {'codigo': '04.0008', 'produto': 'PIMENTA MALAGUETA CURTIDA 180GR', 'qty': '6.0000', 'unidade': 'UN', 'preco': '38.09'}\n",
      "34 {'codigo': '04.0005', 'produto': 'PIMENTA BIQUINHO 150GR', 'qty': '6.0000', 'unidade': 'UN', 'preco': '31.78'}\n",
      "35 {'codigo': '04.0004', 'produto': 'MIX DE PIMENTAS 170GR', 'qty': '6.0000', 'unidade': 'UN', 'preco': '32.00'}\n",
      "36 {'codigo': '01.0107', 'produto': 'HORTELA 6G', 'qty': '6.0000', 'unidade': 'UN', 'preco': '6.30'}\n"
     ]
    }
   ],
   "source": [
    "for k,v in item.items():\n",
    "    print(k,v)"
   ]
  },
  {
   "cell_type": "code",
   "execution_count": null,
   "metadata": {
    "collapsed": true
   },
   "outputs": [],
   "source": [
    "\n",
    "\n",
    "            vet = xIde.get_det.get_det()\n",
    "            k=0\n",
    "            for m in vet:\n",
    "                prod = vet[k]\n",
    "                xProd = prod.get_prod()\n",
    "                \n",
    "                # Produto\n",
    "                prod = xProd.get_xProd() \n",
    "                \n",
    "                # Preço do Produto\n",
    "                preco =  xProd.get_vProd() \n",
    "                \n",
    "                # Codigo do Produto\n",
    "                xCod = xProd.get_cProd()\n",
    "                               \n",
    "                #Valor total da Nota Fiscal\n",
    "                valor = xIde.get_total().ICMSTot.get_vNF()\n",
    "                                \n",
    "                # Quantidade de Produto\n",
    "                qty = xProd.get_qCom()\n",
    "            \n",
    "                item[k] = {\"produto\":prod,\n",
    "                           \"qty\":qty,\n",
    "                           \"codigo\":xCod,\n",
    "                           \"preco\":preco }              \n",
    "            \n",
    "            nota_fiscal = {\n",
    "            \"numNFE\":xIde,\n",
    "            \"destino\":leiauteNFe3.parse(filename).get_infNFe().get_dest(),\n",
    "            \"valorTotal\":valor,\n",
    "            \"Cliente\":destino.xNome,\n",
    "            \"CNPJ\":destino.CNPJ,\n",
    "            \"cpf\":destino.CPF,\n",
    "            \"endereco\":destino.enderDest.xLgr,\n",
    "            \"nro\":destino.enderDest.nro,\n",
    "            \"cep\":destino.enderDest.xCpl,\n",
    "            \"bairro\":destino.enderDest.xBairro,\n",
    "            \"Munucipio\":destino.enderDest.xMun,\n",
    "            \"UF\":destino.enderDest.UF,\n",
    "            \"item\":item}\n",
    "          \n",
    "            \n",
    "\n",
    "       else:\n",
    "            #print(files[k],k)\n",
    "            #print( root.tag)\n",
    "            print(\"Tag :\",root.tag)\n",
    "            new_file, filename = tempfile.mkstemp()\n",
    "            subtree = etree.ElementTree(root[0]) # exportamentos apenas o primeiro filho\n",
    "            subtree.write(filename, encoding='utf-8')\n",
    "            nota = leiauteNFe3.parse(filename)\n",
    "\n",
    "            xIde = (leiauteNFe3.infNFeType)\n",
    "            destino=leiauteNFe3.parse(filename).get_infNFe().get_dest()\n",
    "    except etree.XMLSyntaxError:\n",
    "            bad.append(files[k])\n",
    "    except AttributeError:\n",
    "            erroAtrib.append(files[k])\n",
    "    k +=1\n",
    "\n",
    "print(k)\n"
   ]
  }
 ],
 "metadata": {
  "kernelspec": {
   "display_name": "Python 3",
   "language": "python",
   "name": "python3"
  },
  "language_info": {
   "codemirror_mode": {
    "name": "ipython",
    "version": 3
   },
   "file_extension": ".py",
   "mimetype": "text/x-python",
   "name": "python",
   "nbconvert_exporter": "python",
   "pygments_lexer": "ipython3",
   "version": "3.6.2"
  }
 },
 "nbformat": 4,
 "nbformat_minor": 2
}
