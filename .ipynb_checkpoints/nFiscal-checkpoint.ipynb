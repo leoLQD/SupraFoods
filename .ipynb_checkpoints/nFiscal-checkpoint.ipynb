{
 "cells": [
  {
   "cell_type": "code",
   "execution_count": null,
   "metadata": {
    "collapsed": true
   },
   "outputs": [],
   "source": [
    "from nfelib.v3_10 import leiauteNFe as leiauteNFe3\n",
    "from pymongo import MongoClient\n",
    "client = MongoClient('localhost', 27017)\n",
    "   "
   ]
  },
  {
   "cell_type": "code",
   "execution_count": null,
   "metadata": {
    "collapsed": true
   },
   "outputs": [],
   "source": [
    "#destino = xIde.get_dest()\n",
    "xIde = (leiauteNFe3.infNFeType) #)\\n\",\n",
    "#xIde.get_dest\\n\",\n",
    "destino = xIde.get_emit"
   ]
  },
  {
   "cell_type": "code",
   "execution_count": null,
   "metadata": {
    "collapsed": true
   },
   "outputs": [],
   "source": [
    "print(root.tag)\n",
    "if (filename[-8:])=='-nfe.xml':\n",
    "    #print(filename)\\n\",\n",
    "    tree = etree.parse(filename)\n",
    "    #parser = etree.ETCompatXMLParser()\\n\",\n",
    "    \"             #xmlschemadoc = etree.parse(filename, parser)\\n\",\n",
    "    root = tree.getroot()\\n\",\n",
    "    if root.tag !=  '{http://www.portalfiscal.inf.br/nfe}nfeProc': # or root.tag == '{http://www.portalfiscal.inf.br/nfe}NFe':\\n\",\n",
    "       \n",
    "       new_file, filename = tempfile.mkstemp()\n",
    "       subtree = etree.ElementTree(root[0]) # exportamentos apenas o primeiro filho\\n\"\n",
    "       subtree.write(filename, encoding='utf-8')\n",
    "       nota = leiauteNFe3.parse(filename)\n",
    "       print(\\\"Nota.... \\\",nota)\\n\",\n",
    "#destino=leiauteNFe3.parse(filename).get_infNFe().get_dest()"
   ]
  },
  {
   "cell_type": "code",
   "execution_count": null,
   "metadata": {
    "collapsed": true
   },
   "outputs": [],
   "source": [
    "from nfelib.v3_10 import leiauteNFe as leiauteNFe3\n",
    "from pymongo import MongoClient\n",
    "client = MongoClient('localhost', 27017)\n",
    "from lxml import etree\n",
    "import tempfile\n",
    "import os, shutil\n",
    "os.chdir('C:\\\\\\\\Mettricx\\\\Projetos\\\\\\\\SupraAlimentos\\\\\\\\bkp_xml')\n",
    "files = os.listdir()\n",
    "print(len(files))\n",
    "files.sort()\n",
    "bad=[]\n",
    "erroAtrib=[]\n",
    "NFe=[]\n",
    "k=0\n",
    "\n",
    "for x in files:\n",
    "    try:\n",
    "       tree = etree.parse(files[k])\n",
    "       root = tree.getroot()\n",
    "        \n",
    "       if  root.tag != '{http://www.portalfiscal.inf.br/nfe}NFe':\n",
    "            #natOper  = root.find('{http://www.portalfiscal.inf.br/nfe}nfeProc/{http://www.portalfiscal.inf.br/nfe}infNFe/{http://www.portalfiscal.inf.br/nfe}ide/{http://www.portalfiscal.inf.br/nfe}natOp')\\n\",\n",
    "            print(files[k],k)\n",
    "            #print(\\\"Tag NFe:\\\",root.tag)\n",
    "            NFe.append(files[k])\n",
    "            new_file, filename = tempfile.mkstemp()\n",
    "            subtree = etree.ElementTree(root[0]) # exportamentos apenas o primeiro filho\\n\",\n",
    "            subtree.write(filename, encoding='utf-8')\n",
    "            nota = leiauteNFe3.parse(filename)\n",
    "            xIde = (leiauteNFe3.infNFeType)\n",
    "            destino=leiauteNFe3.parse(filename).get_infNFe().get_dest()\n",
    "\n",
    "       else:\n",
    "            #print(files[k],k)\\n\",\n",
    "            #print( root.tag)\\n\",\n",
    "            print(\\\"Tag :\\\",root.tag)\n",
    "            new_file, filename = tempfile.mkstemp()\n",
    "            subtree = etree.ElementTree(root[0]) # exportamentos apenas o primeiro filho\\n\",\n",
    "            subtree.write(filename, encoding='utf-8')\n",
    "            nota = leiauteNFe3.parse(filename)\n",
    "\n",
    "            xIde = (leiauteNFe3.infNFeType)\n",
    "            destino=leiauteNFe3.parse(filename).get_infNFe().get_dest()\n",
    "    except etree.XMLSyntaxError:\n",
    "            bad.append(files[k])\n",
    "    except AttributeError:\n",
    "            erroAtrib.append(files[k])\n",
    "k +=1\n",
    "\n",
    "print(k)\n"
   ]
  },
  {
   "cell_type": "code",
   "execution_count": null,
   "metadata": {
    "collapsed": true
   },
   "outputs": [],
   "source": [
    "tree = etree.parse(filename)\n",
    "root = tree.getroot()\n",
    "natOper  = root.find('{http://www.portalfiscal.inf.br/nfe}NFe/{http://www.portalfiscal.inf.br/nfe}infNFe/{http://www.portalfiscal.inf.br/nfe}ide/{http://www.portalfiscal.inf.br/nfe}natOp')"
   ]
  },
  {
   "cell_type": "code",
   "execution_count": null,
   "metadata": {
    "collapsed": true
   },
   "outputs": [],
   "source": [
    "new_file, filename = tempfile.mkstemp()\n",
    "subtree = etree.ElementTree(root[0]) # exportamentos apenas o primeiro filho\\n\",\n",
    "subtree.write(filename, encoding='utf-8')\n",
    "nota = leiauteNFe3.parse(filename)"
   ]
  }
 ],
 "metadata": {
  "kernelspec": {
   "display_name": "Python 3",
   "language": "python",
   "name": "python3"
  },
  "language_info": {
   "codemirror_mode": {
    "name": "ipython",
    "version": 3
   },
   "file_extension": ".py",
   "mimetype": "text/x-python",
   "name": "python",
   "nbconvert_exporter": "python",
   "pygments_lexer": "ipython3",
   "version": "3.6.2"
  }
 },
 "nbformat": 4,
 "nbformat_minor": 2
}
